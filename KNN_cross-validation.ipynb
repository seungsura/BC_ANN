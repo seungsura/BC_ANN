{
 "cells": [
  {
   "cell_type": "code",
   "execution_count": 22,
   "metadata": {},
   "outputs": [],
   "source": [
    "import numpy as np\n",
    "import pylab as pl\n",
    "import pandas as pd\n",
    "\n",
    "from sklearn.model_selection import train_test_split\n",
    "from sklearn.preprocessing import StandardScaler\n",
    "from sklearn.neighbors import KNeighborsClassifier\n",
    "from sklearn.metrics import accuracy_score \n",
    "\n",
    "from sklearn.model_selection import StratifiedKFold \n",
    "from sklearn.model_selection import GridSearchCV  \n",
    "from sklearn.metrics import accuracy_score, plot_confusion_matrix\n",
    "import seaborn as sns\n",
    "\n",
    "import matplotlib\n",
    "import matplotlib.pyplot as plt\n",
    "from sklearn.metrics import confusion_matrix,plot_confusion_matrix"
   ]
  },
  {
   "cell_type": "code",
   "execution_count": 23,
   "metadata": {},
   "outputs": [
    {
     "data": {
      "text/plain": [
       "Amp_1MHz        0\n",
       "Phase_1MHz      0\n",
       "Amp_500kHz      0\n",
       "Phase_500kHz    0\n",
       "Amp_100kHz      0\n",
       "Phase_100kHz    0\n",
       "Amp_50kHz       0\n",
       "Phase_50kHz     0\n",
       "Amp_10kHz       0\n",
       "Phase_10kHz     0\n",
       "Label           0\n",
       "dtype: int64"
      ]
     },
     "execution_count": 23,
     "metadata": {},
     "output_type": "execute_result"
    }
   ],
   "source": [
    "data = pd.read_csv(\"bladder_cancer.csv\")\n",
    "data = data.dropna()\n",
    "data.isnull().sum()"
   ]
  },
  {
   "cell_type": "code",
   "execution_count": 24,
   "metadata": {},
   "outputs": [],
   "source": [
    "\n",
    "X = data.drop(columns=['Label'], axis=1)\n",
    "y = data['Label']\n",
    "train_feature, test_feature, train_label, test_label = train_test_split(X, y, test_size = 0.2,random_state=0)"
   ]
  },
  {
   "cell_type": "code",
   "execution_count": 25,
   "metadata": {},
   "outputs": [],
   "source": [
    "scaler = StandardScaler()\n",
    "scaler.fit(train_feature)\n",
    "train_feature_scaled = scaler.transform(train_feature)\n",
    "test_feature_scaled = scaler.transform(test_feature)"
   ]
  },
  {
   "cell_type": "code",
   "execution_count": 26,
   "metadata": {},
   "outputs": [
    {
     "name": "stdout",
     "output_type": "stream",
     "text": [
      "Fitting 10 folds for each of 49 candidates, totalling 490 fits\n"
     ]
    }
   ],
   "source": [
    "knn = KNeighborsClassifier()\n",
    "k_range = list(range(1, 50))\n",
    "param_grid = dict(n_neighbors=k_range)\n",
    "grid = GridSearchCV(knn, param_grid, cv=10, scoring='accuracy', return_train_score=False,verbose=1)\n",
    "grid_search=grid.fit(train_feature_scaled, train_label)"
   ]
  },
  {
   "cell_type": "code",
   "execution_count": 27,
   "metadata": {},
   "outputs": [
    {
     "name": "stdout",
     "output_type": "stream",
     "text": [
      "{'n_neighbors': 3}\n",
      "best_score: 0.8198830409356723\n"
     ]
    }
   ],
   "source": [
    "best_parameter=grid.best_estimator_\n",
    "print(grid_search.best_params_)\n",
    "print(\"best_score:\", grid.best_score_)"
   ]
  },
  {
   "cell_type": "code",
   "execution_count": 28,
   "metadata": {},
   "outputs": [
    {
     "data": {
      "text/plain": [
       "0.7708333333333334"
      ]
     },
     "execution_count": 28,
     "metadata": {},
     "output_type": "execute_result"
    }
   ],
   "source": [
    "predictions_test_set = best_parameter.predict(test_feature_scaled)\n",
    "\n",
    "accuracy_score(test_label, predictions_test_set)"
   ]
  },
  {
   "cell_type": "code",
   "execution_count": 29,
   "metadata": {},
   "outputs": [
    {
     "data": {
      "text/plain": [
       "0     0.814620\n",
       "1     0.766959\n",
       "2     0.819883\n",
       "3     0.735380\n",
       "4     0.809649\n",
       "5     0.713743\n",
       "6     0.761988\n",
       "7     0.714327\n",
       "8     0.735673\n",
       "9     0.714620\n",
       "10    0.719883\n",
       "11    0.698246\n",
       "12    0.708772\n",
       "13    0.692982\n",
       "14    0.714327\n",
       "15    0.687427\n",
       "16    0.698246\n",
       "17    0.654678\n",
       "18    0.671053\n",
       "19    0.660234\n",
       "20    0.681579\n",
       "21    0.654971\n",
       "22    0.671053\n",
       "23    0.644444\n",
       "24    0.665789\n",
       "25    0.649415\n",
       "26    0.665789\n",
       "27    0.638889\n",
       "28    0.654971\n",
       "29    0.628070\n",
       "30    0.644737\n",
       "31    0.628363\n",
       "32    0.644737\n",
       "33    0.622807\n",
       "34    0.639181\n",
       "35    0.622807\n",
       "36    0.628363\n",
       "37    0.623099\n",
       "38    0.628363\n",
       "39    0.617836\n",
       "40    0.623099\n",
       "41    0.617836\n",
       "42    0.623099\n",
       "43    0.601754\n",
       "44    0.612281\n",
       "45    0.601170\n",
       "46    0.612281\n",
       "47    0.596199\n",
       "48    0.601462\n",
       "Name: mean_test_score, dtype: float64"
      ]
     },
     "execution_count": 29,
     "metadata": {},
     "output_type": "execute_result"
    }
   ],
   "source": [
    "results_df = pd.DataFrame(grid.cv_results_)\n",
    "df_mean=results_df['mean_test_score']\n",
    "df_mean"
   ]
  },
  {
   "cell_type": "code",
   "execution_count": 30,
   "metadata": {},
   "outputs": [],
   "source": [
    "# set Times New Roman as global font\n",
    "from matplotlib import font_manager, rc\n",
    "from matplotlib.font_manager import FontProperties\n",
    "\n",
    "font_path = \"C:/Windows/Fonts/times.ttf\"\n",
    "font = font_manager.FontProperties(fname=font_path).get_name()\n",
    "rc('font', family=font)"
   ]
  },
  {
   "cell_type": "code",
   "execution_count": 32,
   "metadata": {},
   "outputs": [
    {
     "data": {
      "image/png": "[encoded data removed]",
      "text/plain": [
       "<Figure size 432x288 with 1 Axes>"
      ]
     },
     "metadata": {
      "needs_background": "light"
     },
     "output_type": "display_data"
    }
   ],
   "source": [
    "fig = plt.figure(1)\n",
    "ax = plt.axes()\n",
    "\n",
    "font = FontProperties()\n",
    "font.set_name('Times New Roman')\n",
    "plt.rcParams['xtick.labelsize'] = 14\n",
    "plt.rcParams['ytick.labelsize'] = 14\n",
    "\n",
    "ax.set_xlabel('Number of neighbors', fontsize=18, fontdict=dict(weight='bold'))\n",
    "ax.set_ylabel('Accuracy', fontsize=18, fontdict=dict(weight='bold'))\n",
    "\n",
    "graph = ax.plot(k_range,df_mean, \"m-\", linewidth=2)"
   ]
  },
  {
   "cell_type": "code",
   "execution_count": null,
   "metadata": {},
   "outputs": [],
   "source": []
  },
  {
   "cell_type": "code",
   "execution_count": null,
   "metadata": {},
   "outputs": [],
   "source": []
  },
  {
   "cell_type": "code",
   "execution_count": null,
   "metadata": {},
   "outputs": [],
   "source": []
  }
 ],
 "metadata": {
  "kernelspec": {
   "display_name": "Python 3.8.8 ('tensorflow')",
   "language": "python",
   "name": "python3"
  },
  "language_info": {
   "codemirror_mode": {
    "name": "ipython",
    "version": 3
   },
   "file_extension": ".py",
   "mimetype": "text/x-python",
   "name": "python",
   "nbconvert_exporter": "python",
   "pygments_lexer": "ipython3",
   "version": "3.8.8"
  },
  "orig_nbformat": 4,
  "vscode": {
   "interpreter": {
    "hash": "a67d1e513a63fb5df12a1f88f9fb53c8b960337494b38d9e1ad0fe9c421b1da6"
   }
  }
 },
 "nbformat": 4,
 "nbformat_minor": 2
}
