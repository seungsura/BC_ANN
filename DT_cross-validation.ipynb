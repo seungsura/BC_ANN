{
 "cells": [
  {
   "cell_type": "code",
   "execution_count": 145,
   "metadata": {},
   "outputs": [],
   "source": [
    "import numpy as np\n",
    "import pylab as pl\n",
    "import pandas as pd\n",
    "\n",
    "from sklearn.model_selection import train_test_split\n",
    "from sklearn.preprocessing import StandardScaler\n",
    "from sklearn.tree import DecisionTreeClassifier\n",
    "from sklearn.metrics import accuracy_score \n",
    "\n",
    "from sklearn.model_selection import StratifiedKFold \n",
    "from sklearn.model_selection import GridSearchCV  \n",
    "from sklearn.metrics import accuracy_score\n",
    "\n",
    "import seaborn as sns\n",
    "\n",
    "import matplotlib\n",
    "import matplotlib.pyplot as plt"
   ]
  },
  {
   "cell_type": "code",
   "execution_count": 146,
   "metadata": {},
   "outputs": [
    {
     "data": {
      "text/plain": [
       "Amp_1MHz        0\n",
       "Phase_1MHz      0\n",
       "Amp_500kHz      0\n",
       "Phase_500kHz    0\n",
       "Amp_100kHz      0\n",
       "Phase_100kHz    0\n",
       "Amp_50kHz       0\n",
       "Phase_50kHz     0\n",
       "Amp_10kHz       0\n",
       "Phase_10kHz     0\n",
       "Label           0\n",
       "dtype: int64"
      ]
     },
     "execution_count": 146,
     "metadata": {},
     "output_type": "execute_result"
    }
   ],
   "source": [
    "data = pd.read_csv(\"bladder_cancer.csv\")\n",
    "data = data.dropna()\n",
    "data.isnull().sum()"
   ]
  },
  {
   "cell_type": "code",
   "execution_count": 147,
   "metadata": {},
   "outputs": [],
   "source": [
    "X = data.drop(columns=['Label'], axis=1)\n",
    "y = data['Label']\n",
    "train_feature, test_feature, train_label, test_label = train_test_split(X, y, test_size = 0.2,random_state=0)"
   ]
  },
  {
   "cell_type": "code",
   "execution_count": 148,
   "metadata": {},
   "outputs": [],
   "source": [
    "scaler = StandardScaler()\n",
    "scaler.fit(train_feature)\n",
    "train_feature_scaled = scaler.transform(train_feature)\n",
    "test_feature_scaled = scaler.transform(test_feature)"
   ]
  },
  {
   "cell_type": "code",
   "execution_count": 154,
   "metadata": {},
   "outputs": [
    {
     "name": "stdout",
     "output_type": "stream",
     "text": [
      "Fitting 5 folds for each of 15 candidates, totalling 75 fits\n"
     ]
    }
   ],
   "source": [
    "estimator = DecisionTreeClassifier(random_state = 1)\n",
    "max_depth = list(range(1, 16))\n",
    "param_grid = {'criterion':['gini'], 'max_depth': max_depth}\n",
    "grid = GridSearchCV(estimator, param_grid=param_grid,cv=5,scoring='accuracy', return_train_score=False,verbose=1) \n",
    "grid_search=grid.fit(train_feature_scaled, train_label)"
   ]
  },
  {
   "cell_type": "code",
   "execution_count": 155,
   "metadata": {},
   "outputs": [
    {
     "name": "stdout",
     "output_type": "stream",
     "text": [
      "{'criterion': 'gini', 'max_depth': 4}\n",
      "best_score: 0.8833570412517779\n"
     ]
    }
   ],
   "source": [
    "best_parameter=grid.best_estimator_\n",
    "print(grid_search.best_params_)\n",
    "print(\"best_score:\", grid.best_score_)"
   ]
  },
  {
   "cell_type": "code",
   "execution_count": 156,
   "metadata": {},
   "outputs": [
    {
     "data": {
      "text/plain": [
       "0.8125"
      ]
     },
     "execution_count": 156,
     "metadata": {},
     "output_type": "execute_result"
    }
   ],
   "source": [
    "predictions_test_set = best_parameter.predict(test_feature_scaled)\n",
    "\n",
    "accuracy_score(test_label, predictions_test_set)"
   ]
  },
  {
   "cell_type": "code",
   "execution_count": 157,
   "metadata": {},
   "outputs": [
    {
     "data": {
      "text/plain": [
       "0     0.760882\n",
       "1     0.830014\n",
       "2     0.872546\n",
       "3     0.883357\n",
       "4     0.877952\n",
       "5     0.872546\n",
       "6     0.872546\n",
       "7     0.877809\n",
       "8     0.872262\n",
       "9     0.877525\n",
       "10    0.877525\n",
       "11    0.877525\n",
       "12    0.877525\n",
       "13    0.877525\n",
       "14    0.877525\n",
       "Name: mean_test_score, dtype: float64"
      ]
     },
     "execution_count": 157,
     "metadata": {},
     "output_type": "execute_result"
    }
   ],
   "source": [
    "results_df = pd.DataFrame(grid.cv_results_)\n",
    "df_mean=results_df['mean_test_score']\n",
    "df_mean"
   ]
  },
  {
   "cell_type": "code",
   "execution_count": 158,
   "metadata": {},
   "outputs": [
    {
     "data": {
      "image/png": "[encoded data removed]",
      "text/plain": [
       "<Figure size 432x288 with 1 Axes>"
      ]
     },
     "metadata": {
      "needs_background": "light"
     },
     "output_type": "display_data"
    }
   ],
   "source": [
    "fig = plt.figure(1)\n",
    "ax = plt.axes()\n",
    "\n",
    "\n",
    "plt.rcParams['xtick.labelsize'] = 14\n",
    "plt.rcParams['ytick.labelsize'] = 14\n",
    "\n",
    "ax.set_xlabel('maxdepth (N)', fontsize=18, fontdict=dict(weight='bold'))\n",
    "ax.set_ylabel('Accuracy', fontsize=18, fontdict=dict(weight='bold'))\n",
    "\n",
    "graph = ax.plot(max_depth,df_mean, \"m-\", linewidth=2)"
   ]
  },
  {
   "cell_type": "code",
   "execution_count": null,
   "metadata": {},
   "outputs": [],
   "source": []
  }
 ],
 "metadata": {
  "kernelspec": {
   "display_name": "Python 3.8.8 ('tensorflow')",
   "language": "python",
   "name": "python3"
  },
  "language_info": {
   "codemirror_mode": {
    "name": "ipython",
    "version": 3
   },
   "file_extension": ".py",
   "mimetype": "text/x-python",
   "name": "python",
   "nbconvert_exporter": "python",
   "pygments_lexer": "ipython3",
   "version": "3.8.8"
  },
  "orig_nbformat": 4,
  "vscode": {
   "interpreter": {
    "hash": "a67d1e513a63fb5df12a1f88f9fb53c8b960337494b38d9e1ad0fe9c421b1da6"
   }
  }
 },
 "nbformat": 4,
 "nbformat_minor": 2
}
