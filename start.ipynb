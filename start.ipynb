{
 "cells": [
  {
   "cell_type": "code",
   "execution_count": 31,
   "metadata": {},
   "outputs": [],
   "source": [
    "import tensorflow as tf\n",
    "from tensorflow.keras import layers\n",
    "from tensorflow.keras.layers.experimental import preprocessing\n",
    "from keras.models import Sequential\n",
    "from keras.layers import Dense, BatchNormalization ,Dropout\n",
    "from keras.callbacks import EarlyStopping, ModelCheckpoint\n",
    "from keras.wrappers.scikit_learn import KerasClassifier \n",
    "from keras import optimizers\n",
    "from math import floor\n",
    "import pandas as pd\n",
    "import numpy as np\n",
    "from sklearn.model_selection import train_test_split\n",
    "from sklearn.model_selection import cross_val_score \n",
    "from sklearn.metrics import make_scorer, accuracy_score\n",
    "from bayes_opt import BayesianOptimization\n",
    "import warnings\n",
    "from sklearn.model_selection import StratifiedKFold\n",
    "from keras.layers import LeakyReLU\n",
    "import functools\n",
    "import matplotlib.pyplot as plt\n",
    "import traceback \n",
    "import contextlib\n",
    "import seaborn as sns\n",
    "from numpy.random import seed\n",
    "seed(1)\n",
    "tf.random.set_seed(2)\n",
    "LeakyReLU = LeakyReLU(alpha=0.1)\n",
    "warnings.filterwarnings('ignore')\n",
    "pd.set_option(\"display.max_columns\", None)"
   ]
  },
  {
   "cell_type": "code",
   "execution_count": 32,
   "metadata": {},
   "outputs": [],
   "source": [
    "score_acc = make_scorer(accuracy_score)"
   ]
  },
  {
   "cell_type": "code",
   "execution_count": 33,
   "metadata": {},
   "outputs": [],
   "source": [
    "SGD = tf.keras.optimizers.SGD\n",
    "Adam = tf.keras.optimizers.Adam\n",
    "RMSprop = tf.keras.optimizers.RMSprop\n",
    "Adadelta=tf.keras.optimizers.Adadelta\n",
    "Adagrad=tf.keras.optimizers.Adagrad\n",
    "Nadam=tf.keras.optimizers.Nadam\n",
    "Ftrl=tf.keras.optimizers.Ftrl\n",
    "Adamax = tf.keras.optimizers.Adamax"
   ]
  },
  {
   "cell_type": "code",
   "execution_count": 34,
   "metadata": {},
   "outputs": [
    {
     "data": {
      "text/plain": [
       "array([[-0.70212259,  0.87691791,  1.3089513 , ...,  0.29837007,\n",
       "         0.38672978,  0.01241453],\n",
       "       [-2.75649426,  1.09072906, -0.89399574, ...,  0.17062017,\n",
       "        -0.58008862,  0.68077064],\n",
       "       [ 0.24532515, -0.38633226, -0.58649158, ...,  0.37028141,\n",
       "        -1.44227513,  1.10491147],\n",
       "       ...,\n",
       "       [-1.18210733, -0.99929518, -1.63580168, ..., -0.66027891,\n",
       "         1.69482415,  1.15727325],\n",
       "       [ 1.39072348, -0.85021045, -2.14404835, ...,  0.35723112,\n",
       "         0.05855178,  0.78050842],\n",
       "       [ 1.37015955,  0.36935711,  0.63271442, ...,  0.22917919,\n",
       "        -1.16423879,  0.0284987 ]])"
      ]
     },
     "execution_count": 34,
     "metadata": {},
     "output_type": "execute_result"
    }
   ],
   "source": [
    "bladder_cancer = pd.read_csv('bladder_cancer.csv')\n",
    "\n",
    "x = pd.DataFrame(bladder_cancer, columns=['Amp_1MHz', 'Phase_1MHz', 'Amp_500kHz', 'Phase_500kHz', 'Amp_100kHz', 'Phase_100kHz', 'Amp_50kHz', 'Phase_50kHz', 'Amp_10kHz', 'Phase_10kHz'])\n",
    "\n",
    "y = pd.DataFrame(bladder_cancer, columns=['Label'])\n",
    "\n",
    "x_mean = x.mean()\n",
    "x_std = x.std()\n",
    "x = (x-x_mean)/x_std\n",
    "\n",
    "x_data, x_test, y_data, y_test = train_test_split(x, y, test_size=0.1, random_state=1)\n",
    "\n",
    "x_train, x_val, y_train, y_val = train_test_split(x_data, y_data, test_size=0.2, random_state=1) \n",
    "x_train = np.array(x_train)\n",
    "x_val = np.array(x_val)\n",
    "x_test = np.array(x_test)\n",
    "x_train"
   ]
  },
  {
   "cell_type": "code",
   "execution_count": 35,
   "metadata": {},
   "outputs": [],
   "source": [
    "model = tf.keras.Sequential([\n",
    "   \n",
    "   layers.Dense(4, activation='relu'),\n",
    "   layers.Dense(32, activation='relu'),\n",
    "   layers.Dense(32, activation='relu'),\n",
    "   layers.Dense(1, activation='sigmoid')\n",
    "\n",
    "])\n",
    "\n",
    "model.compile(loss= 'binary_crossentropy',\n",
    "                optimizer = tf.optimizers.Adam(),\n",
    "                metrics=['accuracy'])"
   ]
  },
  {
   "cell_type": "code",
   "execution_count": 36,
   "metadata": {},
   "outputs": [
    {
     "name": "stdout",
     "output_type": "stream",
     "text": [
      "Epoch 1/65\n",
      "17/17 [==============================] - 0s 7ms/step - loss: 0.6924 - accuracy: 0.5799 - val_loss: 0.6565 - val_accuracy: 0.6512\n",
      "Epoch 2/65\n",
      "17/17 [==============================] - 0s 2ms/step - loss: 0.6609 - accuracy: 0.6509 - val_loss: 0.6323 - val_accuracy: 0.6977\n",
      "Epoch 3/65\n",
      "17/17 [==============================] - 0s 2ms/step - loss: 0.6371 - accuracy: 0.6982 - val_loss: 0.6117 - val_accuracy: 0.7209\n",
      "Epoch 4/65\n",
      "17/17 [==============================] - 0s 2ms/step - loss: 0.6151 - accuracy: 0.7041 - val_loss: 0.5898 - val_accuracy: 0.6977\n",
      "Epoch 5/65\n",
      "17/17 [==============================] - 0s 2ms/step - loss: 0.5961 - accuracy: 0.7278 - val_loss: 0.5745 - val_accuracy: 0.7209\n",
      "Epoch 6/65\n",
      "17/17 [==============================] - 0s 2ms/step - loss: 0.5741 - accuracy: 0.7278 - val_loss: 0.5503 - val_accuracy: 0.7442\n",
      "Epoch 7/65\n",
      "17/17 [==============================] - 0s 2ms/step - loss: 0.5559 - accuracy: 0.7278 - val_loss: 0.5287 - val_accuracy: 0.7674\n",
      "Epoch 8/65\n",
      "17/17 [==============================] - 0s 2ms/step - loss: 0.5392 - accuracy: 0.7396 - val_loss: 0.5116 - val_accuracy: 0.7674\n",
      "Epoch 9/65\n",
      "17/17 [==============================] - 0s 2ms/step - loss: 0.5228 - accuracy: 0.7515 - val_loss: 0.4928 - val_accuracy: 0.7674\n",
      "Epoch 10/65\n",
      "17/17 [==============================] - 0s 2ms/step - loss: 0.5079 - accuracy: 0.7574 - val_loss: 0.4768 - val_accuracy: 0.7674\n",
      "Epoch 11/65\n",
      "17/17 [==============================] - 0s 2ms/step - loss: 0.4963 - accuracy: 0.7574 - val_loss: 0.4618 - val_accuracy: 0.7674\n",
      "Epoch 12/65\n",
      "17/17 [==============================] - 0s 2ms/step - loss: 0.4863 - accuracy: 0.7574 - val_loss: 0.4463 - val_accuracy: 0.7674\n",
      "Epoch 13/65\n",
      "17/17 [==============================] - 0s 2ms/step - loss: 0.4751 - accuracy: 0.7574 - val_loss: 0.4353 - val_accuracy: 0.7674\n",
      "Epoch 14/65\n",
      "17/17 [==============================] - 0s 2ms/step - loss: 0.4681 - accuracy: 0.7633 - val_loss: 0.4300 - val_accuracy: 0.8372\n",
      "Epoch 15/65\n",
      "17/17 [==============================] - 0s 2ms/step - loss: 0.4607 - accuracy: 0.7751 - val_loss: 0.4079 - val_accuracy: 0.8140\n",
      "Epoch 16/65\n",
      "17/17 [==============================] - 0s 2ms/step - loss: 0.4524 - accuracy: 0.7870 - val_loss: 0.3977 - val_accuracy: 0.8605\n",
      "Epoch 17/65\n",
      "17/17 [==============================] - 0s 2ms/step - loss: 0.4453 - accuracy: 0.7811 - val_loss: 0.4004 - val_accuracy: 0.8605\n",
      "Epoch 18/65\n",
      "17/17 [==============================] - 0s 2ms/step - loss: 0.4367 - accuracy: 0.7870 - val_loss: 0.3867 - val_accuracy: 0.8837\n",
      "Epoch 19/65\n",
      "17/17 [==============================] - 0s 2ms/step - loss: 0.4322 - accuracy: 0.8047 - val_loss: 0.3799 - val_accuracy: 0.8837\n",
      "Epoch 20/65\n",
      "17/17 [==============================] - 0s 2ms/step - loss: 0.4250 - accuracy: 0.8047 - val_loss: 0.3747 - val_accuracy: 0.8837\n",
      "Epoch 21/65\n",
      "17/17 [==============================] - 0s 2ms/step - loss: 0.4180 - accuracy: 0.8107 - val_loss: 0.3684 - val_accuracy: 0.8837\n",
      "Epoch 22/65\n",
      "17/17 [==============================] - 0s 2ms/step - loss: 0.4146 - accuracy: 0.8047 - val_loss: 0.3604 - val_accuracy: 0.8837\n",
      "Epoch 23/65\n",
      "17/17 [==============================] - 0s 2ms/step - loss: 0.4108 - accuracy: 0.8107 - val_loss: 0.3601 - val_accuracy: 0.8837\n",
      "Epoch 24/65\n",
      "17/17 [==============================] - 0s 2ms/step - loss: 0.4044 - accuracy: 0.8107 - val_loss: 0.3554 - val_accuracy: 0.8837\n",
      "Epoch 25/65\n",
      "17/17 [==============================] - 0s 2ms/step - loss: 0.3997 - accuracy: 0.8047 - val_loss: 0.3559 - val_accuracy: 0.8837\n",
      "Epoch 26/65\n",
      "17/17 [==============================] - 0s 2ms/step - loss: 0.3941 - accuracy: 0.8107 - val_loss: 0.3501 - val_accuracy: 0.8837\n",
      "Epoch 27/65\n",
      "17/17 [==============================] - 0s 2ms/step - loss: 0.3884 - accuracy: 0.8107 - val_loss: 0.3500 - val_accuracy: 0.8837\n",
      "Epoch 28/65\n",
      "17/17 [==============================] - 0s 2ms/step - loss: 0.3869 - accuracy: 0.8107 - val_loss: 0.3509 - val_accuracy: 0.8837\n",
      "Epoch 29/65\n",
      "17/17 [==============================] - 0s 2ms/step - loss: 0.3782 - accuracy: 0.8284 - val_loss: 0.3493 - val_accuracy: 0.8837\n",
      "Epoch 30/65\n",
      "17/17 [==============================] - 0s 2ms/step - loss: 0.3741 - accuracy: 0.8343 - val_loss: 0.3462 - val_accuracy: 0.8837\n",
      "Epoch 31/65\n",
      "17/17 [==============================] - 0s 2ms/step - loss: 0.3715 - accuracy: 0.8521 - val_loss: 0.3436 - val_accuracy: 0.8837\n",
      "Epoch 32/65\n",
      "17/17 [==============================] - 0s 2ms/step - loss: 0.3656 - accuracy: 0.8521 - val_loss: 0.3421 - val_accuracy: 0.8837\n",
      "Epoch 33/65\n",
      "17/17 [==============================] - 0s 2ms/step - loss: 0.3594 - accuracy: 0.8521 - val_loss: 0.3417 - val_accuracy: 0.8837\n",
      "Epoch 34/65\n",
      "17/17 [==============================] - 0s 2ms/step - loss: 0.3565 - accuracy: 0.8521 - val_loss: 0.3422 - val_accuracy: 0.8605\n",
      "Epoch 35/65\n",
      "17/17 [==============================] - 0s 2ms/step - loss: 0.3531 - accuracy: 0.8639 - val_loss: 0.3382 - val_accuracy: 0.8605\n",
      "Epoch 36/65\n",
      "17/17 [==============================] - 0s 2ms/step - loss: 0.3490 - accuracy: 0.8580 - val_loss: 0.3396 - val_accuracy: 0.8605\n",
      "Epoch 37/65\n",
      "17/17 [==============================] - 0s 2ms/step - loss: 0.3457 - accuracy: 0.8639 - val_loss: 0.3326 - val_accuracy: 0.8837\n",
      "Epoch 38/65\n",
      "17/17 [==============================] - 0s 2ms/step - loss: 0.3398 - accuracy: 0.8698 - val_loss: 0.3282 - val_accuracy: 0.8837\n",
      "Epoch 39/65\n",
      "17/17 [==============================] - 0s 2ms/step - loss: 0.3368 - accuracy: 0.8639 - val_loss: 0.3290 - val_accuracy: 0.8605\n",
      "Epoch 40/65\n",
      "17/17 [==============================] - 0s 2ms/step - loss: 0.3348 - accuracy: 0.8580 - val_loss: 0.3256 - val_accuracy: 0.8837\n",
      "Epoch 41/65\n",
      "17/17 [==============================] - 0s 2ms/step - loss: 0.3308 - accuracy: 0.8757 - val_loss: 0.3208 - val_accuracy: 0.8837\n",
      "Epoch 42/65\n",
      "17/17 [==============================] - 0s 2ms/step - loss: 0.3282 - accuracy: 0.8698 - val_loss: 0.3212 - val_accuracy: 0.8837\n",
      "Epoch 43/65\n",
      "17/17 [==============================] - 0s 2ms/step - loss: 0.3286 - accuracy: 0.8698 - val_loss: 0.3181 - val_accuracy: 0.8605\n",
      "Epoch 44/65\n",
      "17/17 [==============================] - 0s 2ms/step - loss: 0.3210 - accuracy: 0.8757 - val_loss: 0.3136 - val_accuracy: 0.8837\n",
      "Epoch 45/65\n",
      "17/17 [==============================] - 0s 2ms/step - loss: 0.3195 - accuracy: 0.8757 - val_loss: 0.3122 - val_accuracy: 0.8837\n",
      "Epoch 46/65\n",
      "17/17 [==============================] - 0s 2ms/step - loss: 0.3150 - accuracy: 0.8757 - val_loss: 0.3078 - val_accuracy: 0.8837\n",
      "Epoch 47/65\n",
      "17/17 [==============================] - 0s 2ms/step - loss: 0.3133 - accuracy: 0.8757 - val_loss: 0.3050 - val_accuracy: 0.8605\n",
      "Epoch 48/65\n",
      "17/17 [==============================] - 0s 2ms/step - loss: 0.3113 - accuracy: 0.8757 - val_loss: 0.2998 - val_accuracy: 0.8605\n",
      "Epoch 49/65\n",
      "17/17 [==============================] - 0s 2ms/step - loss: 0.3074 - accuracy: 0.8757 - val_loss: 0.2988 - val_accuracy: 0.8837\n",
      "Epoch 50/65\n",
      "17/17 [==============================] - 0s 2ms/step - loss: 0.3056 - accuracy: 0.8757 - val_loss: 0.2995 - val_accuracy: 0.8837\n",
      "Epoch 51/65\n",
      "17/17 [==============================] - 0s 2ms/step - loss: 0.3031 - accuracy: 0.8817 - val_loss: 0.2931 - val_accuracy: 0.8837\n",
      "Epoch 52/65\n",
      "17/17 [==============================] - 0s 2ms/step - loss: 0.2996 - accuracy: 0.8817 - val_loss: 0.2885 - val_accuracy: 0.8837\n",
      "Epoch 53/65\n",
      "17/17 [==============================] - 0s 2ms/step - loss: 0.2972 - accuracy: 0.8757 - val_loss: 0.2852 - val_accuracy: 0.8837\n",
      "Epoch 54/65\n",
      "17/17 [==============================] - 0s 2ms/step - loss: 0.2950 - accuracy: 0.8817 - val_loss: 0.2846 - val_accuracy: 0.8605\n",
      "Epoch 55/65\n",
      "17/17 [==============================] - 0s 2ms/step - loss: 0.2927 - accuracy: 0.8817 - val_loss: 0.2800 - val_accuracy: 0.8605\n",
      "Epoch 56/65\n",
      "17/17 [==============================] - 0s 2ms/step - loss: 0.2907 - accuracy: 0.8876 - val_loss: 0.2810 - val_accuracy: 0.8605\n",
      "Epoch 57/65\n",
      "17/17 [==============================] - 0s 2ms/step - loss: 0.2894 - accuracy: 0.8817 - val_loss: 0.2739 - val_accuracy: 0.8837\n",
      "Epoch 58/65\n",
      "17/17 [==============================] - 0s 2ms/step - loss: 0.2900 - accuracy: 0.8757 - val_loss: 0.2758 - val_accuracy: 0.8837\n",
      "Epoch 59/65\n",
      "17/17 [==============================] - 0s 2ms/step - loss: 0.2837 - accuracy: 0.8876 - val_loss: 0.2748 - val_accuracy: 0.8837\n",
      "Epoch 60/65\n",
      "17/17 [==============================] - 0s 2ms/step - loss: 0.2852 - accuracy: 0.8817 - val_loss: 0.2745 - val_accuracy: 0.8837\n",
      "Epoch 61/65\n",
      "17/17 [==============================] - 0s 2ms/step - loss: 0.2809 - accuracy: 0.8876 - val_loss: 0.2681 - val_accuracy: 0.8837\n",
      "Epoch 62/65\n",
      "17/17 [==============================] - 0s 2ms/step - loss: 0.2809 - accuracy: 0.8935 - val_loss: 0.2649 - val_accuracy: 0.8837\n",
      "Epoch 63/65\n",
      "17/17 [==============================] - 0s 2ms/step - loss: 0.2791 - accuracy: 0.8817 - val_loss: 0.2646 - val_accuracy: 0.8837\n",
      "Epoch 64/65\n",
      "17/17 [==============================] - 0s 2ms/step - loss: 0.2748 - accuracy: 0.8876 - val_loss: 0.2714 - val_accuracy: 0.8837\n",
      "Epoch 65/65\n",
      "17/17 [==============================] - 0s 2ms/step - loss: 0.2731 - accuracy: 0.8935 - val_loss: 0.2675 - val_accuracy: 0.8837\n"
     ]
    }
   ],
   "source": [
    "history = model.fit(x_train, y_train, epochs=65, batch_size=10, validation_data=(x_val, y_val), verbose=1)"
   ]
  },
  {
   "cell_type": "code",
   "execution_count": 37,
   "metadata": {},
   "outputs": [
    {
     "name": "stdout",
     "output_type": "stream",
     "text": [
      "6/6 - 0s - loss: 0.2680 - accuracy: 0.8994 - 14ms/epoch - 2ms/step\n",
      "2/2 - 0s - loss: 0.2675 - accuracy: 0.8837 - 13ms/epoch - 6ms/step\n",
      "1/1 - 0s - loss: 0.2747 - accuracy: 0.9167 - 13ms/epoch - 13ms/step\n",
      "[[0.29622048]]\n"
     ]
    }
   ],
   "source": [
    "model.evaluate(x_train,  y_train, verbose=2)\n",
    "model.evaluate(x_val,  y_val, verbose=2)\n",
    "model.evaluate(x_test,  y_test, verbose=2)\n",
    "\n",
    "prediction = model.predict(x_test[:1])\n",
    "print(prediction)"
   ]
  },
  {
   "cell_type": "code",
   "execution_count": 38,
   "metadata": {},
   "outputs": [
    {
     "data": {
      "text/plain": [
       "dict_keys(['loss', 'accuracy', 'val_loss', 'val_accuracy'])"
      ]
     },
     "execution_count": 38,
     "metadata": {},
     "output_type": "execute_result"
    }
   ],
   "source": [
    "history_dict = history.history\n",
    "history_dict.keys()"
   ]
  },
  {
   "cell_type": "code",
   "execution_count": 39,
   "metadata": {},
   "outputs": [
    {
     "data": {
      "image/png": "[encoded data removed]",
      "text/plain": [
       "<Figure size 432x288 with 1 Axes>"
      ]
     },
     "metadata": {
      "needs_background": "light"
     },
     "output_type": "display_data"
    }
   ],
   "source": [
    "\n",
    "\n",
    "acc = history_dict['accuracy']\n",
    "val_acc = history_dict['val_accuracy']\n",
    "loss = history_dict['loss']\n",
    "val_loss = history_dict['val_loss']\n",
    "\n",
    "epochs = range(1, len(acc) + 1)\n",
    "\n",
    "\n",
    "plt.plot(epochs, loss, 'ro', label='Training loss')\n",
    "\n",
    "plt.plot(epochs, val_loss, 'b', label='Validation loss')\n",
    "plt.title('Training and validation loss')\n",
    "plt.xlabel('Epochs')\n",
    "plt.ylabel('Loss')\n",
    "plt.legend()\n",
    "\n",
    "plt.show() "
   ]
  },
  {
   "cell_type": "code",
   "execution_count": 40,
   "metadata": {},
   "outputs": [
    {
     "data": {
      "image/png": "[encoded data removed]",
      "text/plain": [
       "<Figure size 432x288 with 1 Axes>"
      ]
     },
     "metadata": {
      "needs_background": "light"
     },
     "output_type": "display_data"
    }
   ],
   "source": [
    "plt.clf()  \n",
    "\n",
    "plt.plot(epochs, acc, 'ro', label='Training acc')\n",
    "plt.plot(epochs, val_acc, 'b', label='Validation acc')\n",
    "plt.title('Training and validation accuracy')\n",
    "plt.xlabel('Epochs')\n",
    "plt.ylabel('Accuracy')\n",
    "plt.legend()\n",
    "\n",
    "plt.show()"
   ]
  },
  {
   "cell_type": "code",
   "execution_count": 76,
   "metadata": {},
   "outputs": [],
   "source": [
    "#링크 따라함\n",
    "\n",
    "def nn_cl_bo2(neurons, activation, optimizer, learning_rate, batch_size, epochs,\n",
    "              layers1, layers2, layers3, normalization, dropout, dropout_rate):\n",
    "    optimizerL = ['SGD', 'Adam', 'RMSprop', 'Adadelta', 'Adagrad', 'Adamax', 'Nadam', 'Ftrl','SGD']\n",
    "    optimizerD= {'Adam':Adam(lr=learning_rate), 'SGD':SGD(lr=learning_rate),\n",
    "                 'RMSprop':RMSprop(lr=learning_rate), 'Adadelta':Adadelta(lr=learning_rate),\n",
    "                 'Adagrad':Adagrad(lr=learning_rate), 'Adamax':Adamax(lr=learning_rate),\n",
    "                 'Nadam':Nadam(lr=learning_rate), 'Ftrl':Ftrl(lr=learning_rate)}\n",
    "    activationL = ['relu', 'sigmoid', 'softplus', 'softsign', 'tanh', 'selu',\n",
    "                   'elu', 'exponential', LeakyReLU,'relu']\n",
    "    neurons = round(neurons)\n",
    "    activation = activationL[round(activation)]\n",
    "    optimizer = optimizerD[optimizerL[round(optimizer)]]\n",
    "    batch_size = round(batch_size)\n",
    "    epochs = round(epochs)\n",
    "    layers1 = round(layers1)\n",
    "    layers2 = round(layers2)\n",
    "    layers3 = round(layers3)\n",
    "    def nn_cl_fun():\n",
    "        nn = Sequential()\n",
    "        nn.add(Dense(neurons, input_dim=10, activation=activation))\n",
    "        if normalization > 0.5:\n",
    "            nn.add(BatchNormalization())\n",
    "        for i in range(layers1):\n",
    "            nn.add(Dense(neurons, activation=activation))\n",
    "        if dropout > 0.5:\n",
    "            nn.add(Dropout(dropout_rate, seed=123))\n",
    "        for i in range(layers2):\n",
    "            nn.add(Dense(neurons, activation=activation))\n",
    "        for i in range(layers3):\n",
    "            nn.add(Dense(neurons, activation=activation))\n",
    "        nn.add(Dense(1, activation='sigmoid'))\n",
    "        nn.compile(loss='binary_crossentropy', optimizer=optimizer, metrics=['accuracy'])\n",
    "        return nn\n",
    "    es = EarlyStopping(monitor='accuracy', mode='max', verbose=0, patience=20)\n",
    "    nn = KerasClassifier(build_fn=nn_cl_fun, epochs=epochs, batch_size=batch_size, verbose=0)\n",
    "    kfold = StratifiedKFold(n_splits=5, shuffle=True, random_state=123)\n",
    "    score = cross_val_score(nn, x_train, y_train, scoring=score_acc, cv=kfold, fit_params={'callbacks':[es]}).mean()\n",
    "    return score"
   ]
  },
  {
   "cell_type": "code",
   "execution_count": 77,
   "metadata": {},
   "outputs": [
    {
     "name": "stdout",
     "output_type": "stream",
     "text": [
      "|   iter    |  target   | activa... | batch_... |  dropout  | dropou... |  epochs   |  layers1  |  layers2  |  layers3  | learni... |  neurons  | normal... | optimizer |\n",
      "-------------------------------------------------------------------------------------------------------------------------------------------------------------------------\n",
      "| \u001b[0m 1       \u001b[0m | \u001b[0m 0.734   \u001b[0m | \u001b[0m 5.51    \u001b[0m | \u001b[0m 335.3   \u001b[0m | \u001b[0m 0.4361  \u001b[0m | \u001b[0m 0.2308  \u001b[0m | \u001b[0m 43.63   \u001b[0m | \u001b[0m 1.298   \u001b[0m | \u001b[0m 1.045   \u001b[0m | \u001b[0m 1.84    \u001b[0m | \u001b[0m 0.2463  \u001b[0m | \u001b[0m 40.39   \u001b[0m | \u001b[0m 0.9907  \u001b[0m | \u001b[0m 1.664   \u001b[0m |\n",
      "| \u001b[0m 2       \u001b[0m | \u001b[0m 0.5091  \u001b[0m | \u001b[0m 0.7307  \u001b[0m | \u001b[0m 735.7   \u001b[0m | \u001b[0m 0.6212  \u001b[0m | \u001b[0m 0.08228 \u001b[0m | \u001b[0m 57.3    \u001b[0m | \u001b[0m 1.237   \u001b[0m | \u001b[0m 1.148   \u001b[0m | \u001b[0m 2.802   \u001b[0m | \u001b[0m 0.796   \u001b[0m | \u001b[0m 85.65   \u001b[0m | \u001b[0m 0.8152  \u001b[0m | \u001b[0m 6.937   \u001b[0m |\n",
      "| \u001b[0m 3       \u001b[0m | \u001b[0m 0.4676  \u001b[0m | \u001b[0m 5.195   \u001b[0m | \u001b[0m 851.0   \u001b[0m | \u001b[0m 0.4213  \u001b[0m | \u001b[0m 0.008234\u001b[0m | \u001b[0m 56.33   \u001b[0m | \u001b[0m 1.211   \u001b[0m | \u001b[0m 2.634   \u001b[0m | \u001b[0m 2.395   \u001b[0m | \u001b[0m 0.5696  \u001b[0m | \u001b[0m 34.68   \u001b[0m | \u001b[0m 0.9985  \u001b[0m | \u001b[0m 0.9663  \u001b[0m |\n",
      "| \u001b[0m 4       \u001b[0m | \u001b[0m 0.5561  \u001b[0m | \u001b[0m 5.539   \u001b[0m | \u001b[0m 588.0   \u001b[0m | \u001b[0m 0.405   \u001b[0m | \u001b[0m 0.2184  \u001b[0m | \u001b[0m 45.83   \u001b[0m | \u001b[0m 1.801   \u001b[0m | \u001b[0m 1.638   \u001b[0m | \u001b[0m 2.894   \u001b[0m | \u001b[0m 0.9195  \u001b[0m | \u001b[0m 83.25   \u001b[0m | \u001b[0m 0.03408 \u001b[0m | \u001b[0m 6.604   \u001b[0m |\n",
      "| \u001b[95m 5       \u001b[0m | \u001b[95m 0.8583  \u001b[0m | \u001b[95m 8.554   \u001b[0m | \u001b[95m 845.3   \u001b[0m | \u001b[95m 0.4813  \u001b[0m | \u001b[95m 0.29    \u001b[0m | \u001b[95m 53.36   \u001b[0m | \u001b[95m 1.638   \u001b[0m | \u001b[95m 1.033   \u001b[0m | \u001b[95m 1.076   \u001b[0m | \u001b[95m 0.06256 \u001b[0m | \u001b[95m 21.52   \u001b[0m | \u001b[95m 0.03338 \u001b[0m | \u001b[95m 1.585   \u001b[0m |\n",
      "| \u001b[0m 6       \u001b[0m | \u001b[0m 0.5561  \u001b[0m | \u001b[0m 4.895   \u001b[0m | \u001b[0m 342.9   \u001b[0m | \u001b[0m 0.1793  \u001b[0m | \u001b[0m 0.04488 \u001b[0m | \u001b[0m 74.64   \u001b[0m | \u001b[0m 1.938   \u001b[0m | \u001b[0m 2.536   \u001b[0m | \u001b[0m 2.338   \u001b[0m | \u001b[0m 0.4469  \u001b[0m | \u001b[0m 63.57   \u001b[0m | \u001b[0m 0.4617  \u001b[0m | \u001b[0m 6.743   \u001b[0m |\n",
      "| \u001b[0m 7       \u001b[0m | \u001b[0m 0.538   \u001b[0m | \u001b[0m 1.33    \u001b[0m | \u001b[0m 925.5   \u001b[0m | \u001b[0m 0.4979  \u001b[0m | \u001b[0m 0.1777  \u001b[0m | \u001b[0m 74.77   \u001b[0m | \u001b[0m 1.355   \u001b[0m | \u001b[0m 2.729   \u001b[0m | \u001b[0m 1.964   \u001b[0m | \u001b[0m 0.07865 \u001b[0m | \u001b[0m 42.83   \u001b[0m | \u001b[0m 0.3615  \u001b[0m | \u001b[0m 3.304   \u001b[0m |\n",
      "| \u001b[0m 8       \u001b[0m | \u001b[0m 0.415   \u001b[0m | \u001b[0m 1.615   \u001b[0m | \u001b[0m 340.2   \u001b[0m | \u001b[0m 0.9491  \u001b[0m | \u001b[0m 0.1967  \u001b[0m | \u001b[0m 30.8    \u001b[0m | \u001b[0m 2.856   \u001b[0m | \u001b[0m 2.684   \u001b[0m | \u001b[0m 1.106   \u001b[0m | \u001b[0m 0.2116  \u001b[0m | \u001b[0m 88.53   \u001b[0m | \u001b[0m 0.6738  \u001b[0m | \u001b[0m 2.081   \u001b[0m |\n",
      "| \u001b[0m 9       \u001b[0m | \u001b[0m 0.5561  \u001b[0m | \u001b[0m 6.61    \u001b[0m | \u001b[0m 694.7   \u001b[0m | \u001b[0m 0.2105  \u001b[0m | \u001b[0m 0.2406  \u001b[0m | \u001b[0m 24.73   \u001b[0m | \u001b[0m 1.616   \u001b[0m | \u001b[0m 1.415   \u001b[0m | \u001b[0m 2.944   \u001b[0m | \u001b[0m 0.9103  \u001b[0m | \u001b[0m 70.88   \u001b[0m | \u001b[0m 0.1152  \u001b[0m | \u001b[0m 6.706   \u001b[0m |\n",
      "| \u001b[0m 10      \u001b[0m | \u001b[0m 0.5561  \u001b[0m | \u001b[0m 0.8254  \u001b[0m | \u001b[0m 703.8   \u001b[0m | \u001b[0m 0.9029  \u001b[0m | \u001b[0m 0.1019  \u001b[0m | \u001b[0m 72.22   \u001b[0m | \u001b[0m 2.85    \u001b[0m | \u001b[0m 1.748   \u001b[0m | \u001b[0m 2.543   \u001b[0m | \u001b[0m 0.8972  \u001b[0m | \u001b[0m 65.82   \u001b[0m | \u001b[0m 0.1511  \u001b[0m | \u001b[0m 2.624   \u001b[0m |\n",
      "| \u001b[0m 11      \u001b[0m | \u001b[0m 0.5561  \u001b[0m | \u001b[0m 5.723   \u001b[0m | \u001b[0m 567.3   \u001b[0m | \u001b[0m 0.5322  \u001b[0m | \u001b[0m 0.1057  \u001b[0m | \u001b[0m 72.79   \u001b[0m | \u001b[0m 1.953   \u001b[0m | \u001b[0m 1.909   \u001b[0m | \u001b[0m 1.25    \u001b[0m | \u001b[0m 0.4183  \u001b[0m | \u001b[0m 34.58   \u001b[0m | \u001b[0m 0.3467  \u001b[0m | \u001b[0m 6.821   \u001b[0m |\n",
      "| \u001b[0m 12      \u001b[0m | \u001b[0m 0.6326  \u001b[0m | \u001b[0m 1.94    \u001b[0m | \u001b[0m 746.3   \u001b[0m | \u001b[0m 0.03181 \u001b[0m | \u001b[0m 0.2506  \u001b[0m | \u001b[0m 76.13   \u001b[0m | \u001b[0m 2.932   \u001b[0m | \u001b[0m 2.184   \u001b[0m | \u001b[0m 1.435   \u001b[0m | \u001b[0m 0.722   \u001b[0m | \u001b[0m 12.78   \u001b[0m | \u001b[0m 0.4187  \u001b[0m | \u001b[0m 1.969   \u001b[0m |\n",
      "| \u001b[0m 13      \u001b[0m | \u001b[0m 0.5326  \u001b[0m | \u001b[0m 0.9562  \u001b[0m | \u001b[0m 541.1   \u001b[0m | \u001b[0m 0.8406  \u001b[0m | \u001b[0m 0.03312 \u001b[0m | \u001b[0m 98.93   \u001b[0m | \u001b[0m 1.467   \u001b[0m | \u001b[0m 2.443   \u001b[0m | \u001b[0m 2.322   \u001b[0m | \u001b[0m 0.08698 \u001b[0m | \u001b[0m 72.76   \u001b[0m | \u001b[0m 0.2653  \u001b[0m | \u001b[0m 6.313   \u001b[0m |\n",
      "| \u001b[0m 14      \u001b[0m | \u001b[0m 0.5561  \u001b[0m | \u001b[0m 7.364   \u001b[0m | \u001b[0m 519.4   \u001b[0m | \u001b[0m 0.8203  \u001b[0m | \u001b[0m 0.05934 \u001b[0m | \u001b[0m 61.8    \u001b[0m | \u001b[0m 1.825   \u001b[0m | \u001b[0m 2.852   \u001b[0m | \u001b[0m 2.651   \u001b[0m | \u001b[0m 0.506   \u001b[0m | \u001b[0m 20.51   \u001b[0m | \u001b[0m 0.01159 \u001b[0m | \u001b[0m 6.392   \u001b[0m |\n",
      "| \u001b[0m 15      \u001b[0m | \u001b[0m 0.5561  \u001b[0m | \u001b[0m 4.612   \u001b[0m | \u001b[0m 874.5   \u001b[0m | \u001b[0m 0.09485 \u001b[0m | \u001b[0m 0.241   \u001b[0m | \u001b[0m 24.98   \u001b[0m | \u001b[0m 2.271   \u001b[0m | \u001b[0m 2.938   \u001b[0m | \u001b[0m 1.795   \u001b[0m | \u001b[0m 0.663   \u001b[0m | \u001b[0m 29.34   \u001b[0m | \u001b[0m 0.8899  \u001b[0m | \u001b[0m 6.906   \u001b[0m |\n",
      "| \u001b[0m 16      \u001b[0m | \u001b[0m 0.5561  \u001b[0m | \u001b[0m 6.648   \u001b[0m | \u001b[0m 713.2   \u001b[0m | \u001b[0m 0.2522  \u001b[0m | \u001b[0m 0.1427  \u001b[0m | \u001b[0m 41.44   \u001b[0m | \u001b[0m 2.737   \u001b[0m | \u001b[0m 1.534   \u001b[0m | \u001b[0m 2.946   \u001b[0m | \u001b[0m 0.2214  \u001b[0m | \u001b[0m 36.8    \u001b[0m | \u001b[0m 0.7368  \u001b[0m | \u001b[0m 0.09024 \u001b[0m |\n",
      "| \u001b[0m 17      \u001b[0m | \u001b[0m 0.7693  \u001b[0m | \u001b[0m 0.2721  \u001b[0m | \u001b[0m 787.1   \u001b[0m | \u001b[0m 0.4983  \u001b[0m | \u001b[0m 0.06542 \u001b[0m | \u001b[0m 20.71   \u001b[0m | \u001b[0m 2.701   \u001b[0m | \u001b[0m 2.073   \u001b[0m | \u001b[0m 2.447   \u001b[0m | \u001b[0m 0.6649  \u001b[0m | \u001b[0m 85.49   \u001b[0m | \u001b[0m 0.3882  \u001b[0m | \u001b[0m 2.983   \u001b[0m |\n",
      "| \u001b[0m 18      \u001b[0m | \u001b[0m 0.5561  \u001b[0m | \u001b[0m 7.453   \u001b[0m | \u001b[0m 575.2   \u001b[0m | \u001b[0m 0.82    \u001b[0m | \u001b[0m 0.004253\u001b[0m | \u001b[0m 51.74   \u001b[0m | \u001b[0m 1.257   \u001b[0m | \u001b[0m 1.236   \u001b[0m | \u001b[0m 1.412   \u001b[0m | \u001b[0m 0.7502  \u001b[0m | \u001b[0m 93.71   \u001b[0m | \u001b[0m 0.3807  \u001b[0m | \u001b[0m 3.224   \u001b[0m |\n",
      "| \u001b[0m 19      \u001b[0m | \u001b[0m 0.6091  \u001b[0m | \u001b[0m 7.86    \u001b[0m | \u001b[0m 851.6   \u001b[0m | \u001b[0m 0.02497 \u001b[0m | \u001b[0m 0.2619  \u001b[0m | \u001b[0m 68.36   \u001b[0m | \u001b[0m 2.033   \u001b[0m | \u001b[0m 2.179   \u001b[0m | \u001b[0m 2.6     \u001b[0m | \u001b[0m 0.1815  \u001b[0m | \u001b[0m 26.82   \u001b[0m | \u001b[0m 0.2582  \u001b[0m | \u001b[0m 0.3575  \u001b[0m |\n",
      "| \u001b[0m 20      \u001b[0m | \u001b[0m 0.5091  \u001b[0m | \u001b[0m 4.974   \u001b[0m | \u001b[0m 481.5   \u001b[0m | \u001b[0m 0.917   \u001b[0m | \u001b[0m 0.143   \u001b[0m | \u001b[0m 28.36   \u001b[0m | \u001b[0m 1.305   \u001b[0m | \u001b[0m 1.547   \u001b[0m | \u001b[0m 2.563   \u001b[0m | \u001b[0m 0.3992  \u001b[0m | \u001b[0m 81.9    \u001b[0m | \u001b[0m 0.4331  \u001b[0m | \u001b[0m 0.5709  \u001b[0m |\n",
      "| \u001b[0m 21      \u001b[0m | \u001b[0m 0.5144  \u001b[0m | \u001b[0m 0.09579 \u001b[0m | \u001b[0m 544.7   \u001b[0m | \u001b[0m 0.6628  \u001b[0m | \u001b[0m 0.1546  \u001b[0m | \u001b[0m 66.41   \u001b[0m | \u001b[0m 1.986   \u001b[0m | \u001b[0m 2.481   \u001b[0m | \u001b[0m 2.579   \u001b[0m | \u001b[0m 0.7833  \u001b[0m | \u001b[0m 21.48   \u001b[0m | \u001b[0m 0.9401  \u001b[0m | \u001b[0m 6.144   \u001b[0m |\n",
      "| \u001b[0m 22      \u001b[0m | \u001b[0m 0.4968  \u001b[0m | \u001b[0m 6.296   \u001b[0m | \u001b[0m 949.5   \u001b[0m | \u001b[0m 0.6738  \u001b[0m | \u001b[0m 0.1783  \u001b[0m | \u001b[0m 47.6    \u001b[0m | \u001b[0m 1.167   \u001b[0m | \u001b[0m 2.159   \u001b[0m | \u001b[0m 1.035   \u001b[0m | \u001b[0m 0.5569  \u001b[0m | \u001b[0m 66.93   \u001b[0m | \u001b[0m 0.6784  \u001b[0m | \u001b[0m 1.194   \u001b[0m |\n",
      "| \u001b[0m 23      \u001b[0m | \u001b[0m 0.8053  \u001b[0m | \u001b[0m 5.194   \u001b[0m | \u001b[0m 364.8   \u001b[0m | \u001b[0m 0.2515  \u001b[0m | \u001b[0m 0.2908  \u001b[0m | \u001b[0m 91.73   \u001b[0m | \u001b[0m 1.246   \u001b[0m | \u001b[0m 2.762   \u001b[0m | \u001b[0m 2.896   \u001b[0m | \u001b[0m 0.4653  \u001b[0m | \u001b[0m 47.17   \u001b[0m | \u001b[0m 0.5771  \u001b[0m | \u001b[0m 2.684   \u001b[0m |\n",
      "| \u001b[0m 24      \u001b[0m | \u001b[0m 0.5144  \u001b[0m | \u001b[0m 1.478   \u001b[0m | \u001b[0m 719.0   \u001b[0m | \u001b[0m 0.249   \u001b[0m | \u001b[0m 0.1977  \u001b[0m | \u001b[0m 92.03   \u001b[0m | \u001b[0m 2.815   \u001b[0m | \u001b[0m 2.459   \u001b[0m | \u001b[0m 1.35    \u001b[0m | \u001b[0m 0.4233  \u001b[0m | \u001b[0m 32.88   \u001b[0m | \u001b[0m 0.7372  \u001b[0m | \u001b[0m 2.601   \u001b[0m |\n",
      "| \u001b[0m 25      \u001b[0m | \u001b[0m 0.5383  \u001b[0m | \u001b[0m 4.042   \u001b[0m | \u001b[0m 949.6   \u001b[0m | \u001b[0m 0.8131  \u001b[0m | \u001b[0m 0.009076\u001b[0m | \u001b[0m 40.51   \u001b[0m | \u001b[0m 2.159   \u001b[0m | \u001b[0m 1.767   \u001b[0m | \u001b[0m 2.556   \u001b[0m | \u001b[0m 0.5343  \u001b[0m | \u001b[0m 20.44   \u001b[0m | \u001b[0m 0.7644  \u001b[0m | \u001b[0m 1.346   \u001b[0m |\n",
      "| \u001b[0m 26      \u001b[0m | \u001b[0m 0.5561  \u001b[0m | \u001b[0m 2.039   \u001b[0m | \u001b[0m 710.0   \u001b[0m | \u001b[0m 0.5623  \u001b[0m | \u001b[0m 0.1176  \u001b[0m | \u001b[0m 68.94   \u001b[0m | \u001b[0m 2.045   \u001b[0m | \u001b[0m 1.937   \u001b[0m | \u001b[0m 2.376   \u001b[0m | \u001b[0m 0.5092  \u001b[0m | \u001b[0m 67.51   \u001b[0m | \u001b[0m 0.1842  \u001b[0m | \u001b[0m 2.896   \u001b[0m |\n",
      "| \u001b[0m 27      \u001b[0m | \u001b[0m 0.6693  \u001b[0m | \u001b[0m 4.556   \u001b[0m | \u001b[0m 367.0   \u001b[0m | \u001b[0m 0.1459  \u001b[0m | \u001b[0m 0.294   \u001b[0m | \u001b[0m 91.44   \u001b[0m | \u001b[0m 1.193   \u001b[0m | \u001b[0m 2.731   \u001b[0m | \u001b[0m 3.0     \u001b[0m | \u001b[0m 0.414   \u001b[0m | \u001b[0m 48.45   \u001b[0m | \u001b[0m 0.6331  \u001b[0m | \u001b[0m 2.345   \u001b[0m |\n",
      "| \u001b[0m 28      \u001b[0m | \u001b[0m 0.6815  \u001b[0m | \u001b[0m 2.655   \u001b[0m | \u001b[0m 366.0   \u001b[0m | \u001b[0m 0.1234  \u001b[0m | \u001b[0m 0.04457 \u001b[0m | \u001b[0m 90.31   \u001b[0m | \u001b[0m 1.983   \u001b[0m | \u001b[0m 2.093   \u001b[0m | \u001b[0m 2.99    \u001b[0m | \u001b[0m 0.03568 \u001b[0m | \u001b[0m 49.65   \u001b[0m | \u001b[0m 0.7208  \u001b[0m | \u001b[0m 2.905   \u001b[0m |\n",
      "| \u001b[0m 29      \u001b[0m | \u001b[0m 0.8528  \u001b[0m | \u001b[0m 5.306   \u001b[0m | \u001b[0m 364.9   \u001b[0m | \u001b[0m 0.1724  \u001b[0m | \u001b[0m 0.1702  \u001b[0m | \u001b[0m 92.1    \u001b[0m | \u001b[0m 1.082   \u001b[0m | \u001b[0m 2.964   \u001b[0m | \u001b[0m 2.524   \u001b[0m | \u001b[0m 0.1076  \u001b[0m | \u001b[0m 47.48   \u001b[0m | \u001b[0m 0.08664 \u001b[0m | \u001b[0m 4.978   \u001b[0m |\n",
      "=========================================================================================================================================================================\n"
     ]
    }
   ],
   "source": [
    "params_nn2 ={\n",
    "    'neurons': (10, 100),\n",
    "    'activation':(0, 9),\n",
    "    'optimizer':(0,7),\n",
    "    'learning_rate':(0.01, 1),\n",
    "    'batch_size':(200, 1000),\n",
    "    'epochs':(20, 100),\n",
    "    'layers1':(1,3),\n",
    "    'layers2':(1,3),\n",
    "    'layers3':(1,3),\n",
    "    'normalization':(0,1),\n",
    "    'dropout':(0,1),\n",
    "    'dropout_rate':(0,0.3)\n",
    "}\n",
    "# Run Bayesian Optimization\n",
    "nn_bo = BayesianOptimization(nn_cl_bo2, params_nn2, random_state=111)\n",
    "nn_bo.maximize(init_points=25, n_iter=4)"
   ]
  },
  {
   "cell_type": "code",
   "execution_count": 78,
   "metadata": {},
   "outputs": [
    {
     "data": {
      "text/plain": [
       "{'activation': 'relu',\n",
       " 'batch_size': 845,\n",
       " 'dropout': 0.4812780422030105,\n",
       " 'dropout_rate': 0.29002776782897205,\n",
       " 'epochs': 53,\n",
       " 'layers1': 2,\n",
       " 'layers2': 1,\n",
       " 'layers3': 1,\n",
       " 'learning_rate': 0.06255875394054013,\n",
       " 'neurons': 22,\n",
       " 'normalization': 0.033383159457254785,\n",
       " 'optimizer': <keras.optimizer_v2.rmsprop.RMSprop at 0x1667e65a250>}"
      ]
     },
     "execution_count": 78,
     "metadata": {},
     "output_type": "execute_result"
    }
   ],
   "source": [
    "params_nn_ = nn_bo.max['params']\n",
    "learning_rate = params_nn_['learning_rate']\n",
    "activationL = ['relu', 'sigmoid', 'softplus', 'softsign', 'tanh', 'selu',\n",
    "               'elu', 'exponential', LeakyReLU,'relu']\n",
    "params_nn_['activation'] = activationL[round(params_nn_['activation'])]\n",
    "params_nn_['batch_size'] = round(params_nn_['batch_size'])\n",
    "params_nn_['epochs'] = round(params_nn_['epochs'])\n",
    "params_nn_['layers1'] = round(params_nn_['layers1'])\n",
    "params_nn_['layers2'] = round(params_nn_['layers2'])\n",
    "params_nn_['layers3'] = round(params_nn_['layers3'])\n",
    "params_nn_['neurons'] = round(params_nn_['neurons'])\n",
    "optimizerL = ['Adam', 'SGD', 'RMSprop', 'Adadelta', 'Adagrad', 'Adamax', 'Nadam', 'Ftrl','Adam']\n",
    "optimizerD= {'Adam':Adam(lr=learning_rate), 'SGD':SGD(lr=learning_rate),\n",
    "             'RMSprop':RMSprop(lr=learning_rate), 'Adadelta':Adadelta(lr=learning_rate),\n",
    "             'Adagrad':Adagrad(lr=learning_rate), 'Adamax':Adamax(lr=learning_rate),\n",
    "             'Nadam':Nadam(lr=learning_rate), 'Ftrl':Ftrl(lr=learning_rate)}\n",
    "params_nn_['optimizer'] = optimizerD[optimizerL[round(params_nn_['optimizer'])]]\n",
    "params_nn_"
   ]
  },
  {
   "cell_type": "code",
   "execution_count": 79,
   "metadata": {},
   "outputs": [
    {
     "name": "stdout",
     "output_type": "stream",
     "text": [
      "Epoch 1/53\n",
      "1/1 [==============================] - 1s 584ms/step - loss: 0.6842 - accuracy: 0.4379 - val_loss: 20.0686 - val_accuracy: 0.3953\n",
      "Epoch 2/53\n",
      "1/1 [==============================] - 0s 17ms/step - loss: 15.0048 - accuracy: 0.4438 - val_loss: 1.0847 - val_accuracy: 0.6047\n",
      "Epoch 3/53\n",
      "1/1 [==============================] - 0s 19ms/step - loss: 1.2821 - accuracy: 0.5562 - val_loss: 0.6705 - val_accuracy: 0.6047\n",
      "Epoch 4/53\n",
      "1/1 [==============================] - 0s 18ms/step - loss: 0.6832 - accuracy: 0.5562 - val_loss: 0.6815 - val_accuracy: 0.7674\n",
      "Epoch 5/53\n",
      "1/1 [==============================] - 0s 18ms/step - loss: 0.6785 - accuracy: 0.7751 - val_loss: 0.6283 - val_accuracy: 0.7674\n",
      "Epoch 6/53\n",
      "1/1 [==============================] - 0s 18ms/step - loss: 0.6277 - accuracy: 0.6746 - val_loss: 0.6459 - val_accuracy: 0.6977\n",
      "Epoch 7/53\n",
      "1/1 [==============================] - 0s 21ms/step - loss: 0.5671 - accuracy: 0.7692 - val_loss: 0.6466 - val_accuracy: 0.6047\n",
      "Epoch 8/53\n",
      "1/1 [==============================] - 0s 18ms/step - loss: 0.6331 - accuracy: 0.5976 - val_loss: 0.4663 - val_accuracy: 0.8605\n",
      "Epoch 9/53\n",
      "1/1 [==============================] - 0s 19ms/step - loss: 0.4020 - accuracy: 0.8343 - val_loss: 0.4444 - val_accuracy: 0.8605\n",
      "Epoch 10/53\n",
      "1/1 [==============================] - 0s 17ms/step - loss: 0.3169 - accuracy: 0.8876 - val_loss: 0.7014 - val_accuracy: 0.7442\n",
      "Epoch 11/53\n",
      "1/1 [==============================] - 0s 18ms/step - loss: 0.5812 - accuracy: 0.7870 - val_loss: 0.7667 - val_accuracy: 0.6512\n",
      "Epoch 12/53\n",
      "1/1 [==============================] - 0s 18ms/step - loss: 0.5822 - accuracy: 0.6746 - val_loss: 0.3583 - val_accuracy: 0.8605\n",
      "Epoch 13/53\n",
      "1/1 [==============================] - 0s 18ms/step - loss: 0.2867 - accuracy: 0.8935 - val_loss: 0.3432 - val_accuracy: 0.8605\n",
      "Epoch 14/53\n",
      "1/1 [==============================] - 0s 18ms/step - loss: 0.2298 - accuracy: 0.9231 - val_loss: 0.3319 - val_accuracy: 0.8605\n",
      "Epoch 15/53\n",
      "1/1 [==============================] - 0s 18ms/step - loss: 0.1964 - accuracy: 0.9231 - val_loss: 0.3285 - val_accuracy: 0.8605\n",
      "Epoch 16/53\n",
      "1/1 [==============================] - 0s 20ms/step - loss: 0.1736 - accuracy: 0.9349 - val_loss: 0.3209 - val_accuracy: 0.8605\n",
      "Epoch 17/53\n",
      "1/1 [==============================] - 0s 18ms/step - loss: 0.1431 - accuracy: 0.9467 - val_loss: 0.3519 - val_accuracy: 0.8140\n",
      "Epoch 18/53\n",
      "1/1 [==============================] - 0s 19ms/step - loss: 0.1220 - accuracy: 0.9645 - val_loss: 0.3689 - val_accuracy: 0.8372\n",
      "Epoch 19/53\n",
      "1/1 [==============================] - 0s 17ms/step - loss: 0.1047 - accuracy: 0.9645 - val_loss: 0.3602 - val_accuracy: 0.8372\n",
      "Epoch 20/53\n",
      "1/1 [==============================] - 0s 18ms/step - loss: 0.0915 - accuracy: 0.9763 - val_loss: 0.3620 - val_accuracy: 0.8605\n",
      "Epoch 21/53\n",
      "1/1 [==============================] - 0s 18ms/step - loss: 0.0861 - accuracy: 0.9763 - val_loss: 0.3793 - val_accuracy: 0.8605\n",
      "Epoch 22/53\n",
      "1/1 [==============================] - 0s 19ms/step - loss: 0.0927 - accuracy: 0.9704 - val_loss: 0.3430 - val_accuracy: 0.8837\n",
      "Epoch 23/53\n",
      "1/1 [==============================] - 0s 18ms/step - loss: 0.1183 - accuracy: 0.9467 - val_loss: 0.7204 - val_accuracy: 0.8140\n",
      "Epoch 24/53\n",
      "1/1 [==============================] - 0s 20ms/step - loss: 0.2989 - accuracy: 0.8817 - val_loss: 1.6099 - val_accuracy: 0.6977\n",
      "Epoch 25/53\n",
      "1/1 [==============================] - 0s 17ms/step - loss: 0.7520 - accuracy: 0.7929 - val_loss: 0.7313 - val_accuracy: 0.6512\n",
      "Epoch 26/53\n",
      "1/1 [==============================] - 0s 17ms/step - loss: 0.5703 - accuracy: 0.6746 - val_loss: 0.3554 - val_accuracy: 0.8605\n",
      "Epoch 27/53\n",
      "1/1 [==============================] - 0s 17ms/step - loss: 0.2284 - accuracy: 0.9053 - val_loss: 0.3237 - val_accuracy: 0.8605\n",
      "Epoch 28/53\n",
      "1/1 [==============================] - 0s 17ms/step - loss: 0.1267 - accuracy: 0.9586 - val_loss: 0.3209 - val_accuracy: 0.8837\n",
      "Epoch 29/53\n",
      "1/1 [==============================] - 0s 17ms/step - loss: 0.0957 - accuracy: 0.9704 - val_loss: 0.3382 - val_accuracy: 0.9070\n",
      "Epoch 30/53\n",
      "1/1 [==============================] - 0s 17ms/step - loss: 0.0773 - accuracy: 0.9822 - val_loss: 0.2930 - val_accuracy: 0.8837\n",
      "Epoch 31/53\n",
      "1/1 [==============================] - 0s 18ms/step - loss: 0.0647 - accuracy: 0.9822 - val_loss: 0.3375 - val_accuracy: 0.8837\n",
      "Epoch 32/53\n",
      "1/1 [==============================] - 0s 18ms/step - loss: 0.0556 - accuracy: 0.9822 - val_loss: 0.4085 - val_accuracy: 0.8837\n",
      "Epoch 33/53\n",
      "1/1 [==============================] - 0s 19ms/step - loss: 0.0486 - accuracy: 0.9822 - val_loss: 0.4853 - val_accuracy: 0.8605\n",
      "Epoch 34/53\n",
      "1/1 [==============================] - 0s 17ms/step - loss: 0.0406 - accuracy: 0.9822 - val_loss: 0.5581 - val_accuracy: 0.8837\n",
      "Epoch 35/53\n",
      "1/1 [==============================] - 0s 18ms/step - loss: 0.0300 - accuracy: 0.9941 - val_loss: 0.7186 - val_accuracy: 0.8605\n",
      "Epoch 36/53\n",
      "1/1 [==============================] - 0s 18ms/step - loss: 0.0179 - accuracy: 0.9941 - val_loss: 0.8370 - val_accuracy: 0.8605\n",
      "Epoch 37/53\n",
      "1/1 [==============================] - 0s 18ms/step - loss: 0.0128 - accuracy: 0.9941 - val_loss: 0.7430 - val_accuracy: 0.8837\n",
      "Epoch 38/53\n",
      "1/1 [==============================] - 0s 17ms/step - loss: 0.0062 - accuracy: 1.0000 - val_loss: 1.3145 - val_accuracy: 0.8140\n",
      "Epoch 39/53\n",
      "1/1 [==============================] - 0s 19ms/step - loss: 0.0121 - accuracy: 0.9941 - val_loss: 0.5968 - val_accuracy: 0.8605\n",
      "Epoch 40/53\n",
      "1/1 [==============================] - 0s 17ms/step - loss: 0.1725 - accuracy: 0.9586 - val_loss: 1.6712 - val_accuracy: 0.8140\n",
      "Epoch 41/53\n",
      "1/1 [==============================] - 0s 18ms/step - loss: 0.4664 - accuracy: 0.9172 - val_loss: 0.8356 - val_accuracy: 0.8140\n",
      "Epoch 42/53\n",
      "1/1 [==============================] - 0s 19ms/step - loss: 0.6032 - accuracy: 0.8462 - val_loss: 0.3743 - val_accuracy: 0.8140\n",
      "Epoch 43/53\n",
      "1/1 [==============================] - 0s 17ms/step - loss: 0.1643 - accuracy: 0.9349 - val_loss: 0.3083 - val_accuracy: 0.8837\n",
      "Epoch 44/53\n",
      "1/1 [==============================] - 0s 20ms/step - loss: 0.0802 - accuracy: 0.9822 - val_loss: 0.3203 - val_accuracy: 0.8837\n",
      "Epoch 45/53\n",
      "1/1 [==============================] - 0s 19ms/step - loss: 0.0523 - accuracy: 0.9941 - val_loss: 0.3396 - val_accuracy: 0.8837\n",
      "Epoch 46/53\n",
      "1/1 [==============================] - 0s 18ms/step - loss: 0.0364 - accuracy: 0.9941 - val_loss: 0.3738 - val_accuracy: 0.8837\n",
      "Epoch 47/53\n",
      "1/1 [==============================] - 0s 19ms/step - loss: 0.0232 - accuracy: 1.0000 - val_loss: 0.4383 - val_accuracy: 0.8837\n",
      "Epoch 48/53\n",
      "1/1 [==============================] - 0s 17ms/step - loss: 0.0149 - accuracy: 1.0000 - val_loss: 0.4897 - val_accuracy: 0.8837\n",
      "Epoch 49/53\n",
      "1/1 [==============================] - 0s 17ms/step - loss: 0.0102 - accuracy: 1.0000 - val_loss: 0.5511 - val_accuracy: 0.8837\n",
      "Epoch 50/53\n",
      "1/1 [==============================] - 0s 19ms/step - loss: 0.0060 - accuracy: 1.0000 - val_loss: 0.6301 - val_accuracy: 0.8837\n",
      "Epoch 51/53\n",
      "1/1 [==============================] - 0s 18ms/step - loss: 0.0034 - accuracy: 1.0000 - val_loss: 0.7034 - val_accuracy: 0.8837\n",
      "Epoch 52/53\n",
      "1/1 [==============================] - 0s 17ms/step - loss: 0.0015 - accuracy: 1.0000 - val_loss: 0.7626 - val_accuracy: 0.8837\n",
      "Epoch 53/53\n",
      "1/1 [==============================] - 0s 18ms/step - loss: 7.2513e-04 - accuracy: 1.0000 - val_loss: 0.8061 - val_accuracy: 0.8837\n"
     ]
    },
    {
     "data": {
      "text/plain": [
       "<keras.callbacks.History at 0x166073b3160>"
      ]
     },
     "execution_count": 79,
     "metadata": {},
     "output_type": "execute_result"
    }
   ],
   "source": [
    "def nn_cl_fun():\n",
    "\n",
    "    nn = Sequential()\n",
    "    nn.add(Dense(params_nn_['neurons'], input_dim=10, activation=params_nn_['activation']))\n",
    "    if params_nn_['normalization'] > 0.5:\n",
    "            nn.add(BatchNormalization())\n",
    "    for i in range(params_nn_['layers1']):\n",
    "            nn.add(Dense(params_nn_['neurons'], activation=params_nn_['activation']))\n",
    "    if params_nn_['dropout'] > 0.5:\n",
    "            nn.add(Dropout(params_nn_['dropout_rate'], seed=123))\n",
    "    for i in range(params_nn_['layers2']):\n",
    "            nn.add(Dense(params_nn_['neurons'], activation=params_nn_['activation']))\n",
    "    for i in range(params_nn_['layers3']):\n",
    "            nn.add(Dense(params_nn_['neurons'], activation=params_nn_['activation']))\n",
    "    nn.add(Dense(1, activation='sigmoid'))\n",
    "    nn.compile(loss='binary_crossentropy', optimizer=params_nn_['optimizer'], metrics=['accuracy'])\n",
    "    return nn\n",
    "es = EarlyStopping(monitor='accuracy', mode='max', verbose=0, patience=20)\n",
    "nn = KerasClassifier(build_fn=nn_cl_fun, epochs=params_nn_['epochs'], batch_size=params_nn_['batch_size'],\n",
    "                         verbose=0)\n",
    "nn.fit(x_train, y_train, validation_data=(x_val, y_val), verbose=1)"
   ]
  },
  {
   "cell_type": "code",
   "execution_count": 80,
   "metadata": {},
   "outputs": [
    {
     "data": {
      "text/plain": [
       "(1.0, 0.8837209343910217, 0.8333333134651184)"
      ]
     },
     "execution_count": 80,
     "metadata": {},
     "output_type": "execute_result"
    }
   ],
   "source": [
    "nn.score(x_train, y_train), nn.score(x_val,  y_val), nn.score(x_test,  y_test)"
   ]
  },
  {
   "cell_type": "code",
   "execution_count": null,
   "metadata": {},
   "outputs": [],
   "source": []
  }
 ],
 "metadata": {
  "kernelspec": {
   "display_name": "Python 3.8.11 ('tensorflow')",
   "language": "python",
   "name": "python3"
  },
  "language_info": {
   "codemirror_mode": {
    "name": "ipython",
    "version": 3
   },
   "file_extension": ".py",
   "mimetype": "text/x-python",
   "name": "python",
   "nbconvert_exporter": "python",
   "pygments_lexer": "ipython3",
   "version": "3.8.11"
  },
  "orig_nbformat": 4,
  "vscode": {
   "interpreter": {
    "hash": "a67d1e513a63fb5df12a1f88f9fb53c8b960337494b38d9e1ad0fe9c421b1da6"
   }
  }
 },
 "nbformat": 4,
 "nbformat_minor": 2
}
