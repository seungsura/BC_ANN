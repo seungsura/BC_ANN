{
 "cells": [
  {
   "cell_type": "code",
   "execution_count": 315,
   "metadata": {},
   "outputs": [],
   "source": [
    "import tensorflow as tf\n",
    "from tensorflow.keras import layers\n",
    "from tensorflow.keras.layers.experimental import preprocessing\n",
    "import pandas as pd\n",
    "import numpy as np\n",
    "from sklearn.model_selection import train_test_split\n",
    "import functools\n",
    "import matplotlib.pyplot as plt\n",
    "import traceback \n",
    "import contextlib\n",
    "from numpy.random import seed\n",
    "seed(1)\n",
    "tf.random.set_seed(2)"
   ]
  },
  {
   "cell_type": "code",
   "execution_count": 316,
   "metadata": {},
   "outputs": [
    {
     "data": {
      "text/plain": [
       "array([[-0.70212259,  0.87691791,  1.3089513 , ...,  0.29837007,\n",
       "         0.38672978,  0.01241453],\n",
       "       [-2.75649426,  1.09072906, -0.89399574, ...,  0.17062017,\n",
       "        -0.58008862,  0.68077064],\n",
       "       [ 0.24532515, -0.38633226, -0.58649158, ...,  0.37028141,\n",
       "        -1.44227513,  1.10491147],\n",
       "       ...,\n",
       "       [-1.18210733, -0.99929518, -1.63580168, ..., -0.66027891,\n",
       "         1.69482415,  1.15727325],\n",
       "       [ 1.39072348, -0.85021045, -2.14404835, ...,  0.35723112,\n",
       "         0.05855178,  0.78050842],\n",
       "       [ 1.37015955,  0.36935711,  0.63271442, ...,  0.22917919,\n",
       "        -1.16423879,  0.0284987 ]])"
      ]
     },
     "execution_count": 316,
     "metadata": {},
     "output_type": "execute_result"
    }
   ],
   "source": [
    "bladder_cancer = pd.read_csv('bladder_cancer.csv')\n",
    "\n",
    "x = pd.DataFrame(bladder_cancer, columns=['Amp_1MHz', 'Phase_1MHz', 'Amp_500kHz', 'Phase_500kHz', 'Amp_100kHz', 'Phase_100kHz', 'Amp_50kHz', 'Phase_50kHz', 'Amp_10kHz', 'Phase_10kHz'])\n",
    "\n",
    "y = pd.DataFrame(bladder_cancer, columns=['Label'])\n",
    "\n",
    "x_mean = x.mean()\n",
    "x_std = x.std()\n",
    "x = (x-x_mean)/x_std\n",
    "\n",
    "x_data, x_test, y_data, y_test = train_test_split(x, y, test_size=0.1, random_state=1)\n",
    "\n",
    "x_train, x_val, y_train, y_val = train_test_split(x_data, y_data, test_size=0.2, random_state=1) \n",
    "x_train = np.array(x_train)\n",
    "x_val = np.array(x_val)\n",
    "x_test = np.array(x_test)\n",
    "x_train"
   ]
  },
  {
   "cell_type": "code",
   "execution_count": 317,
   "metadata": {},
   "outputs": [],
   "source": [
    "model = tf.keras.Sequential([\n",
    "   \n",
    "   layers.Dense(8, activation='relu'),\n",
    "   layers.Dense(16, activation='relu'),\n",
    "   layers.Dense(16, activation='sigmoid'),\n",
    "   layers.Dense(1, activation='sigmoid')\n",
    "\n",
    "])\n",
    "\n",
    "model.compile(loss= 'binary_crossentropy',\n",
    "                optimizer = tf.optimizers.Adam(),\n",
    "                metrics=['accuracy'])"
   ]
  },
  {
   "cell_type": "code",
   "execution_count": 318,
   "metadata": {},
   "outputs": [
    {
     "name": "stdout",
     "output_type": "stream",
     "text": [
      "Epoch 1/100\n",
      "17/17 [==============================] - 0s 7ms/step - loss: 0.7153 - accuracy: 0.4024 - val_loss: 0.7005 - val_accuracy: 0.5116\n",
      "Epoch 2/100\n",
      "17/17 [==============================] - 0s 2ms/step - loss: 0.7042 - accuracy: 0.4911 - val_loss: 0.6895 - val_accuracy: 0.5349\n",
      "Epoch 3/100\n",
      "17/17 [==============================] - 0s 2ms/step - loss: 0.6963 - accuracy: 0.5562 - val_loss: 0.6828 - val_accuracy: 0.6279\n",
      "Epoch 4/100\n",
      "17/17 [==============================] - 0s 2ms/step - loss: 0.6904 - accuracy: 0.5562 - val_loss: 0.6775 - val_accuracy: 0.6279\n",
      "Epoch 5/100\n",
      "17/17 [==============================] - 0s 2ms/step - loss: 0.6863 - accuracy: 0.5799 - val_loss: 0.6737 - val_accuracy: 0.6512\n",
      "Epoch 6/100\n",
      "17/17 [==============================] - 0s 2ms/step - loss: 0.6807 - accuracy: 0.5917 - val_loss: 0.6706 - val_accuracy: 0.6744\n",
      "Epoch 7/100\n",
      "17/17 [==============================] - 0s 2ms/step - loss: 0.6750 - accuracy: 0.6095 - val_loss: 0.6668 - val_accuracy: 0.6744\n",
      "Epoch 8/100\n",
      "17/17 [==============================] - 0s 2ms/step - loss: 0.6698 - accuracy: 0.6213 - val_loss: 0.6638 - val_accuracy: 0.6744\n",
      "Epoch 9/100\n",
      "17/17 [==============================] - 0s 2ms/step - loss: 0.6621 - accuracy: 0.6331 - val_loss: 0.6588 - val_accuracy: 0.6744\n",
      "Epoch 10/100\n",
      "17/17 [==============================] - 0s 2ms/step - loss: 0.6541 - accuracy: 0.6391 - val_loss: 0.6536 - val_accuracy: 0.6744\n",
      "Epoch 11/100\n",
      "17/17 [==============================] - 0s 2ms/step - loss: 0.6460 - accuracy: 0.6627 - val_loss: 0.6477 - val_accuracy: 0.6744\n",
      "Epoch 12/100\n",
      "17/17 [==============================] - 0s 2ms/step - loss: 0.6343 - accuracy: 0.6746 - val_loss: 0.6403 - val_accuracy: 0.6512\n",
      "Epoch 13/100\n",
      "17/17 [==============================] - 0s 2ms/step - loss: 0.6221 - accuracy: 0.6923 - val_loss: 0.6334 - val_accuracy: 0.6512\n",
      "Epoch 14/100\n",
      "17/17 [==============================] - 0s 2ms/step - loss: 0.6087 - accuracy: 0.7041 - val_loss: 0.6259 - val_accuracy: 0.6279\n",
      "Epoch 15/100\n",
      "17/17 [==============================] - 0s 2ms/step - loss: 0.5930 - accuracy: 0.7396 - val_loss: 0.6152 - val_accuracy: 0.6047\n",
      "Epoch 16/100\n",
      "17/17 [==============================] - 0s 2ms/step - loss: 0.5771 - accuracy: 0.7337 - val_loss: 0.6040 - val_accuracy: 0.6047\n",
      "Epoch 17/100\n",
      "17/17 [==============================] - 0s 2ms/step - loss: 0.5595 - accuracy: 0.7337 - val_loss: 0.5944 - val_accuracy: 0.6512\n",
      "Epoch 18/100\n",
      "17/17 [==============================] - 0s 2ms/step - loss: 0.5409 - accuracy: 0.7456 - val_loss: 0.5825 - val_accuracy: 0.6512\n",
      "Epoch 19/100\n",
      "17/17 [==============================] - 0s 2ms/step - loss: 0.5244 - accuracy: 0.7456 - val_loss: 0.5713 - val_accuracy: 0.6512\n",
      "Epoch 20/100\n",
      "17/17 [==============================] - 0s 1ms/step - loss: 0.5056 - accuracy: 0.7633 - val_loss: 0.5618 - val_accuracy: 0.6512\n",
      "Epoch 21/100\n",
      "17/17 [==============================] - 0s 2ms/step - loss: 0.4878 - accuracy: 0.7811 - val_loss: 0.5530 - val_accuracy: 0.6512\n",
      "Epoch 22/100\n",
      "17/17 [==============================] - 0s 2ms/step - loss: 0.4704 - accuracy: 0.7811 - val_loss: 0.5446 - val_accuracy: 0.6512\n",
      "Epoch 23/100\n",
      "17/17 [==============================] - 0s 2ms/step - loss: 0.4546 - accuracy: 0.7988 - val_loss: 0.5371 - val_accuracy: 0.6744\n",
      "Epoch 24/100\n",
      "17/17 [==============================] - 0s 2ms/step - loss: 0.4380 - accuracy: 0.8047 - val_loss: 0.5290 - val_accuracy: 0.6744\n",
      "Epoch 25/100\n",
      "17/17 [==============================] - 0s 2ms/step - loss: 0.4214 - accuracy: 0.8166 - val_loss: 0.5237 - val_accuracy: 0.6977\n",
      "Epoch 26/100\n",
      "17/17 [==============================] - 0s 2ms/step - loss: 0.4060 - accuracy: 0.8107 - val_loss: 0.5191 - val_accuracy: 0.6977\n",
      "Epoch 27/100\n",
      "17/17 [==============================] - 0s 2ms/step - loss: 0.3916 - accuracy: 0.8284 - val_loss: 0.5133 - val_accuracy: 0.6977\n",
      "Epoch 28/100\n",
      "17/17 [==============================] - 0s 2ms/step - loss: 0.3784 - accuracy: 0.8402 - val_loss: 0.5094 - val_accuracy: 0.7442\n",
      "Epoch 29/100\n",
      "17/17 [==============================] - 0s 2ms/step - loss: 0.3630 - accuracy: 0.8462 - val_loss: 0.5034 - val_accuracy: 0.7442\n",
      "Epoch 30/100\n",
      "17/17 [==============================] - 0s 1ms/step - loss: 0.3506 - accuracy: 0.8580 - val_loss: 0.5005 - val_accuracy: 0.7442\n",
      "Epoch 31/100\n",
      "17/17 [==============================] - 0s 2ms/step - loss: 0.3391 - accuracy: 0.8580 - val_loss: 0.5001 - val_accuracy: 0.7442\n",
      "Epoch 32/100\n",
      "17/17 [==============================] - 0s 2ms/step - loss: 0.3281 - accuracy: 0.8698 - val_loss: 0.4986 - val_accuracy: 0.7442\n",
      "Epoch 33/100\n",
      "17/17 [==============================] - 0s 2ms/step - loss: 0.3162 - accuracy: 0.8876 - val_loss: 0.4948 - val_accuracy: 0.7209\n",
      "Epoch 34/100\n",
      "17/17 [==============================] - 0s 2ms/step - loss: 0.3061 - accuracy: 0.8935 - val_loss: 0.4920 - val_accuracy: 0.7442\n",
      "Epoch 35/100\n",
      "17/17 [==============================] - 0s 2ms/step - loss: 0.2957 - accuracy: 0.8935 - val_loss: 0.4880 - val_accuracy: 0.7674\n",
      "Epoch 36/100\n",
      "17/17 [==============================] - 0s 2ms/step - loss: 0.2860 - accuracy: 0.8994 - val_loss: 0.4877 - val_accuracy: 0.7907\n",
      "Epoch 37/100\n",
      "17/17 [==============================] - 0s 2ms/step - loss: 0.2781 - accuracy: 0.8994 - val_loss: 0.4871 - val_accuracy: 0.7674\n",
      "Epoch 38/100\n",
      "17/17 [==============================] - 0s 2ms/step - loss: 0.2692 - accuracy: 0.8994 - val_loss: 0.4837 - val_accuracy: 0.7907\n",
      "Epoch 39/100\n",
      "17/17 [==============================] - 0s 2ms/step - loss: 0.2610 - accuracy: 0.9053 - val_loss: 0.4814 - val_accuracy: 0.7907\n",
      "Epoch 40/100\n",
      "17/17 [==============================] - 0s 2ms/step - loss: 0.2540 - accuracy: 0.9112 - val_loss: 0.4834 - val_accuracy: 0.7907\n",
      "Epoch 41/100\n",
      "17/17 [==============================] - 0s 2ms/step - loss: 0.2471 - accuracy: 0.9112 - val_loss: 0.4831 - val_accuracy: 0.7907\n",
      "Epoch 42/100\n",
      "17/17 [==============================] - 0s 2ms/step - loss: 0.2404 - accuracy: 0.9112 - val_loss: 0.4812 - val_accuracy: 0.7907\n",
      "Epoch 43/100\n",
      "17/17 [==============================] - 0s 2ms/step - loss: 0.2355 - accuracy: 0.9112 - val_loss: 0.4752 - val_accuracy: 0.7907\n",
      "Epoch 44/100\n",
      "17/17 [==============================] - 0s 2ms/step - loss: 0.2290 - accuracy: 0.9290 - val_loss: 0.4783 - val_accuracy: 0.7907\n",
      "Epoch 45/100\n",
      "17/17 [==============================] - 0s 2ms/step - loss: 0.2230 - accuracy: 0.9172 - val_loss: 0.4813 - val_accuracy: 0.7907\n",
      "Epoch 46/100\n",
      "17/17 [==============================] - 0s 2ms/step - loss: 0.2182 - accuracy: 0.9231 - val_loss: 0.4815 - val_accuracy: 0.7907\n",
      "Epoch 47/100\n",
      "17/17 [==============================] - 0s 2ms/step - loss: 0.2126 - accuracy: 0.9290 - val_loss: 0.4709 - val_accuracy: 0.7907\n",
      "Epoch 48/100\n",
      "17/17 [==============================] - 0s 2ms/step - loss: 0.2077 - accuracy: 0.9408 - val_loss: 0.4668 - val_accuracy: 0.8140\n",
      "Epoch 49/100\n",
      "17/17 [==============================] - 0s 2ms/step - loss: 0.2025 - accuracy: 0.9408 - val_loss: 0.4632 - val_accuracy: 0.8140\n",
      "Epoch 50/100\n",
      "17/17 [==============================] - 0s 2ms/step - loss: 0.1982 - accuracy: 0.9467 - val_loss: 0.4676 - val_accuracy: 0.8140\n",
      "Epoch 51/100\n",
      "17/17 [==============================] - 0s 2ms/step - loss: 0.1943 - accuracy: 0.9408 - val_loss: 0.4639 - val_accuracy: 0.8372\n",
      "Epoch 52/100\n",
      "17/17 [==============================] - 0s 2ms/step - loss: 0.1894 - accuracy: 0.9467 - val_loss: 0.4599 - val_accuracy: 0.8372\n",
      "Epoch 53/100\n",
      "17/17 [==============================] - 0s 2ms/step - loss: 0.1850 - accuracy: 0.9467 - val_loss: 0.4575 - val_accuracy: 0.8140\n",
      "Epoch 54/100\n",
      "17/17 [==============================] - 0s 2ms/step - loss: 0.1811 - accuracy: 0.9467 - val_loss: 0.4620 - val_accuracy: 0.8372\n",
      "Epoch 55/100\n",
      "17/17 [==============================] - 0s 2ms/step - loss: 0.1770 - accuracy: 0.9467 - val_loss: 0.4562 - val_accuracy: 0.8372\n",
      "Epoch 56/100\n",
      "17/17 [==============================] - 0s 2ms/step - loss: 0.1733 - accuracy: 0.9467 - val_loss: 0.4563 - val_accuracy: 0.8372\n",
      "Epoch 57/100\n",
      "17/17 [==============================] - 0s 2ms/step - loss: 0.1692 - accuracy: 0.9527 - val_loss: 0.4542 - val_accuracy: 0.8372\n",
      "Epoch 58/100\n",
      "17/17 [==============================] - 0s 2ms/step - loss: 0.1657 - accuracy: 0.9467 - val_loss: 0.4471 - val_accuracy: 0.8372\n",
      "Epoch 59/100\n",
      "17/17 [==============================] - 0s 2ms/step - loss: 0.1613 - accuracy: 0.9527 - val_loss: 0.4426 - val_accuracy: 0.8372\n",
      "Epoch 60/100\n",
      "17/17 [==============================] - 0s 2ms/step - loss: 0.1587 - accuracy: 0.9586 - val_loss: 0.4470 - val_accuracy: 0.8372\n",
      "Epoch 61/100\n",
      "17/17 [==============================] - 0s 2ms/step - loss: 0.1545 - accuracy: 0.9586 - val_loss: 0.4368 - val_accuracy: 0.8372\n",
      "Epoch 62/100\n",
      "17/17 [==============================] - 0s 2ms/step - loss: 0.1507 - accuracy: 0.9586 - val_loss: 0.4311 - val_accuracy: 0.8372\n",
      "Epoch 63/100\n",
      "17/17 [==============================] - 0s 2ms/step - loss: 0.1474 - accuracy: 0.9586 - val_loss: 0.4299 - val_accuracy: 0.8372\n",
      "Epoch 64/100\n",
      "17/17 [==============================] - 0s 2ms/step - loss: 0.1433 - accuracy: 0.9586 - val_loss: 0.4303 - val_accuracy: 0.8372\n",
      "Epoch 65/100\n",
      "17/17 [==============================] - 0s 2ms/step - loss: 0.1397 - accuracy: 0.9586 - val_loss: 0.4290 - val_accuracy: 0.8372\n",
      "Epoch 66/100\n",
      "17/17 [==============================] - 0s 2ms/step - loss: 0.1361 - accuracy: 0.9586 - val_loss: 0.4239 - val_accuracy: 0.8372\n",
      "Epoch 67/100\n",
      "17/17 [==============================] - 0s 2ms/step - loss: 0.1329 - accuracy: 0.9645 - val_loss: 0.4245 - val_accuracy: 0.8372\n",
      "Epoch 68/100\n",
      "17/17 [==============================] - 0s 2ms/step - loss: 0.1292 - accuracy: 0.9645 - val_loss: 0.4204 - val_accuracy: 0.8372\n",
      "Epoch 69/100\n",
      "17/17 [==============================] - 0s 2ms/step - loss: 0.1272 - accuracy: 0.9645 - val_loss: 0.4280 - val_accuracy: 0.8372\n",
      "Epoch 70/100\n",
      "17/17 [==============================] - 0s 2ms/step - loss: 0.1228 - accuracy: 0.9645 - val_loss: 0.4170 - val_accuracy: 0.8372\n",
      "Epoch 71/100\n",
      "17/17 [==============================] - 0s 2ms/step - loss: 0.1199 - accuracy: 0.9645 - val_loss: 0.4123 - val_accuracy: 0.8372\n",
      "Epoch 72/100\n",
      "17/17 [==============================] - 0s 2ms/step - loss: 0.1171 - accuracy: 0.9645 - val_loss: 0.4074 - val_accuracy: 0.8372\n",
      "Epoch 73/100\n",
      "17/17 [==============================] - 0s 2ms/step - loss: 0.1136 - accuracy: 0.9645 - val_loss: 0.4054 - val_accuracy: 0.8372\n",
      "Epoch 74/100\n",
      "17/17 [==============================] - 0s 2ms/step - loss: 0.1108 - accuracy: 0.9763 - val_loss: 0.4077 - val_accuracy: 0.8372\n",
      "Epoch 75/100\n",
      "17/17 [==============================] - 0s 2ms/step - loss: 0.1077 - accuracy: 0.9763 - val_loss: 0.4045 - val_accuracy: 0.8605\n",
      "Epoch 76/100\n",
      "17/17 [==============================] - 0s 2ms/step - loss: 0.1056 - accuracy: 0.9704 - val_loss: 0.4076 - val_accuracy: 0.8372\n",
      "Epoch 77/100\n",
      "17/17 [==============================] - 0s 2ms/step - loss: 0.1028 - accuracy: 0.9763 - val_loss: 0.4027 - val_accuracy: 0.8605\n",
      "Epoch 78/100\n",
      "17/17 [==============================] - 0s 2ms/step - loss: 0.1000 - accuracy: 0.9763 - val_loss: 0.3982 - val_accuracy: 0.8605\n",
      "Epoch 79/100\n",
      "17/17 [==============================] - 0s 2ms/step - loss: 0.0968 - accuracy: 0.9822 - val_loss: 0.4009 - val_accuracy: 0.8605\n",
      "Epoch 80/100\n",
      "17/17 [==============================] - 0s 2ms/step - loss: 0.0959 - accuracy: 0.9704 - val_loss: 0.4046 - val_accuracy: 0.8605\n",
      "Epoch 81/100\n",
      "17/17 [==============================] - 0s 2ms/step - loss: 0.0920 - accuracy: 0.9822 - val_loss: 0.4004 - val_accuracy: 0.8605\n",
      "Epoch 82/100\n",
      "17/17 [==============================] - 0s 2ms/step - loss: 0.0891 - accuracy: 0.9822 - val_loss: 0.3938 - val_accuracy: 0.8605\n",
      "Epoch 83/100\n",
      "17/17 [==============================] - 0s 2ms/step - loss: 0.0867 - accuracy: 0.9822 - val_loss: 0.4006 - val_accuracy: 0.8605\n",
      "Epoch 84/100\n",
      "17/17 [==============================] - 0s 2ms/step - loss: 0.0840 - accuracy: 0.9822 - val_loss: 0.3999 - val_accuracy: 0.8605\n",
      "Epoch 85/100\n",
      "17/17 [==============================] - 0s 2ms/step - loss: 0.0826 - accuracy: 0.9822 - val_loss: 0.4023 - val_accuracy: 0.8605\n",
      "Epoch 86/100\n",
      "17/17 [==============================] - 0s 2ms/step - loss: 0.0799 - accuracy: 0.9822 - val_loss: 0.3978 - val_accuracy: 0.8837\n",
      "Epoch 87/100\n",
      "17/17 [==============================] - 0s 2ms/step - loss: 0.0769 - accuracy: 0.9822 - val_loss: 0.3991 - val_accuracy: 0.8837\n",
      "Epoch 88/100\n",
      "17/17 [==============================] - 0s 2ms/step - loss: 0.0749 - accuracy: 0.9822 - val_loss: 0.4025 - val_accuracy: 0.8837\n",
      "Epoch 89/100\n",
      "17/17 [==============================] - 0s 2ms/step - loss: 0.0729 - accuracy: 0.9822 - val_loss: 0.4094 - val_accuracy: 0.8605\n",
      "Epoch 90/100\n",
      "17/17 [==============================] - 0s 2ms/step - loss: 0.0709 - accuracy: 0.9822 - val_loss: 0.4025 - val_accuracy: 0.8605\n",
      "Epoch 91/100\n",
      "17/17 [==============================] - 0s 2ms/step - loss: 0.0684 - accuracy: 0.9822 - val_loss: 0.4057 - val_accuracy: 0.8605\n",
      "Epoch 92/100\n",
      "17/17 [==============================] - 0s 2ms/step - loss: 0.0657 - accuracy: 0.9822 - val_loss: 0.4079 - val_accuracy: 0.8605\n",
      "Epoch 93/100\n",
      "17/17 [==============================] - 0s 2ms/step - loss: 0.0640 - accuracy: 0.9822 - val_loss: 0.4054 - val_accuracy: 0.8605\n",
      "Epoch 94/100\n",
      "17/17 [==============================] - 0s 2ms/step - loss: 0.0616 - accuracy: 0.9822 - val_loss: 0.4064 - val_accuracy: 0.8605\n",
      "Epoch 95/100\n",
      "17/17 [==============================] - 0s 2ms/step - loss: 0.0596 - accuracy: 0.9882 - val_loss: 0.4098 - val_accuracy: 0.8605\n",
      "Epoch 96/100\n",
      "17/17 [==============================] - 0s 2ms/step - loss: 0.0578 - accuracy: 0.9882 - val_loss: 0.4112 - val_accuracy: 0.8605\n",
      "Epoch 97/100\n",
      "17/17 [==============================] - 0s 2ms/step - loss: 0.0558 - accuracy: 0.9882 - val_loss: 0.4089 - val_accuracy: 0.8605\n",
      "Epoch 98/100\n",
      "17/17 [==============================] - 0s 2ms/step - loss: 0.0536 - accuracy: 0.9941 - val_loss: 0.4119 - val_accuracy: 0.8605\n",
      "Epoch 99/100\n",
      "17/17 [==============================] - 0s 2ms/step - loss: 0.0518 - accuracy: 0.9941 - val_loss: 0.4112 - val_accuracy: 0.8837\n",
      "Epoch 100/100\n",
      "17/17 [==============================] - 0s 2ms/step - loss: 0.0505 - accuracy: 0.9941 - val_loss: 0.4128 - val_accuracy: 0.8837\n"
     ]
    }
   ],
   "source": [
    "history = model.fit(x_train, y_train, epochs=100, batch_size=10, validation_data=(x_val, y_val), verbose=1)"
   ]
  },
  {
   "cell_type": "code",
   "execution_count": 319,
   "metadata": {},
   "outputs": [
    {
     "name": "stdout",
     "output_type": "stream",
     "text": [
      "6/6 - 0s - loss: 0.0478 - accuracy: 0.9941 - 15ms/epoch - 3ms/step\n",
      "2/2 - 0s - loss: 0.4128 - accuracy: 0.8837 - 14ms/epoch - 7ms/step\n",
      "1/1 - 0s - loss: 0.9225 - accuracy: 0.7500 - 12ms/epoch - 12ms/step\n",
      "[[0.9891584]]\n"
     ]
    }
   ],
   "source": [
    "model.evaluate(x_train,  y_train, verbose=2)\n",
    "model.evaluate(x_val,  y_val, verbose=2)\n",
    "model.evaluate(x_test,  y_test, verbose=2)\n",
    "\n",
    "prediction = model.predict(x_test[:1])\n",
    "print(prediction)"
   ]
  },
  {
   "cell_type": "code",
   "execution_count": 320,
   "metadata": {},
   "outputs": [
    {
     "data": {
      "text/plain": [
       "dict_keys(['loss', 'accuracy', 'val_loss', 'val_accuracy'])"
      ]
     },
     "execution_count": 320,
     "metadata": {},
     "output_type": "execute_result"
    }
   ],
   "source": [
    "history_dict = history.history\n",
    "history_dict.keys()"
   ]
  },
  {
   "cell_type": "code",
   "execution_count": 321,
   "metadata": {},
   "outputs": [
    {
     "data": {
      "image/png": "[encoded data removed]",
      "text/plain": [
       "<Figure size 432x288 with 1 Axes>"
      ]
     },
     "metadata": {
      "needs_background": "light"
     },
     "output_type": "display_data"
    }
   ],
   "source": [
    "\n",
    "\n",
    "acc = history_dict['accuracy']\n",
    "val_acc = history_dict['val_accuracy']\n",
    "loss = history_dict['loss']\n",
    "val_loss = history_dict['val_loss']\n",
    "\n",
    "epochs = range(1, len(acc) + 1)\n",
    "\n",
    "\n",
    "plt.plot(epochs, loss, 'ro', label='Training loss')\n",
    "\n",
    "plt.plot(epochs, val_loss, 'b', label='Validation loss')\n",
    "plt.title('Training and validation loss')\n",
    "plt.xlabel('Epochs')\n",
    "plt.ylabel('Loss')\n",
    "plt.legend()\n",
    "\n",
    "plt.show()"
   ]
  },
  {
   "cell_type": "code",
   "execution_count": 322,
   "metadata": {},
   "outputs": [
    {
     "data": {
      "image/png": "[encoded data removed]",
      "text/plain": [
       "<Figure size 432x288 with 1 Axes>"
      ]
     },
     "metadata": {
      "needs_background": "light"
     },
     "output_type": "display_data"
    }
   ],
   "source": [
    "plt.clf()  \n",
    "\n",
    "plt.plot(epochs, acc, 'ro', label='Training acc')\n",
    "plt.plot(epochs, val_acc, 'b', label='Validation acc')\n",
    "plt.title('Training and validation accuracy')\n",
    "plt.xlabel('Epochs')\n",
    "plt.ylabel('Accuracy')\n",
    "plt.legend()\n",
    "\n",
    "plt.show()"
   ]
  },
  {
   "cell_type": "code",
   "execution_count": null,
   "metadata": {},
   "outputs": [],
   "source": []
  }
 ],
 "metadata": {
  "kernelspec": {
   "display_name": "Python 3.8.11 ('tensorflow')",
   "language": "python",
   "name": "python3"
  },
  "language_info": {
   "codemirror_mode": {
    "name": "ipython",
    "version": 3
   },
   "file_extension": ".py",
   "mimetype": "text/x-python",
   "name": "python",
   "nbconvert_exporter": "python",
   "pygments_lexer": "ipython3",
   "version": "3.8.11"
  },
  "orig_nbformat": 4,
  "vscode": {
   "interpreter": {
    "hash": "a67d1e513a63fb5df12a1f88f9fb53c8b960337494b38d9e1ad0fe9c421b1da6"
   }
  }
 },
 "nbformat": 4,
 "nbformat_minor": 2
}
