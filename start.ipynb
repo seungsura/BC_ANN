{
 "cells": [
  {
   "cell_type": "code",
   "execution_count": 11,
   "metadata": {},
   "outputs": [],
   "source": [
    "import tensorflow as tf\n",
    "from tensorflow.keras import layers\n",
    "from tensorflow.keras.layers.experimental import preprocessing\n",
    "import pandas as pd\n",
    "import numpy as np\n",
    "from sklearn.model_selection import train_test_split\n",
    "import functools\n",
    "import matplotlib.pyplot as plt\n",
    "import traceback \n",
    "import contextlib"
   ]
  },
  {
   "cell_type": "code",
   "execution_count": 12,
   "metadata": {},
   "outputs": [
    {
     "data": {
      "text/plain": [
       "array([[-0.70212259,  0.87691791,  1.3089513 , ...,  0.29837007,\n",
       "         0.38672978,  0.01241453],\n",
       "       [-2.75649426,  1.09072906, -0.89399574, ...,  0.17062017,\n",
       "        -0.58008862,  0.68077064],\n",
       "       [ 0.24532515, -0.38633226, -0.58649158, ...,  0.37028141,\n",
       "        -1.44227513,  1.10491147],\n",
       "       ...,\n",
       "       [-1.18210733, -0.99929518, -1.63580168, ..., -0.66027891,\n",
       "         1.69482415,  1.15727325],\n",
       "       [ 1.39072348, -0.85021045, -2.14404835, ...,  0.35723112,\n",
       "         0.05855178,  0.78050842],\n",
       "       [ 1.37015955,  0.36935711,  0.63271442, ...,  0.22917919,\n",
       "        -1.16423879,  0.0284987 ]])"
      ]
     },
     "execution_count": 12,
     "metadata": {},
     "output_type": "execute_result"
    }
   ],
   "source": [
    "bladder_cancer = pd.read_csv('bladder_cancer.csv')\n",
    "\n",
    "x = pd.DataFrame(bladder_cancer, columns=['Amp_1MHz', 'Phase_1MHz', 'Amp_500kHz', 'Phase_500kHz', 'Amp_100kHz', 'Phase_100kHz', 'Amp_50kHz', 'Phase_50kHz', 'Amp_10kHz', 'Phase_10kHz'])\n",
    "\n",
    "y = pd.DataFrame(bladder_cancer, columns=['Label'])\n",
    "\n",
    "x_mean = x.mean()\n",
    "x_std = x.std()\n",
    "x = (x-x_mean)/x_std\n",
    "\n",
    "x_data, x_test, y_data, y_test = train_test_split(x, y, test_size=0.1, random_state=1)\n",
    "\n",
    "x_train, x_val, y_train, y_val = train_test_split(x_data, y_data, test_size=0.2, random_state=1) \n",
    "x_train = np.array(x_train)\n",
    "x_val = np.array(x_val)\n",
    "x_test = np.array(x_test)\n",
    "x_train"
   ]
  },
  {
   "cell_type": "code",
   "execution_count": 13,
   "metadata": {},
   "outputs": [
    {
     "name": "stdout",
     "output_type": "stream",
     "text": [
      "훈련 샘플: 169, 레이블: 169\n"
     ]
    }
   ],
   "source": [
    "print(\"훈련 샘플: {}, 레이블: {}\".format(len(x_train), len(y_train)))"
   ]
  },
  {
   "cell_type": "code",
   "execution_count": 16,
   "metadata": {},
   "outputs": [],
   "source": [
    "model = tf.keras.Sequential([\n",
    "   \n",
    "   layers.Dense(16, activation='relu'),\n",
    "   layers.Dense(40, activation='relu'),\n",
    "   layers.Dense(1, activation='sigmoid')\n",
    "\n",
    "])\n",
    "\n",
    "model.compile(loss= 'binary_crossentropy',\n",
    "                optimizer = tf.optimizers.Adam(),\n",
    "                metrics=['accuracy'])"
   ]
  },
  {
   "cell_type": "code",
   "execution_count": 17,
   "metadata": {},
   "outputs": [
    {
     "name": "stdout",
     "output_type": "stream",
     "text": [
      "Epoch 1/100\n",
      "17/17 [==============================] - 1s 8ms/step - loss: 0.6698 - accuracy: 0.5444 - val_loss: 0.6849 - val_accuracy: 0.5814\n",
      "Epoch 2/100\n",
      "17/17 [==============================] - 0s 2ms/step - loss: 0.6214 - accuracy: 0.6746 - val_loss: 0.6455 - val_accuracy: 0.6047\n",
      "Epoch 3/100\n",
      "17/17 [==============================] - 0s 2ms/step - loss: 0.5827 - accuracy: 0.7101 - val_loss: 0.6209 - val_accuracy: 0.6279\n",
      "Epoch 4/100\n",
      "17/17 [==============================] - 0s 2ms/step - loss: 0.5527 - accuracy: 0.7456 - val_loss: 0.5940 - val_accuracy: 0.7209\n",
      "Epoch 5/100\n",
      "17/17 [==============================] - 0s 2ms/step - loss: 0.5240 - accuracy: 0.7633 - val_loss: 0.5693 - val_accuracy: 0.7442\n",
      "Epoch 6/100\n",
      "17/17 [==============================] - 0s 2ms/step - loss: 0.4970 - accuracy: 0.7870 - val_loss: 0.5468 - val_accuracy: 0.7674\n",
      "Epoch 7/100\n",
      "17/17 [==============================] - 0s 2ms/step - loss: 0.4730 - accuracy: 0.7929 - val_loss: 0.5280 - val_accuracy: 0.7907\n",
      "Epoch 8/100\n",
      "17/17 [==============================] - 0s 2ms/step - loss: 0.4513 - accuracy: 0.8166 - val_loss: 0.5097 - val_accuracy: 0.7674\n",
      "Epoch 9/100\n",
      "17/17 [==============================] - 0s 2ms/step - loss: 0.4311 - accuracy: 0.8225 - val_loss: 0.4887 - val_accuracy: 0.7674\n",
      "Epoch 10/100\n",
      "17/17 [==============================] - 0s 2ms/step - loss: 0.4120 - accuracy: 0.8225 - val_loss: 0.4734 - val_accuracy: 0.7674\n",
      "Epoch 11/100\n",
      "17/17 [==============================] - 0s 2ms/step - loss: 0.3946 - accuracy: 0.8225 - val_loss: 0.4606 - val_accuracy: 0.7674\n",
      "Epoch 12/100\n",
      "17/17 [==============================] - 0s 2ms/step - loss: 0.3784 - accuracy: 0.8402 - val_loss: 0.4471 - val_accuracy: 0.7674\n",
      "Epoch 13/100\n",
      "17/17 [==============================] - 0s 1ms/step - loss: 0.3627 - accuracy: 0.8521 - val_loss: 0.4349 - val_accuracy: 0.7674\n",
      "Epoch 14/100\n",
      "17/17 [==============================] - 0s 2ms/step - loss: 0.3497 - accuracy: 0.8521 - val_loss: 0.4201 - val_accuracy: 0.7674\n",
      "Epoch 15/100\n",
      "17/17 [==============================] - 0s 2ms/step - loss: 0.3351 - accuracy: 0.8580 - val_loss: 0.4114 - val_accuracy: 0.7674\n",
      "Epoch 16/100\n",
      "17/17 [==============================] - 0s 2ms/step - loss: 0.3230 - accuracy: 0.8639 - val_loss: 0.4043 - val_accuracy: 0.7907\n",
      "Epoch 17/100\n",
      "17/17 [==============================] - 0s 2ms/step - loss: 0.3097 - accuracy: 0.8876 - val_loss: 0.3955 - val_accuracy: 0.7907\n",
      "Epoch 18/100\n",
      "17/17 [==============================] - 0s 2ms/step - loss: 0.2981 - accuracy: 0.8935 - val_loss: 0.3879 - val_accuracy: 0.7907\n",
      "Epoch 19/100\n",
      "17/17 [==============================] - 0s 1ms/step - loss: 0.2876 - accuracy: 0.8876 - val_loss: 0.3806 - val_accuracy: 0.8140\n",
      "Epoch 20/100\n",
      "17/17 [==============================] - 0s 2ms/step - loss: 0.2769 - accuracy: 0.8876 - val_loss: 0.3629 - val_accuracy: 0.8837\n",
      "Epoch 21/100\n",
      "17/17 [==============================] - 0s 2ms/step - loss: 0.2661 - accuracy: 0.8935 - val_loss: 0.3507 - val_accuracy: 0.9070\n",
      "Epoch 22/100\n",
      "17/17 [==============================] - 0s 2ms/step - loss: 0.2571 - accuracy: 0.8935 - val_loss: 0.3469 - val_accuracy: 0.9070\n",
      "Epoch 23/100\n",
      "17/17 [==============================] - 0s 2ms/step - loss: 0.2472 - accuracy: 0.8994 - val_loss: 0.3383 - val_accuracy: 0.9070\n",
      "Epoch 24/100\n",
      "17/17 [==============================] - 0s 2ms/step - loss: 0.2381 - accuracy: 0.9053 - val_loss: 0.3284 - val_accuracy: 0.9070\n",
      "Epoch 25/100\n",
      "17/17 [==============================] - 0s 2ms/step - loss: 0.2291 - accuracy: 0.9053 - val_loss: 0.3296 - val_accuracy: 0.9070\n",
      "Epoch 26/100\n",
      "17/17 [==============================] - 0s 2ms/step - loss: 0.2200 - accuracy: 0.9053 - val_loss: 0.3150 - val_accuracy: 0.9070\n",
      "Epoch 27/100\n",
      "17/17 [==============================] - 0s 2ms/step - loss: 0.2113 - accuracy: 0.9112 - val_loss: 0.3120 - val_accuracy: 0.9070\n",
      "Epoch 28/100\n",
      "17/17 [==============================] - 0s 2ms/step - loss: 0.2046 - accuracy: 0.9172 - val_loss: 0.3008 - val_accuracy: 0.9070\n",
      "Epoch 29/100\n",
      "17/17 [==============================] - 0s 2ms/step - loss: 0.1955 - accuracy: 0.9349 - val_loss: 0.2960 - val_accuracy: 0.9070\n",
      "Epoch 30/100\n",
      "17/17 [==============================] - 0s 2ms/step - loss: 0.1893 - accuracy: 0.9231 - val_loss: 0.2913 - val_accuracy: 0.9070\n",
      "Epoch 31/100\n",
      "17/17 [==============================] - 0s 2ms/step - loss: 0.1822 - accuracy: 0.9408 - val_loss: 0.2855 - val_accuracy: 0.9070\n",
      "Epoch 32/100\n",
      "17/17 [==============================] - 0s 2ms/step - loss: 0.1746 - accuracy: 0.9467 - val_loss: 0.2779 - val_accuracy: 0.9070\n",
      "Epoch 33/100\n",
      "17/17 [==============================] - 0s 2ms/step - loss: 0.1680 - accuracy: 0.9467 - val_loss: 0.2729 - val_accuracy: 0.9070\n",
      "Epoch 34/100\n",
      "17/17 [==============================] - 0s 2ms/step - loss: 0.1625 - accuracy: 0.9527 - val_loss: 0.2660 - val_accuracy: 0.9070\n",
      "Epoch 35/100\n",
      "17/17 [==============================] - 0s 2ms/step - loss: 0.1562 - accuracy: 0.9527 - val_loss: 0.2637 - val_accuracy: 0.9070\n",
      "Epoch 36/100\n",
      "17/17 [==============================] - 0s 2ms/step - loss: 0.1503 - accuracy: 0.9527 - val_loss: 0.2530 - val_accuracy: 0.9070\n",
      "Epoch 37/100\n",
      "17/17 [==============================] - 0s 2ms/step - loss: 0.1448 - accuracy: 0.9586 - val_loss: 0.2478 - val_accuracy: 0.9070\n",
      "Epoch 38/100\n",
      "17/17 [==============================] - 0s 2ms/step - loss: 0.1391 - accuracy: 0.9645 - val_loss: 0.2413 - val_accuracy: 0.9070\n",
      "Epoch 39/100\n",
      "17/17 [==============================] - 0s 2ms/step - loss: 0.1333 - accuracy: 0.9645 - val_loss: 0.2371 - val_accuracy: 0.9070\n",
      "Epoch 40/100\n",
      "17/17 [==============================] - 0s 2ms/step - loss: 0.1292 - accuracy: 0.9645 - val_loss: 0.2349 - val_accuracy: 0.9070\n",
      "Epoch 41/100\n",
      "17/17 [==============================] - 0s 2ms/step - loss: 0.1251 - accuracy: 0.9645 - val_loss: 0.2314 - val_accuracy: 0.9302\n",
      "Epoch 42/100\n",
      "17/17 [==============================] - 0s 2ms/step - loss: 0.1202 - accuracy: 0.9704 - val_loss: 0.2175 - val_accuracy: 0.9302\n",
      "Epoch 43/100\n",
      "17/17 [==============================] - 0s 2ms/step - loss: 0.1142 - accuracy: 0.9704 - val_loss: 0.2188 - val_accuracy: 0.9302\n",
      "Epoch 44/100\n",
      "17/17 [==============================] - 0s 2ms/step - loss: 0.1104 - accuracy: 0.9704 - val_loss: 0.2200 - val_accuracy: 0.9302\n",
      "Epoch 45/100\n",
      "17/17 [==============================] - 0s 2ms/step - loss: 0.1057 - accuracy: 0.9704 - val_loss: 0.2101 - val_accuracy: 0.9302\n",
      "Epoch 46/100\n",
      "17/17 [==============================] - 0s 2ms/step - loss: 0.1025 - accuracy: 0.9704 - val_loss: 0.2066 - val_accuracy: 0.9070\n",
      "Epoch 47/100\n",
      "17/17 [==============================] - 0s 2ms/step - loss: 0.0977 - accuracy: 0.9763 - val_loss: 0.1970 - val_accuracy: 0.9302\n",
      "Epoch 48/100\n",
      "17/17 [==============================] - 0s 2ms/step - loss: 0.0950 - accuracy: 0.9763 - val_loss: 0.1974 - val_accuracy: 0.9070\n",
      "Epoch 49/100\n",
      "17/17 [==============================] - 0s 2ms/step - loss: 0.0916 - accuracy: 0.9763 - val_loss: 0.1965 - val_accuracy: 0.9302\n",
      "Epoch 50/100\n",
      "17/17 [==============================] - 0s 2ms/step - loss: 0.0877 - accuracy: 0.9822 - val_loss: 0.1891 - val_accuracy: 0.9070\n",
      "Epoch 51/100\n",
      "17/17 [==============================] - 0s 2ms/step - loss: 0.0840 - accuracy: 0.9882 - val_loss: 0.1863 - val_accuracy: 0.9302\n",
      "Epoch 52/100\n",
      "17/17 [==============================] - 0s 2ms/step - loss: 0.0817 - accuracy: 0.9822 - val_loss: 0.1889 - val_accuracy: 0.9070\n",
      "Epoch 53/100\n",
      "17/17 [==============================] - 0s 2ms/step - loss: 0.0785 - accuracy: 0.9882 - val_loss: 0.1856 - val_accuracy: 0.9302\n",
      "Epoch 54/100\n",
      "17/17 [==============================] - 0s 2ms/step - loss: 0.0750 - accuracy: 0.9882 - val_loss: 0.1794 - val_accuracy: 0.9302\n",
      "Epoch 55/100\n",
      "17/17 [==============================] - 0s 2ms/step - loss: 0.0730 - accuracy: 0.9882 - val_loss: 0.1809 - val_accuracy: 0.9302\n",
      "Epoch 56/100\n",
      "17/17 [==============================] - 0s 2ms/step - loss: 0.0700 - accuracy: 0.9882 - val_loss: 0.1771 - val_accuracy: 0.9302\n",
      "Epoch 57/100\n",
      "17/17 [==============================] - 0s 2ms/step - loss: 0.0673 - accuracy: 0.9941 - val_loss: 0.1748 - val_accuracy: 0.9302\n",
      "Epoch 58/100\n",
      "17/17 [==============================] - 0s 2ms/step - loss: 0.0641 - accuracy: 0.9941 - val_loss: 0.1742 - val_accuracy: 0.9302\n",
      "Epoch 59/100\n",
      "17/17 [==============================] - 0s 2ms/step - loss: 0.0623 - accuracy: 0.9941 - val_loss: 0.1731 - val_accuracy: 0.9302\n",
      "Epoch 60/100\n",
      "17/17 [==============================] - 0s 2ms/step - loss: 0.0590 - accuracy: 0.9941 - val_loss: 0.1690 - val_accuracy: 0.9302\n",
      "Epoch 61/100\n",
      "17/17 [==============================] - 0s 2ms/step - loss: 0.0575 - accuracy: 0.9941 - val_loss: 0.1711 - val_accuracy: 0.9302\n",
      "Epoch 62/100\n",
      "17/17 [==============================] - 0s 2ms/step - loss: 0.0545 - accuracy: 0.9941 - val_loss: 0.1624 - val_accuracy: 0.9302\n",
      "Epoch 63/100\n",
      "17/17 [==============================] - 0s 2ms/step - loss: 0.0526 - accuracy: 0.9941 - val_loss: 0.1607 - val_accuracy: 0.9302\n",
      "Epoch 64/100\n",
      "17/17 [==============================] - 0s 2ms/step - loss: 0.0502 - accuracy: 0.9941 - val_loss: 0.1623 - val_accuracy: 0.9302\n",
      "Epoch 65/100\n",
      "17/17 [==============================] - 0s 2ms/step - loss: 0.0484 - accuracy: 1.0000 - val_loss: 0.1625 - val_accuracy: 0.9302\n",
      "Epoch 66/100\n",
      "17/17 [==============================] - 0s 2ms/step - loss: 0.0466 - accuracy: 1.0000 - val_loss: 0.1557 - val_accuracy: 0.9535\n",
      "Epoch 67/100\n",
      "17/17 [==============================] - 0s 2ms/step - loss: 0.0447 - accuracy: 1.0000 - val_loss: 0.1597 - val_accuracy: 0.9302\n",
      "Epoch 68/100\n",
      "17/17 [==============================] - 0s 2ms/step - loss: 0.0424 - accuracy: 1.0000 - val_loss: 0.1585 - val_accuracy: 0.9535\n",
      "Epoch 69/100\n",
      "17/17 [==============================] - 0s 2ms/step - loss: 0.0411 - accuracy: 1.0000 - val_loss: 0.1560 - val_accuracy: 0.9535\n",
      "Epoch 70/100\n",
      "17/17 [==============================] - 0s 2ms/step - loss: 0.0395 - accuracy: 1.0000 - val_loss: 0.1620 - val_accuracy: 0.9302\n",
      "Epoch 71/100\n",
      "17/17 [==============================] - 0s 2ms/step - loss: 0.0380 - accuracy: 1.0000 - val_loss: 0.1569 - val_accuracy: 0.9535\n",
      "Epoch 72/100\n",
      "17/17 [==============================] - 0s 1ms/step - loss: 0.0363 - accuracy: 1.0000 - val_loss: 0.1584 - val_accuracy: 0.9535\n",
      "Epoch 73/100\n",
      "17/17 [==============================] - 0s 2ms/step - loss: 0.0353 - accuracy: 1.0000 - val_loss: 0.1561 - val_accuracy: 0.9535\n",
      "Epoch 74/100\n",
      "17/17 [==============================] - 0s 857us/step - loss: 0.0336 - accuracy: 1.0000 - val_loss: 0.1551 - val_accuracy: 0.9535\n",
      "Epoch 75/100\n",
      "17/17 [==============================] - 0s 3ms/step - loss: 0.0323 - accuracy: 1.0000 - val_loss: 0.1558 - val_accuracy: 0.9302\n",
      "Epoch 76/100\n",
      "17/17 [==============================] - 0s 961us/step - loss: 0.0314 - accuracy: 1.0000 - val_loss: 0.1530 - val_accuracy: 0.9535\n",
      "Epoch 77/100\n",
      "17/17 [==============================] - 0s 2ms/step - loss: 0.0300 - accuracy: 1.0000 - val_loss: 0.1537 - val_accuracy: 0.9302\n",
      "Epoch 78/100\n",
      "17/17 [==============================] - 0s 2ms/step - loss: 0.0290 - accuracy: 1.0000 - val_loss: 0.1551 - val_accuracy: 0.9302\n",
      "Epoch 79/100\n",
      "17/17 [==============================] - 0s 2ms/step - loss: 0.0280 - accuracy: 1.0000 - val_loss: 0.1528 - val_accuracy: 0.9302\n",
      "Epoch 80/100\n",
      "17/17 [==============================] - 0s 2ms/step - loss: 0.0274 - accuracy: 1.0000 - val_loss: 0.1511 - val_accuracy: 0.9535\n",
      "Epoch 81/100\n",
      "17/17 [==============================] - 0s 2ms/step - loss: 0.0259 - accuracy: 1.0000 - val_loss: 0.1511 - val_accuracy: 0.9535\n",
      "Epoch 82/100\n",
      "17/17 [==============================] - 0s 2ms/step - loss: 0.0251 - accuracy: 1.0000 - val_loss: 0.1543 - val_accuracy: 0.9302\n",
      "Epoch 83/100\n",
      "17/17 [==============================] - 0s 2ms/step - loss: 0.0244 - accuracy: 1.0000 - val_loss: 0.1522 - val_accuracy: 0.9302\n",
      "Epoch 84/100\n",
      "17/17 [==============================] - 0s 1ms/step - loss: 0.0234 - accuracy: 1.0000 - val_loss: 0.1502 - val_accuracy: 0.9535\n",
      "Epoch 85/100\n",
      "17/17 [==============================] - 0s 2ms/step - loss: 0.0225 - accuracy: 1.0000 - val_loss: 0.1531 - val_accuracy: 0.9302\n",
      "Epoch 86/100\n",
      "17/17 [==============================] - 0s 2ms/step - loss: 0.0218 - accuracy: 1.0000 - val_loss: 0.1477 - val_accuracy: 0.9535\n",
      "Epoch 87/100\n",
      "17/17 [==============================] - 0s 2ms/step - loss: 0.0209 - accuracy: 1.0000 - val_loss: 0.1512 - val_accuracy: 0.9302\n",
      "Epoch 88/100\n",
      "17/17 [==============================] - 0s 2ms/step - loss: 0.0201 - accuracy: 1.0000 - val_loss: 0.1504 - val_accuracy: 0.9302\n",
      "Epoch 89/100\n",
      "17/17 [==============================] - 0s 2ms/step - loss: 0.0196 - accuracy: 1.0000 - val_loss: 0.1476 - val_accuracy: 0.9302\n",
      "Epoch 90/100\n",
      "17/17 [==============================] - 0s 2ms/step - loss: 0.0188 - accuracy: 1.0000 - val_loss: 0.1463 - val_accuracy: 0.9302\n",
      "Epoch 91/100\n",
      "17/17 [==============================] - 0s 2ms/step - loss: 0.0183 - accuracy: 1.0000 - val_loss: 0.1476 - val_accuracy: 0.9302\n",
      "Epoch 92/100\n",
      "17/17 [==============================] - 0s 2ms/step - loss: 0.0177 - accuracy: 1.0000 - val_loss: 0.1454 - val_accuracy: 0.9535\n",
      "Epoch 93/100\n",
      "17/17 [==============================] - 0s 2ms/step - loss: 0.0171 - accuracy: 1.0000 - val_loss: 0.1461 - val_accuracy: 0.9302\n",
      "Epoch 94/100\n",
      "17/17 [==============================] - 0s 2ms/step - loss: 0.0166 - accuracy: 1.0000 - val_loss: 0.1478 - val_accuracy: 0.9302\n",
      "Epoch 95/100\n",
      "17/17 [==============================] - 0s 2ms/step - loss: 0.0160 - accuracy: 1.0000 - val_loss: 0.1443 - val_accuracy: 0.9302\n",
      "Epoch 96/100\n",
      "17/17 [==============================] - 0s 2ms/step - loss: 0.0154 - accuracy: 1.0000 - val_loss: 0.1449 - val_accuracy: 0.9302\n",
      "Epoch 97/100\n",
      "17/17 [==============================] - 0s 2ms/step - loss: 0.0150 - accuracy: 1.0000 - val_loss: 0.1461 - val_accuracy: 0.9302\n",
      "Epoch 98/100\n",
      "17/17 [==============================] - 0s 2ms/step - loss: 0.0145 - accuracy: 1.0000 - val_loss: 0.1449 - val_accuracy: 0.9302\n",
      "Epoch 99/100\n",
      "17/17 [==============================] - 0s 2ms/step - loss: 0.0140 - accuracy: 1.0000 - val_loss: 0.1470 - val_accuracy: 0.9302\n",
      "Epoch 100/100\n",
      "17/17 [==============================] - 0s 2ms/step - loss: 0.0137 - accuracy: 1.0000 - val_loss: 0.1439 - val_accuracy: 0.9535\n"
     ]
    }
   ],
   "source": [
    "history = model.fit(x_train, y_train, epochs=100, batch_size=10, validation_data=(x_val, y_val), verbose=1)"
   ]
  },
  {
   "cell_type": "code",
   "execution_count": 18,
   "metadata": {},
   "outputs": [
    {
     "name": "stdout",
     "output_type": "stream",
     "text": [
      "6/6 - 0s - loss: 0.0131 - accuracy: 1.0000 - 14ms/epoch - 2ms/step\n",
      "2/2 - 0s - loss: 0.1439 - accuracy: 0.9535 - 12ms/epoch - 6ms/step\n",
      "1/1 - 0s - loss: 0.0748 - accuracy: 1.0000 - 12ms/epoch - 12ms/step\n"
     ]
    },
    {
     "data": {
      "text/plain": [
       "[0.07481320947408676, 1.0]"
      ]
     },
     "execution_count": 18,
     "metadata": {},
     "output_type": "execute_result"
    }
   ],
   "source": [
    "model.evaluate(x_train,  y_train, verbose=2)\n",
    "model.evaluate(x_val,  y_val, verbose=2)\n",
    "model.evaluate(x_test,  y_test, verbose=2)"
   ]
  },
  {
   "cell_type": "code",
   "execution_count": 19,
   "metadata": {},
   "outputs": [
    {
     "data": {
      "text/plain": [
       "dict_keys(['loss', 'accuracy', 'val_loss', 'val_accuracy'])"
      ]
     },
     "execution_count": 19,
     "metadata": {},
     "output_type": "execute_result"
    }
   ],
   "source": [
    "history_dict = history.history\n",
    "history_dict.keys()"
   ]
  },
  {
   "cell_type": "code",
   "execution_count": 20,
   "metadata": {},
   "outputs": [
    {
     "data": {
      "image/png": "[encoded data removed]",
      "text/plain": [
       "<Figure size 432x288 with 1 Axes>"
      ]
     },
     "metadata": {
      "needs_background": "light"
     },
     "output_type": "display_data"
    }
   ],
   "source": [
    "\n",
    "\n",
    "acc = history_dict['accuracy']\n",
    "val_acc = history_dict['val_accuracy']\n",
    "loss = history_dict['loss']\n",
    "val_loss = history_dict['val_loss']\n",
    "\n",
    "epochs = range(1, len(acc) + 1)\n",
    "\n",
    "\n",
    "plt.plot(epochs, loss, 'ro', label='Training loss')\n",
    "\n",
    "plt.plot(epochs, val_loss, 'b', label='Validation loss')\n",
    "plt.title('Training and validation loss')\n",
    "plt.xlabel('Epochs')\n",
    "plt.ylabel('Loss')\n",
    "plt.legend()\n",
    "\n",
    "plt.show()"
   ]
  },
  {
   "cell_type": "code",
   "execution_count": 21,
   "metadata": {},
   "outputs": [
    {
     "data": {
      "image/png": "[encoded data removed]",
      "text/plain": [
       "<Figure size 432x288 with 1 Axes>"
      ]
     },
     "metadata": {
      "needs_background": "light"
     },
     "output_type": "display_data"
    }
   ],
   "source": [
    "plt.clf()  \n",
    "\n",
    "plt.plot(epochs, acc, 'ro', label='Training acc')\n",
    "plt.plot(epochs, val_acc, 'b', label='Validation acc')\n",
    "plt.title('Training and validation accuracy')\n",
    "plt.xlabel('Epochs')\n",
    "plt.ylabel('Accuracy')\n",
    "plt.legend()\n",
    "\n",
    "plt.show()"
   ]
  },
  {
   "cell_type": "code",
   "execution_count": null,
   "metadata": {},
   "outputs": [],
   "source": []
  }
 ],
 "metadata": {
  "kernelspec": {
   "display_name": "Python 3.8.11 ('tensorflow')",
   "language": "python",
   "name": "python3"
  },
  "language_info": {
   "codemirror_mode": {
    "name": "ipython",
    "version": 3
   },
   "file_extension": ".py",
   "mimetype": "text/x-python",
   "name": "python",
   "nbconvert_exporter": "python",
   "pygments_lexer": "ipython3",
   "version": "3.8.11"
  },
  "orig_nbformat": 4,
  "vscode": {
   "interpreter": {
    "hash": "a67d1e513a63fb5df12a1f88f9fb53c8b960337494b38d9e1ad0fe9c421b1da6"
   }
  }
 },
 "nbformat": 4,
 "nbformat_minor": 2
}
