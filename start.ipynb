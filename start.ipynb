{
 "cells": [
  {
   "cell_type": "code",
   "execution_count": 25,
   "metadata": {},
   "outputs": [],
   "source": [
    "import tensorflow as tf\n",
    "from tensorflow.keras import layers\n",
    "from tensorflow.keras.layers.experimental import preprocessing\n",
    "import pandas as pd\n",
    "import numpy as np\n",
    "from sklearn.model_selection import train_test_split\n",
    "import functools\n",
    "import matplotlib.pyplot as plt\n",
    "import traceback \n",
    "import contextlib\n",
    "from numpy.random import seed\n",
    "seed(1)\n",
    "tf.random.set_seed(2)"
   ]
  },
  {
   "cell_type": "code",
   "execution_count": 26,
   "metadata": {},
   "outputs": [
    {
     "data": {
      "text/plain": [
       "array([[-0.70212259,  0.87691791,  1.3089513 , ...,  0.29837007,\n",
       "         0.38672978,  0.01241453],\n",
       "       [-2.75649426,  1.09072906, -0.89399574, ...,  0.17062017,\n",
       "        -0.58008862,  0.68077064],\n",
       "       [ 0.24532515, -0.38633226, -0.58649158, ...,  0.37028141,\n",
       "        -1.44227513,  1.10491147],\n",
       "       ...,\n",
       "       [-1.18210733, -0.99929518, -1.63580168, ..., -0.66027891,\n",
       "         1.69482415,  1.15727325],\n",
       "       [ 1.39072348, -0.85021045, -2.14404835, ...,  0.35723112,\n",
       "         0.05855178,  0.78050842],\n",
       "       [ 1.37015955,  0.36935711,  0.63271442, ...,  0.22917919,\n",
       "        -1.16423879,  0.0284987 ]])"
      ]
     },
     "execution_count": 26,
     "metadata": {},
     "output_type": "execute_result"
    }
   ],
   "source": [
    "bladder_cancer = pd.read_csv('bladder_cancer.csv')\n",
    "\n",
    "x = pd.DataFrame(bladder_cancer, columns=['Amp_1MHz', 'Phase_1MHz', 'Amp_500kHz', 'Phase_500kHz', 'Amp_100kHz', 'Phase_100kHz', 'Amp_50kHz', 'Phase_50kHz', 'Amp_10kHz', 'Phase_10kHz'])\n",
    "\n",
    "y = pd.DataFrame(bladder_cancer, columns=['Label'])\n",
    "\n",
    "x_mean = x.mean()\n",
    "x_std = x.std()\n",
    "x = (x-x_mean)/x_std\n",
    "\n",
    "x_data, x_test, y_data, y_test = train_test_split(x, y, test_size=0.1, random_state=1)\n",
    "\n",
    "x_train, x_val, y_train, y_val = train_test_split(x_data, y_data, test_size=0.2, random_state=1) \n",
    "x_train = np.array(x_train)\n",
    "x_val = np.array(x_val)\n",
    "x_test = np.array(x_test)\n",
    "x_train"
   ]
  },
  {
   "cell_type": "code",
   "execution_count": 27,
   "metadata": {},
   "outputs": [],
   "source": [
    "model = tf.keras.Sequential([\n",
    "   \n",
    "   layers.Dense(16, activation='relu'),\n",
    "   layers.Dense(32, activation='relu'),\n",
    "   layers.Dense(1, activation='sigmoid')\n",
    "\n",
    "])\n",
    "\n",
    "model.compile(loss= 'binary_crossentropy',\n",
    "                optimizer = tf.optimizers.Adam(),\n",
    "                metrics=['accuracy'])"
   ]
  },
  {
   "cell_type": "code",
   "execution_count": 28,
   "metadata": {},
   "outputs": [
    {
     "name": "stdout",
     "output_type": "stream",
     "text": [
      "Epoch 1/40\n",
      "17/17 [==============================] - 0s 7ms/step - loss: 0.7501 - accuracy: 0.5385 - val_loss: 0.7320 - val_accuracy: 0.5349\n",
      "Epoch 2/40\n",
      "17/17 [==============================] - 0s 2ms/step - loss: 0.7014 - accuracy: 0.5740 - val_loss: 0.7050 - val_accuracy: 0.5814\n",
      "Epoch 3/40\n",
      "17/17 [==============================] - 0s 2ms/step - loss: 0.6681 - accuracy: 0.6036 - val_loss: 0.6786 - val_accuracy: 0.6279\n",
      "Epoch 4/40\n",
      "17/17 [==============================] - 0s 2ms/step - loss: 0.6366 - accuracy: 0.6272 - val_loss: 0.6556 - val_accuracy: 0.6279\n",
      "Epoch 5/40\n",
      "17/17 [==============================] - 0s 2ms/step - loss: 0.6111 - accuracy: 0.7219 - val_loss: 0.6325 - val_accuracy: 0.7209\n",
      "Epoch 6/40\n",
      "17/17 [==============================] - 0s 2ms/step - loss: 0.5833 - accuracy: 0.7574 - val_loss: 0.6097 - val_accuracy: 0.7209\n",
      "Epoch 7/40\n",
      "17/17 [==============================] - 0s 2ms/step - loss: 0.5557 - accuracy: 0.7811 - val_loss: 0.5857 - val_accuracy: 0.7209\n",
      "Epoch 8/40\n",
      "17/17 [==============================] - 0s 2ms/step - loss: 0.5296 - accuracy: 0.7988 - val_loss: 0.5633 - val_accuracy: 0.7674\n",
      "Epoch 9/40\n",
      "17/17 [==============================] - 0s 2ms/step - loss: 0.5019 - accuracy: 0.8225 - val_loss: 0.5398 - val_accuracy: 0.7907\n",
      "Epoch 10/40\n",
      "17/17 [==============================] - 0s 2ms/step - loss: 0.4748 - accuracy: 0.8462 - val_loss: 0.5194 - val_accuracy: 0.7907\n",
      "Epoch 11/40\n",
      "17/17 [==============================] - 0s 2ms/step - loss: 0.4505 - accuracy: 0.8402 - val_loss: 0.4992 - val_accuracy: 0.8140\n",
      "Epoch 12/40\n",
      "17/17 [==============================] - 0s 2ms/step - loss: 0.4287 - accuracy: 0.8462 - val_loss: 0.4824 - val_accuracy: 0.7907\n",
      "Epoch 13/40\n",
      "17/17 [==============================] - 0s 2ms/step - loss: 0.4049 - accuracy: 0.8462 - val_loss: 0.4668 - val_accuracy: 0.8140\n",
      "Epoch 14/40\n",
      "17/17 [==============================] - 0s 2ms/step - loss: 0.3844 - accuracy: 0.8521 - val_loss: 0.4515 - val_accuracy: 0.8140\n",
      "Epoch 15/40\n",
      "17/17 [==============================] - 0s 2ms/step - loss: 0.3663 - accuracy: 0.8580 - val_loss: 0.4366 - val_accuracy: 0.8140\n",
      "Epoch 16/40\n",
      "17/17 [==============================] - 0s 2ms/step - loss: 0.3477 - accuracy: 0.8639 - val_loss: 0.4253 - val_accuracy: 0.8140\n",
      "Epoch 17/40\n",
      "17/17 [==============================] - 0s 2ms/step - loss: 0.3321 - accuracy: 0.8639 - val_loss: 0.4196 - val_accuracy: 0.8140\n",
      "Epoch 18/40\n",
      "17/17 [==============================] - 0s 2ms/step - loss: 0.3166 - accuracy: 0.8757 - val_loss: 0.4100 - val_accuracy: 0.8140\n",
      "Epoch 19/40\n",
      "17/17 [==============================] - 0s 2ms/step - loss: 0.3046 - accuracy: 0.8698 - val_loss: 0.4062 - val_accuracy: 0.8140\n",
      "Epoch 20/40\n",
      "17/17 [==============================] - 0s 2ms/step - loss: 0.2909 - accuracy: 0.8757 - val_loss: 0.3943 - val_accuracy: 0.8140\n",
      "Epoch 21/40\n",
      "17/17 [==============================] - 0s 2ms/step - loss: 0.2785 - accuracy: 0.8817 - val_loss: 0.3868 - val_accuracy: 0.8140\n",
      "Epoch 22/40\n",
      "17/17 [==============================] - 0s 2ms/step - loss: 0.2678 - accuracy: 0.8876 - val_loss: 0.3831 - val_accuracy: 0.8140\n",
      "Epoch 23/40\n",
      "17/17 [==============================] - 0s 2ms/step - loss: 0.2570 - accuracy: 0.8817 - val_loss: 0.3762 - val_accuracy: 0.7907\n",
      "Epoch 24/40\n",
      "17/17 [==============================] - 0s 2ms/step - loss: 0.2465 - accuracy: 0.8935 - val_loss: 0.3720 - val_accuracy: 0.7907\n",
      "Epoch 25/40\n",
      "17/17 [==============================] - 0s 2ms/step - loss: 0.2374 - accuracy: 0.8994 - val_loss: 0.3654 - val_accuracy: 0.8140\n",
      "Epoch 26/40\n",
      "17/17 [==============================] - 0s 2ms/step - loss: 0.2264 - accuracy: 0.8994 - val_loss: 0.3659 - val_accuracy: 0.8140\n",
      "Epoch 27/40\n",
      "17/17 [==============================] - 0s 2ms/step - loss: 0.2188 - accuracy: 0.9172 - val_loss: 0.3616 - val_accuracy: 0.8140\n",
      "Epoch 28/40\n",
      "17/17 [==============================] - 0s 2ms/step - loss: 0.2101 - accuracy: 0.9172 - val_loss: 0.3589 - val_accuracy: 0.8140\n",
      "Epoch 29/40\n",
      "17/17 [==============================] - 0s 2ms/step - loss: 0.2013 - accuracy: 0.9349 - val_loss: 0.3464 - val_accuracy: 0.8140\n",
      "Epoch 30/40\n",
      "17/17 [==============================] - 0s 2ms/step - loss: 0.1924 - accuracy: 0.9349 - val_loss: 0.3480 - val_accuracy: 0.8140\n",
      "Epoch 31/40\n",
      "17/17 [==============================] - 0s 2ms/step - loss: 0.1866 - accuracy: 0.9408 - val_loss: 0.3531 - val_accuracy: 0.8372\n",
      "Epoch 32/40\n",
      "17/17 [==============================] - 0s 2ms/step - loss: 0.1777 - accuracy: 0.9408 - val_loss: 0.3453 - val_accuracy: 0.8372\n",
      "Epoch 33/40\n",
      "17/17 [==============================] - 0s 2ms/step - loss: 0.1699 - accuracy: 0.9467 - val_loss: 0.3437 - val_accuracy: 0.8372\n",
      "Epoch 34/40\n",
      "17/17 [==============================] - 0s 2ms/step - loss: 0.1626 - accuracy: 0.9467 - val_loss: 0.3437 - val_accuracy: 0.8372\n",
      "Epoch 35/40\n",
      "17/17 [==============================] - 0s 2ms/step - loss: 0.1563 - accuracy: 0.9467 - val_loss: 0.3357 - val_accuracy: 0.8605\n",
      "Epoch 36/40\n",
      "17/17 [==============================] - 0s 2ms/step - loss: 0.1497 - accuracy: 0.9527 - val_loss: 0.3370 - val_accuracy: 0.8372\n",
      "Epoch 37/40\n",
      "17/17 [==============================] - 0s 2ms/step - loss: 0.1436 - accuracy: 0.9527 - val_loss: 0.3370 - val_accuracy: 0.8605\n",
      "Epoch 38/40\n",
      "17/17 [==============================] - 0s 2ms/step - loss: 0.1375 - accuracy: 0.9527 - val_loss: 0.3342 - val_accuracy: 0.8605\n",
      "Epoch 39/40\n",
      "17/17 [==============================] - 0s 2ms/step - loss: 0.1323 - accuracy: 0.9527 - val_loss: 0.3290 - val_accuracy: 0.8605\n",
      "Epoch 40/40\n",
      "17/17 [==============================] - 0s 2ms/step - loss: 0.1270 - accuracy: 0.9586 - val_loss: 0.3313 - val_accuracy: 0.8605\n"
     ]
    }
   ],
   "source": [
    "history = model.fit(x_train, y_train, epochs=40, batch_size=10, validation_data=(x_val, y_val), verbose=1)"
   ]
  },
  {
   "cell_type": "code",
   "execution_count": 29,
   "metadata": {},
   "outputs": [
    {
     "name": "stdout",
     "output_type": "stream",
     "text": [
      "6/6 - 0s - loss: 0.1222 - accuracy: 0.9586 - 14ms/epoch - 2ms/step\n",
      "2/2 - 0s - loss: 0.3313 - accuracy: 0.8605 - 12ms/epoch - 6ms/step\n",
      "1/1 - 0s - loss: 0.4309 - accuracy: 0.7917 - 11ms/epoch - 11ms/step\n",
      "[[0.5871109]]\n"
     ]
    }
   ],
   "source": [
    "model.evaluate(x_train,  y_train, verbose=2)\n",
    "model.evaluate(x_val,  y_val, verbose=2)\n",
    "model.evaluate(x_test,  y_test, verbose=2)\n",
    "\n",
    "prediction = model.predict(x_test[:1])\n",
    "print(prediction)"
   ]
  },
  {
   "cell_type": "code",
   "execution_count": 30,
   "metadata": {},
   "outputs": [
    {
     "data": {
      "text/plain": [
       "dict_keys(['loss', 'accuracy', 'val_loss', 'val_accuracy'])"
      ]
     },
     "execution_count": 30,
     "metadata": {},
     "output_type": "execute_result"
    }
   ],
   "source": [
    "history_dict = history.history\n",
    "history_dict.keys()"
   ]
  },
  {
   "cell_type": "code",
   "execution_count": 31,
   "metadata": {},
   "outputs": [
    {
     "data": {
      "image/png": "[encoded data removed]",
      "text/plain": [
       "<Figure size 432x288 with 1 Axes>"
      ]
     },
     "metadata": {
      "needs_background": "light"
     },
     "output_type": "display_data"
    }
   ],
   "source": [
    "\n",
    "\n",
    "acc = history_dict['accuracy']\n",
    "val_acc = history_dict['val_accuracy']\n",
    "loss = history_dict['loss']\n",
    "val_loss = history_dict['val_loss']\n",
    "\n",
    "epochs = range(1, len(acc) + 1)\n",
    "\n",
    "\n",
    "plt.plot(epochs, loss, 'ro', label='Training loss')\n",
    "\n",
    "plt.plot(epochs, val_loss, 'b', label='Validation loss')\n",
    "plt.title('Training and validation loss')\n",
    "plt.xlabel('Epochs')\n",
    "plt.ylabel('Loss')\n",
    "plt.legend()\n",
    "\n",
    "plt.show()"
   ]
  },
  {
   "cell_type": "code",
   "execution_count": 32,
   "metadata": {},
   "outputs": [
    {
     "data": {
      "image/png": "[encoded data removed]",
      "text/plain": [
       "<Figure size 432x288 with 1 Axes>"
      ]
     },
     "metadata": {
      "needs_background": "light"
     },
     "output_type": "display_data"
    }
   ],
   "source": [
    "plt.clf()  \n",
    "\n",
    "plt.plot(epochs, acc, 'ro', label='Training acc')\n",
    "plt.plot(epochs, val_acc, 'b', label='Validation acc')\n",
    "plt.title('Training and validation accuracy')\n",
    "plt.xlabel('Epochs')\n",
    "plt.ylabel('Accuracy')\n",
    "plt.legend()\n",
    "\n",
    "plt.show()"
   ]
  },
  {
   "cell_type": "code",
   "execution_count": null,
   "metadata": {},
   "outputs": [],
   "source": []
  }
 ],
 "metadata": {
  "kernelspec": {
   "display_name": "Python 3.8.11 ('tensorflow')",
   "language": "python",
   "name": "python3"
  },
  "language_info": {
   "codemirror_mode": {
    "name": "ipython",
    "version": 3
   },
   "file_extension": ".py",
   "mimetype": "text/x-python",
   "name": "python",
   "nbconvert_exporter": "python",
   "pygments_lexer": "ipython3",
   "version": "3.8.11"
  },
  "orig_nbformat": 4,
  "vscode": {
   "interpreter": {
    "hash": "a67d1e513a63fb5df12a1f88f9fb53c8b960337494b38d9e1ad0fe9c421b1da6"
   }
  }
 },
 "nbformat": 4,
 "nbformat_minor": 2
}
