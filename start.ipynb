{
 "cells": [
  {
   "cell_type": "code",
   "execution_count": 59,
   "metadata": {},
   "outputs": [],
   "source": [
    "import tensorflow as tf\n",
    "from tensorflow.keras import layers\n",
    "from tensorflow.keras.layers.experimental import preprocessing\n",
    "import pandas as pd\n",
    "import numpy as np\n",
    "from sklearn.model_selection import train_test_split\n",
    "import functools\n",
    "import matplotlib.pyplot as plt"
   ]
  },
  {
   "cell_type": "code",
   "execution_count": 60,
   "metadata": {},
   "outputs": [],
   "source": [
    "bladder_cancer = pd.read_csv('bladder_cancer.csv')\n",
    "\n",
    "x = pd.DataFrame(bladder_cancer, columns=['Amp_1MHz', 'Phase_1MHz', 'Amp_500kHz', 'Phase_500kHz', 'Amp_100kHz', 'Phase_100kHz', 'Amp_50kHz', 'Phase_50kHz', 'Amp_10kHz', 'Phase_10kHz'])\n",
    "\n",
    "y = pd.DataFrame(bladder_cancer, columns=['Label'])\n",
    "\n",
    "x_mean = x.mean()\n",
    "x_std = x.std()\n",
    "x = (x-x_mean)/x_std\n",
    "\n",
    "x_data, x_test, y_data, y_test = train_test_split(x, y, test_size=0.1, random_state=2)\n",
    "\n",
    "x_train, x_val, y_train, y_val = train_test_split(x_data, y_data, test_size=0.2, random_state=2) \n",
    "x_train = np.array(x_train)\n",
    "x_val = np.array(x_val)\n",
    "x_test = np.array(x_test)"
   ]
  },
  {
   "cell_type": "code",
   "execution_count": 67,
   "metadata": {},
   "outputs": [],
   "source": [
    "model = tf.keras.Sequential([\n",
    "\n",
    "   layers.Dense(64),\n",
    "   layers.Dense(1)\n",
    "\n",
    "])\n",
    "\n",
    "model.compile(loss= tf.losses.MeanSquaredError(),\n",
    "                optimizer = tf.optimizers.Adam(),\n",
    "                metrics=['accuracy'])"
   ]
  },
  {
   "cell_type": "code",
   "execution_count": 69,
   "metadata": {},
   "outputs": [
    {
     "name": "stdout",
     "output_type": "stream",
     "text": [
      "Epoch 1/10\n",
      "6/6 [==============================] - 0s 800us/step - loss: 0.1441 - accuracy: 0.7811\n",
      "Epoch 2/10\n",
      "6/6 [==============================] - 0s 800us/step - loss: 0.1437 - accuracy: 0.7988\n",
      "Epoch 3/10\n",
      "6/6 [==============================] - 0s 600us/step - loss: 0.1440 - accuracy: 0.7988\n",
      "Epoch 4/10\n",
      "6/6 [==============================] - 0s 800us/step - loss: 0.1437 - accuracy: 0.7988\n",
      "Epoch 5/10\n",
      "6/6 [==============================] - 0s 800us/step - loss: 0.1429 - accuracy: 0.7870\n",
      "Epoch 6/10\n",
      "6/6 [==============================] - 0s 800us/step - loss: 0.1434 - accuracy: 0.7988\n",
      "Epoch 7/10\n",
      "6/6 [==============================] - 0s 800us/step - loss: 0.1435 - accuracy: 0.8107\n",
      "Epoch 8/10\n",
      "6/6 [==============================] - 0s 800us/step - loss: 0.1432 - accuracy: 0.8107\n",
      "Epoch 9/10\n",
      "6/6 [==============================] - 0s 718us/step - loss: 0.1431 - accuracy: 0.7988\n",
      "Epoch 10/10\n",
      "6/6 [==============================] - 0s 618us/step - loss: 0.1441 - accuracy: 0.7811\n"
     ]
    },
    {
     "data": {
      "text/plain": [
       "<keras.callbacks.History at 0x1fb2802e0d0>"
      ]
     },
     "execution_count": 69,
     "metadata": {},
     "output_type": "execute_result"
    }
   ],
   "source": [
    "model.fit(x_train, y_train, epochs=100)"
   ]
  },
  {
   "cell_type": "code",
   "execution_count": null,
   "metadata": {},
   "outputs": [],
   "source": []
  },
  {
   "cell_type": "code",
   "execution_count": null,
   "metadata": {},
   "outputs": [],
   "source": []
  }
 ],
 "metadata": {
  "kernelspec": {
   "display_name": "Python 3.8.11 ('tensorflow')",
   "language": "python",
   "name": "python3"
  },
  "language_info": {
   "codemirror_mode": {
    "name": "ipython",
    "version": 3
   },
   "file_extension": ".py",
   "mimetype": "text/x-python",
   "name": "python",
   "nbconvert_exporter": "python",
   "pygments_lexer": "ipython3",
   "version": "3.8.11"
  },
  "orig_nbformat": 4,
  "vscode": {
   "interpreter": {
    "hash": "a67d1e513a63fb5df12a1f88f9fb53c8b960337494b38d9e1ad0fe9c421b1da6"
   }
  }
 },
 "nbformat": 4,
 "nbformat_minor": 2
}
