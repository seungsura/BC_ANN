{
 "cells": [
  {
   "cell_type": "code",
   "execution_count": 22,
   "metadata": {},
   "outputs": [],
   "source": [
    "# https://towardsdatascience.com/l1-and-l2-regularization-methods-ce25e7fc831c\n",
    "# C = 1/lamda \n",
    "# l1 : Lasso regularization\n",
    "# l2 : Ridge regularization\n",
    "# https://wikidocs.net/16594 "
   ]
  },
  {
   "cell_type": "code",
   "execution_count": 23,
   "metadata": {},
   "outputs": [],
   "source": [
    "import numpy as np\n",
    "import pandas as pd\n",
    "from sklearn.model_selection import train_test_split\n",
    "from sklearn.preprocessing import StandardScaler\n",
    "from sklearn.linear_model import LogisticRegression\n",
    "from sklearn.metrics import accuracy_score \n",
    "\n",
    "from sklearn.model_selection import StratifiedKFold \n",
    "from sklearn.model_selection import GridSearchCV  \n",
    "\n",
    "import seaborn as sns\n",
    "\n",
    "import matplotlib\n",
    "import matplotlib.pyplot as plt\n"
   ]
  },
  {
   "cell_type": "code",
   "execution_count": 24,
   "metadata": {},
   "outputs": [
    {
     "data": {
      "text/html": [
       "<div>\n",
       "<style scoped>\n",
       "    .dataframe tbody tr th:only-of-type {\n",
       "        vertical-align: middle;\n",
       "    }\n",
       "\n",
       "    .dataframe tbody tr th {\n",
       "        vertical-align: top;\n",
       "    }\n",
       "\n",
       "    .dataframe thead th {\n",
       "        text-align: right;\n",
       "    }\n",
       "</style>\n",
       "<table border=\"1\" class=\"dataframe\">\n",
       "  <thead>\n",
       "    <tr style=\"text-align: right;\">\n",
       "      <th></th>\n",
       "      <th>Amp_1MHz</th>\n",
       "      <th>Phase_1MHz</th>\n",
       "      <th>Amp_500kHz</th>\n",
       "      <th>Phase_500kHz</th>\n",
       "      <th>Amp_100kHz</th>\n",
       "      <th>Phase_100kHz</th>\n",
       "      <th>Amp_50kHz</th>\n",
       "      <th>Phase_50kHz</th>\n",
       "      <th>Amp_10kHz</th>\n",
       "      <th>Phase_10kHz</th>\n",
       "      <th>Label</th>\n",
       "    </tr>\n",
       "  </thead>\n",
       "  <tbody>\n",
       "    <tr>\n",
       "      <th>0</th>\n",
       "      <td>1826.379159</td>\n",
       "      <td>-83.458529</td>\n",
       "      <td>3578.605538</td>\n",
       "      <td>-85.824932</td>\n",
       "      <td>17848.77353</td>\n",
       "      <td>-85.555033</td>\n",
       "      <td>30923.77481</td>\n",
       "      <td>-84.679487</td>\n",
       "      <td>121151.8394</td>\n",
       "      <td>-79.349716</td>\n",
       "      <td>1</td>\n",
       "    </tr>\n",
       "    <tr>\n",
       "      <th>1</th>\n",
       "      <td>1822.430390</td>\n",
       "      <td>-83.707765</td>\n",
       "      <td>3588.429488</td>\n",
       "      <td>-85.421176</td>\n",
       "      <td>17537.29920</td>\n",
       "      <td>-87.164969</td>\n",
       "      <td>31855.09213</td>\n",
       "      <td>-88.802440</td>\n",
       "      <td>121616.4272</td>\n",
       "      <td>-78.980499</td>\n",
       "      <td>1</td>\n",
       "    </tr>\n",
       "    <tr>\n",
       "      <th>2</th>\n",
       "      <td>1824.105505</td>\n",
       "      <td>-83.823186</td>\n",
       "      <td>3532.988697</td>\n",
       "      <td>-85.372390</td>\n",
       "      <td>16429.97769</td>\n",
       "      <td>-87.916345</td>\n",
       "      <td>31066.25861</td>\n",
       "      <td>-83.519898</td>\n",
       "      <td>121313.6036</td>\n",
       "      <td>-79.646773</td>\n",
       "      <td>1</td>\n",
       "    </tr>\n",
       "  </tbody>\n",
       "</table>\n",
       "</div>"
      ],
      "text/plain": [
       "      Amp_1MHz  Phase_1MHz   Amp_500kHz  Phase_500kHz   Amp_100kHz  \\\n",
       "0  1826.379159  -83.458529  3578.605538    -85.824932  17848.77353   \n",
       "1  1822.430390  -83.707765  3588.429488    -85.421176  17537.29920   \n",
       "2  1824.105505  -83.823186  3532.988697    -85.372390  16429.97769   \n",
       "\n",
       "   Phase_100kHz    Amp_50kHz  Phase_50kHz    Amp_10kHz  Phase_10kHz  Label  \n",
       "0    -85.555033  30923.77481   -84.679487  121151.8394   -79.349716      1  \n",
       "1    -87.164969  31855.09213   -88.802440  121616.4272   -78.980499      1  \n",
       "2    -87.916345  31066.25861   -83.519898  121313.6036   -79.646773      1  "
      ]
     },
     "execution_count": 24,
     "metadata": {},
     "output_type": "execute_result"
    }
   ],
   "source": [
    "data = pd.read_csv(\"bladder_cancer.csv\")\n",
    "data.head(3)"
   ]
  },
  {
   "cell_type": "code",
   "execution_count": 25,
   "metadata": {},
   "outputs": [
    {
     "data": {
      "text/plain": [
       "Amp_1MHz        0\n",
       "Phase_1MHz      0\n",
       "Amp_500kHz      0\n",
       "Phase_500kHz    0\n",
       "Amp_100kHz      0\n",
       "Phase_100kHz    0\n",
       "Amp_50kHz       0\n",
       "Phase_50kHz     0\n",
       "Amp_10kHz       0\n",
       "Phase_10kHz     0\n",
       "Label           0\n",
       "dtype: int64"
      ]
     },
     "execution_count": 25,
     "metadata": {},
     "output_type": "execute_result"
    }
   ],
   "source": [
    "# pd.set_option('display.max_rows',None) # pandas 의 row 값을 모두 보고 싶을 때 설정하는 option\n",
    "data.isnull().sum()"
   ]
  },
  {
   "cell_type": "code",
   "execution_count": 26,
   "metadata": {},
   "outputs": [],
   "source": [
    "data = data.dropna()"
   ]
  },
  {
   "cell_type": "code",
   "execution_count": 27,
   "metadata": {},
   "outputs": [
    {
     "data": {
      "text/plain": [
       "Amp_1MHz        0\n",
       "Phase_1MHz      0\n",
       "Amp_500kHz      0\n",
       "Phase_500kHz    0\n",
       "Amp_100kHz      0\n",
       "Phase_100kHz    0\n",
       "Amp_50kHz       0\n",
       "Phase_50kHz     0\n",
       "Amp_10kHz       0\n",
       "Phase_10kHz     0\n",
       "Label           0\n",
       "dtype: int64"
      ]
     },
     "execution_count": 27,
     "metadata": {},
     "output_type": "execute_result"
    }
   ],
   "source": [
    "data.isnull().sum()"
   ]
  },
  {
   "cell_type": "code",
   "execution_count": 28,
   "metadata": {},
   "outputs": [],
   "source": [
    "# data"
   ]
  },
  {
   "cell_type": "code",
   "execution_count": 29,
   "metadata": {},
   "outputs": [],
   "source": [
    "\n",
    "X = data.drop(columns=['Label'], axis=1)\n",
    "y = data['Label']"
   ]
  },
  {
   "cell_type": "code",
   "execution_count": 30,
   "metadata": {},
   "outputs": [],
   "source": [
    "# train_set with cross-validation : test_set = 80 : 20 \n",
    "\n",
    "train_feature, test_feature, train_label, test_label = train_test_split(X, y, test_size = 0.2,random_state=1)"
   ]
  },
  {
   "cell_type": "code",
   "execution_count": 31,
   "metadata": {},
   "outputs": [
    {
     "name": "stdout",
     "output_type": "stream",
     "text": [
      "(188, 10)\n",
      "(48, 10)\n",
      "(188,)\n",
      "(48,)\n"
     ]
    }
   ],
   "source": [
    "print(train_feature.shape)\n",
    "print(test_feature.shape)\n",
    "print(train_label.shape)\n",
    "print(test_label.shape)"
   ]
  },
  {
   "cell_type": "code",
   "execution_count": 32,
   "metadata": {},
   "outputs": [],
   "source": [
    "# feature normalization, label 은 normalization 진행하지 않았음\n",
    "scaler = StandardScaler() # scaler 객체 생성\n",
    "scaler.fit(train_feature) # train_feature 의 mean 과 standard deviation 값을 추출\n",
    "train_feature_scaled = scaler.transform(train_feature) # train_feature 의 정규화 진행\n",
    "test_feature_scaled = scaler.transform(test_feature) # test_feature 의 정규화 진행.\n",
    "# test_feature 는 mean 과 standard deviation 값을 추출하는 과정 하면 안됨. \n",
    "# 학습할 때와 동일한 기반 설정으로 동일하게 테스트 데이터를 변환되야 함. "
   ]
  },
  {
   "cell_type": "code",
   "execution_count": 33,
   "metadata": {},
   "outputs": [
    {
     "name": "stdout",
     "output_type": "stream",
     "text": [
      "[1.00000000e-04 1.02329299e-04 1.04712855e-04 1.07151931e-04\n",
      " 1.09647820e-04 1.12201845e-04 1.14815362e-04 1.17489755e-04\n",
      " 1.20226443e-04 1.23026877e-04 1.25892541e-04 1.28824955e-04\n",
      " 1.31825674e-04 1.34896288e-04 1.38038426e-04 1.41253754e-04\n",
      " 1.44543977e-04 1.47910839e-04 1.51356125e-04 1.54881662e-04\n",
      " 1.58489319e-04 1.62181010e-04 1.65958691e-04 1.69824365e-04\n",
      " 1.73780083e-04 1.77827941e-04 1.81970086e-04 1.86208714e-04\n",
      " 1.90546072e-04 1.94984460e-04 1.99526231e-04 2.04173794e-04\n",
      " 2.08929613e-04 2.13796209e-04 2.18776162e-04 2.23872114e-04\n",
      " 2.29086765e-04 2.34422882e-04 2.39883292e-04 2.45470892e-04\n",
      " 2.51188643e-04 2.57039578e-04 2.63026799e-04 2.69153480e-04\n",
      " 2.75422870e-04 2.81838293e-04 2.88403150e-04 2.95120923e-04\n",
      " 3.01995172e-04 3.09029543e-04 3.16227766e-04 3.23593657e-04\n",
      " 3.31131121e-04 3.38844156e-04 3.46736850e-04 3.54813389e-04\n",
      " 3.63078055e-04 3.71535229e-04 3.80189396e-04 3.89045145e-04\n",
      " 3.98107171e-04 4.07380278e-04 4.16869383e-04 4.26579519e-04\n",
      " 4.36515832e-04 4.46683592e-04 4.57088190e-04 4.67735141e-04\n",
      " 4.78630092e-04 4.89778819e-04 5.01187234e-04 5.12861384e-04\n",
      " 5.24807460e-04 5.37031796e-04 5.49540874e-04 5.62341325e-04\n",
      " 5.75439937e-04 5.88843655e-04 6.02559586e-04 6.16595002e-04\n",
      " 6.30957344e-04 6.45654229e-04 6.60693448e-04 6.76082975e-04\n",
      " 6.91830971e-04 7.07945784e-04 7.24435960e-04 7.41310241e-04\n",
      " 7.58577575e-04 7.76247117e-04 7.94328235e-04 8.12830516e-04\n",
      " 8.31763771e-04 8.51138038e-04 8.70963590e-04 8.91250938e-04\n",
      " 9.12010839e-04 9.33254301e-04 9.54992586e-04 9.77237221e-04\n",
      " 1.00000000e-03 1.02329299e-03 1.04712855e-03 1.07151931e-03\n",
      " 1.09647820e-03 1.12201845e-03 1.14815362e-03 1.17489755e-03\n",
      " 1.20226443e-03 1.23026877e-03 1.25892541e-03 1.28824955e-03\n",
      " 1.31825674e-03 1.34896288e-03 1.38038426e-03 1.41253754e-03\n",
      " 1.44543977e-03 1.47910839e-03 1.51356125e-03 1.54881662e-03\n",
      " 1.58489319e-03 1.62181010e-03 1.65958691e-03 1.69824365e-03\n",
      " 1.73780083e-03 1.77827941e-03 1.81970086e-03 1.86208714e-03\n",
      " 1.90546072e-03 1.94984460e-03 1.99526231e-03 2.04173794e-03\n",
      " 2.08929613e-03 2.13796209e-03 2.18776162e-03 2.23872114e-03\n",
      " 2.29086765e-03 2.34422882e-03 2.39883292e-03 2.45470892e-03\n",
      " 2.51188643e-03 2.57039578e-03 2.63026799e-03 2.69153480e-03\n",
      " 2.75422870e-03 2.81838293e-03 2.88403150e-03 2.95120923e-03\n",
      " 3.01995172e-03 3.09029543e-03 3.16227766e-03 3.23593657e-03\n",
      " 3.31131121e-03 3.38844156e-03 3.46736850e-03 3.54813389e-03\n",
      " 3.63078055e-03 3.71535229e-03 3.80189396e-03 3.89045145e-03\n",
      " 3.98107171e-03 4.07380278e-03 4.16869383e-03 4.26579519e-03\n",
      " 4.36515832e-03 4.46683592e-03 4.57088190e-03 4.67735141e-03\n",
      " 4.78630092e-03 4.89778819e-03 5.01187234e-03 5.12861384e-03\n",
      " 5.24807460e-03 5.37031796e-03 5.49540874e-03 5.62341325e-03\n",
      " 5.75439937e-03 5.88843655e-03 6.02559586e-03 6.16595002e-03\n",
      " 6.30957344e-03 6.45654229e-03 6.60693448e-03 6.76082975e-03\n",
      " 6.91830971e-03 7.07945784e-03 7.24435960e-03 7.41310241e-03\n",
      " 7.58577575e-03 7.76247117e-03 7.94328235e-03 8.12830516e-03\n",
      " 8.31763771e-03 8.51138038e-03 8.70963590e-03 8.91250938e-03\n",
      " 9.12010839e-03 9.33254301e-03 9.54992586e-03 9.77237221e-03\n",
      " 1.00000000e-02 1.02329299e-02 1.04712855e-02 1.07151931e-02\n",
      " 1.09647820e-02 1.12201845e-02 1.14815362e-02 1.17489755e-02\n",
      " 1.20226443e-02 1.23026877e-02 1.25892541e-02 1.28824955e-02\n",
      " 1.31825674e-02 1.34896288e-02 1.38038426e-02 1.41253754e-02\n",
      " 1.44543977e-02 1.47910839e-02 1.51356125e-02 1.54881662e-02\n",
      " 1.58489319e-02 1.62181010e-02 1.65958691e-02 1.69824365e-02\n",
      " 1.73780083e-02 1.77827941e-02 1.81970086e-02 1.86208714e-02\n",
      " 1.90546072e-02 1.94984460e-02 1.99526231e-02 2.04173794e-02\n",
      " 2.08929613e-02 2.13796209e-02 2.18776162e-02 2.23872114e-02\n",
      " 2.29086765e-02 2.34422882e-02 2.39883292e-02 2.45470892e-02\n",
      " 2.51188643e-02 2.57039578e-02 2.63026799e-02 2.69153480e-02\n",
      " 2.75422870e-02 2.81838293e-02 2.88403150e-02 2.95120923e-02\n",
      " 3.01995172e-02 3.09029543e-02 3.16227766e-02 3.23593657e-02\n",
      " 3.31131121e-02 3.38844156e-02 3.46736850e-02 3.54813389e-02\n",
      " 3.63078055e-02 3.71535229e-02 3.80189396e-02 3.89045145e-02\n",
      " 3.98107171e-02 4.07380278e-02 4.16869383e-02 4.26579519e-02\n",
      " 4.36515832e-02 4.46683592e-02 4.57088190e-02 4.67735141e-02\n",
      " 4.78630092e-02 4.89778819e-02 5.01187234e-02 5.12861384e-02\n",
      " 5.24807460e-02 5.37031796e-02 5.49540874e-02 5.62341325e-02\n",
      " 5.75439937e-02 5.88843655e-02 6.02559586e-02 6.16595002e-02\n",
      " 6.30957344e-02 6.45654229e-02 6.60693448e-02 6.76082975e-02\n",
      " 6.91830971e-02 7.07945784e-02 7.24435960e-02 7.41310241e-02\n",
      " 7.58577575e-02 7.76247117e-02 7.94328235e-02 8.12830516e-02\n",
      " 8.31763771e-02 8.51138038e-02 8.70963590e-02 8.91250938e-02\n",
      " 9.12010839e-02 9.33254301e-02 9.54992586e-02 9.77237221e-02\n",
      " 1.00000000e-01 1.02329299e-01 1.04712855e-01 1.07151931e-01\n",
      " 1.09647820e-01 1.12201845e-01 1.14815362e-01 1.17489755e-01\n",
      " 1.20226443e-01 1.23026877e-01 1.25892541e-01 1.28824955e-01\n",
      " 1.31825674e-01 1.34896288e-01 1.38038426e-01 1.41253754e-01\n",
      " 1.44543977e-01 1.47910839e-01 1.51356125e-01 1.54881662e-01\n",
      " 1.58489319e-01 1.62181010e-01 1.65958691e-01 1.69824365e-01\n",
      " 1.73780083e-01 1.77827941e-01 1.81970086e-01 1.86208714e-01\n",
      " 1.90546072e-01 1.94984460e-01 1.99526231e-01 2.04173794e-01\n",
      " 2.08929613e-01 2.13796209e-01 2.18776162e-01 2.23872114e-01\n",
      " 2.29086765e-01 2.34422882e-01 2.39883292e-01 2.45470892e-01\n",
      " 2.51188643e-01 2.57039578e-01 2.63026799e-01 2.69153480e-01\n",
      " 2.75422870e-01 2.81838293e-01 2.88403150e-01 2.95120923e-01\n",
      " 3.01995172e-01 3.09029543e-01 3.16227766e-01 3.23593657e-01\n",
      " 3.31131121e-01 3.38844156e-01 3.46736850e-01 3.54813389e-01\n",
      " 3.63078055e-01 3.71535229e-01 3.80189396e-01 3.89045145e-01\n",
      " 3.98107171e-01 4.07380278e-01 4.16869383e-01 4.26579519e-01\n",
      " 4.36515832e-01 4.46683592e-01 4.57088190e-01 4.67735141e-01\n",
      " 4.78630092e-01 4.89778819e-01 5.01187234e-01 5.12861384e-01\n",
      " 5.24807460e-01 5.37031796e-01 5.49540874e-01 5.62341325e-01\n",
      " 5.75439937e-01 5.88843655e-01 6.02559586e-01 6.16595002e-01\n",
      " 6.30957344e-01 6.45654229e-01 6.60693448e-01 6.76082975e-01\n",
      " 6.91830971e-01 7.07945784e-01 7.24435960e-01 7.41310241e-01\n",
      " 7.58577575e-01 7.76247117e-01 7.94328235e-01 8.12830516e-01\n",
      " 8.31763771e-01 8.51138038e-01 8.70963590e-01 8.91250938e-01\n",
      " 9.12010839e-01 9.33254301e-01 9.54992586e-01 9.77237221e-01\n",
      " 1.00000000e+00 1.02329299e+00 1.04712855e+00 1.07151931e+00\n",
      " 1.09647820e+00 1.12201845e+00 1.14815362e+00 1.17489755e+00\n",
      " 1.20226443e+00 1.23026877e+00 1.25892541e+00 1.28824955e+00\n",
      " 1.31825674e+00 1.34896288e+00 1.38038426e+00 1.41253754e+00\n",
      " 1.44543977e+00 1.47910839e+00 1.51356125e+00 1.54881662e+00\n",
      " 1.58489319e+00 1.62181010e+00 1.65958691e+00 1.69824365e+00\n",
      " 1.73780083e+00 1.77827941e+00 1.81970086e+00 1.86208714e+00\n",
      " 1.90546072e+00 1.94984460e+00 1.99526231e+00 2.04173794e+00\n",
      " 2.08929613e+00 2.13796209e+00 2.18776162e+00 2.23872114e+00\n",
      " 2.29086765e+00 2.34422882e+00 2.39883292e+00 2.45470892e+00\n",
      " 2.51188643e+00 2.57039578e+00 2.63026799e+00 2.69153480e+00\n",
      " 2.75422870e+00 2.81838293e+00 2.88403150e+00 2.95120923e+00\n",
      " 3.01995172e+00 3.09029543e+00 3.16227766e+00 3.23593657e+00\n",
      " 3.31131121e+00 3.38844156e+00 3.46736850e+00 3.54813389e+00\n",
      " 3.63078055e+00 3.71535229e+00 3.80189396e+00 3.89045145e+00\n",
      " 3.98107171e+00 4.07380278e+00 4.16869383e+00 4.26579519e+00\n",
      " 4.36515832e+00 4.46683592e+00 4.57088190e+00 4.67735141e+00\n",
      " 4.78630092e+00 4.89778819e+00 5.01187234e+00 5.12861384e+00\n",
      " 5.24807460e+00 5.37031796e+00 5.49540874e+00 5.62341325e+00\n",
      " 5.75439937e+00 5.88843655e+00 6.02559586e+00 6.16595002e+00\n",
      " 6.30957344e+00 6.45654229e+00 6.60693448e+00 6.76082975e+00\n",
      " 6.91830971e+00 7.07945784e+00 7.24435960e+00 7.41310241e+00\n",
      " 7.58577575e+00 7.76247117e+00 7.94328235e+00 8.12830516e+00\n",
      " 8.31763771e+00 8.51138038e+00 8.70963590e+00 8.91250938e+00\n",
      " 9.12010839e+00 9.33254301e+00 9.54992586e+00 9.77237221e+00]\n"
     ]
    }
   ],
   "source": [
    "# np.arange(start,stop,step)\n",
    "C_range = 10. ** np.arange(-4,1,0.01) # 3-(-3)/10\n",
    "print(C_range)\n",
    "regrularization = ['l1', 'l2']\n",
    "#print(regrularization)"
   ]
  },
  {
   "cell_type": "code",
   "execution_count": 34,
   "metadata": {},
   "outputs": [],
   "source": [
    "param_grid = dict(C=C_range)\n",
    "# param_grid\n"
   ]
  },
  {
   "cell_type": "code",
   "execution_count": 35,
   "metadata": {},
   "outputs": [
    {
     "data": {
      "text/plain": [
       "GridSearchCV(cv=StratifiedKFold(n_splits=5, random_state=None, shuffle=False),\n",
       "             estimator=LogisticRegression(),\n",
       "             param_grid={'C': array([1.00000000e-04, 1.02329299e-04, 1.04712855e-04, 1.07151931e-04,\n",
       "       1.09647820e-04, 1.12201845e-04, 1.14815362e-04, 1.17489755e-04,\n",
       "       1.20226443e-04, 1.23026877e-04, 1.25892541e-04, 1.28824955e-04,\n",
       "       1.31825674e-04, 1.34896288e-04, 1.38038426...\n",
       "       5.75439937e+00, 5.88843655e+00, 6.02559586e+00, 6.16595002e+00,\n",
       "       6.30957344e+00, 6.45654229e+00, 6.60693448e+00, 6.76082975e+00,\n",
       "       6.91830971e+00, 7.07945784e+00, 7.24435960e+00, 7.41310241e+00,\n",
       "       7.58577575e+00, 7.76247117e+00, 7.94328235e+00, 8.12830516e+00,\n",
       "       8.31763771e+00, 8.51138038e+00, 8.70963590e+00, 8.91250938e+00,\n",
       "       9.12010839e+00, 9.33254301e+00, 9.54992586e+00, 9.77237221e+00])})"
      ]
     },
     "execution_count": 35,
     "metadata": {},
     "output_type": "execute_result"
    }
   ],
   "source": [
    "# grid search \n",
    "grid = GridSearchCV(LogisticRegression(), param_grid=param_grid, cv = StratifiedKFold(5)) # k = 5\n",
    "\n",
    "# 학습 실행\n",
    "grid.fit(train_feature_scaled, train_label)"
   ]
  },
  {
   "cell_type": "code",
   "execution_count": 36,
   "metadata": {},
   "outputs": [
    {
     "name": "stdout",
     "output_type": "stream",
     "text": [
      "best_parameter: LogisticRegression(C=0.021379620895019876)\n",
      "best_score: 0.7709815078236131\n"
     ]
    }
   ],
   "source": [
    "# best parameter 추출 & best score\n",
    "\n",
    "best_parameter=grid.best_estimator_\n",
    "\n",
    "print(\"best_parameter:\", grid.best_estimator_)\n",
    "print(\"best_score:\", grid.best_score_)"
   ]
  },
  {
   "cell_type": "code",
   "execution_count": 37,
   "metadata": {},
   "outputs": [
    {
     "data": {
      "text/plain": [
       "0.7916666666666666"
      ]
     },
     "execution_count": 37,
     "metadata": {},
     "output_type": "execute_result"
    }
   ],
   "source": [
    "# test set 예측\n",
    "\n",
    "predictions_test_set = best_parameter.predict(test_feature_scaled)\n",
    "\n",
    "accuracy_score(test_label, predictions_test_set)"
   ]
  },
  {
   "cell_type": "code",
   "execution_count": 38,
   "metadata": {},
   "outputs": [
    {
     "data": {
      "text/html": [
       "<div>\n",
       "<style scoped>\n",
       "    .dataframe tbody tr th:only-of-type {\n",
       "        vertical-align: middle;\n",
       "    }\n",
       "\n",
       "    .dataframe tbody tr th {\n",
       "        vertical-align: top;\n",
       "    }\n",
       "\n",
       "    .dataframe thead th {\n",
       "        text-align: right;\n",
       "    }\n",
       "</style>\n",
       "<table border=\"1\" class=\"dataframe\">\n",
       "  <thead>\n",
       "    <tr style=\"text-align: right;\">\n",
       "      <th></th>\n",
       "      <th>mean_fit_time</th>\n",
       "      <th>std_fit_time</th>\n",
       "      <th>mean_score_time</th>\n",
       "      <th>std_score_time</th>\n",
       "      <th>param_C</th>\n",
       "      <th>params</th>\n",
       "      <th>split0_test_score</th>\n",
       "      <th>split1_test_score</th>\n",
       "      <th>split2_test_score</th>\n",
       "      <th>split3_test_score</th>\n",
       "      <th>split4_test_score</th>\n",
       "      <th>mean_test_score</th>\n",
       "      <th>std_test_score</th>\n",
       "      <th>rank_test_score</th>\n",
       "    </tr>\n",
       "  </thead>\n",
       "  <tbody>\n",
       "    <tr>\n",
       "      <th>0</th>\n",
       "      <td>0.003001</td>\n",
       "      <td>2.780415e-07</td>\n",
       "      <td>0.0006</td>\n",
       "      <td>0.00049</td>\n",
       "      <td>0.0001</td>\n",
       "      <td>{'C': 0.0001}</td>\n",
       "      <td>0.578947</td>\n",
       "      <td>0.578947</td>\n",
       "      <td>0.605263</td>\n",
       "      <td>0.594595</td>\n",
       "      <td>0.594595</td>\n",
       "      <td>0.590469</td>\n",
       "      <td>0.010182</td>\n",
       "      <td>353</td>\n",
       "    </tr>\n",
       "    <tr>\n",
       "      <th>1</th>\n",
       "      <td>0.002801</td>\n",
       "      <td>4.001859e-04</td>\n",
       "      <td>0.0000</td>\n",
       "      <td>0.00000</td>\n",
       "      <td>0.000102</td>\n",
       "      <td>{'C': 0.00010232929922807536}</td>\n",
       "      <td>0.578947</td>\n",
       "      <td>0.578947</td>\n",
       "      <td>0.605263</td>\n",
       "      <td>0.594595</td>\n",
       "      <td>0.594595</td>\n",
       "      <td>0.590469</td>\n",
       "      <td>0.010182</td>\n",
       "      <td>353</td>\n",
       "    </tr>\n",
       "    <tr>\n",
       "      <th>2</th>\n",
       "      <td>0.002400</td>\n",
       "      <td>4.896291e-04</td>\n",
       "      <td>0.0002</td>\n",
       "      <td>0.00040</td>\n",
       "      <td>0.000105</td>\n",
       "      <td>{'C': 0.00010471285480508985}</td>\n",
       "      <td>0.578947</td>\n",
       "      <td>0.578947</td>\n",
       "      <td>0.605263</td>\n",
       "      <td>0.594595</td>\n",
       "      <td>0.594595</td>\n",
       "      <td>0.590469</td>\n",
       "      <td>0.010182</td>\n",
       "      <td>353</td>\n",
       "    </tr>\n",
       "    <tr>\n",
       "      <th>3</th>\n",
       "      <td>0.002801</td>\n",
       "      <td>4.000191e-04</td>\n",
       "      <td>0.0002</td>\n",
       "      <td>0.00040</td>\n",
       "      <td>0.000107</td>\n",
       "      <td>{'C': 0.00010715193052376048}</td>\n",
       "      <td>0.578947</td>\n",
       "      <td>0.578947</td>\n",
       "      <td>0.605263</td>\n",
       "      <td>0.594595</td>\n",
       "      <td>0.594595</td>\n",
       "      <td>0.590469</td>\n",
       "      <td>0.010182</td>\n",
       "      <td>353</td>\n",
       "    </tr>\n",
       "    <tr>\n",
       "      <th>4</th>\n",
       "      <td>0.002801</td>\n",
       "      <td>4.001618e-04</td>\n",
       "      <td>0.0002</td>\n",
       "      <td>0.00040</td>\n",
       "      <td>0.00011</td>\n",
       "      <td>{'C': 0.00010964781961431828}</td>\n",
       "      <td>0.578947</td>\n",
       "      <td>0.578947</td>\n",
       "      <td>0.605263</td>\n",
       "      <td>0.594595</td>\n",
       "      <td>0.594595</td>\n",
       "      <td>0.590469</td>\n",
       "      <td>0.010182</td>\n",
       "      <td>353</td>\n",
       "    </tr>\n",
       "  </tbody>\n",
       "</table>\n",
       "</div>"
      ],
      "text/plain": [
       "   mean_fit_time  std_fit_time  mean_score_time  std_score_time   param_C  \\\n",
       "0       0.003001  2.780415e-07           0.0006         0.00049    0.0001   \n",
       "1       0.002801  4.001859e-04           0.0000         0.00000  0.000102   \n",
       "2       0.002400  4.896291e-04           0.0002         0.00040  0.000105   \n",
       "3       0.002801  4.000191e-04           0.0002         0.00040  0.000107   \n",
       "4       0.002801  4.001618e-04           0.0002         0.00040   0.00011   \n",
       "\n",
       "                          params  split0_test_score  split1_test_score  \\\n",
       "0                  {'C': 0.0001}           0.578947           0.578947   \n",
       "1  {'C': 0.00010232929922807536}           0.578947           0.578947   \n",
       "2  {'C': 0.00010471285480508985}           0.578947           0.578947   \n",
       "3  {'C': 0.00010715193052376048}           0.578947           0.578947   \n",
       "4  {'C': 0.00010964781961431828}           0.578947           0.578947   \n",
       "\n",
       "   split2_test_score  split3_test_score  split4_test_score  mean_test_score  \\\n",
       "0           0.605263           0.594595           0.594595         0.590469   \n",
       "1           0.605263           0.594595           0.594595         0.590469   \n",
       "2           0.605263           0.594595           0.594595         0.590469   \n",
       "3           0.605263           0.594595           0.594595         0.590469   \n",
       "4           0.605263           0.594595           0.594595         0.590469   \n",
       "\n",
       "   std_test_score  rank_test_score  \n",
       "0        0.010182              353  \n",
       "1        0.010182              353  \n",
       "2        0.010182              353  \n",
       "3        0.010182              353  \n",
       "4        0.010182              353  "
      ]
     },
     "execution_count": 38,
     "metadata": {},
     "output_type": "execute_result"
    }
   ],
   "source": [
    "results_df = pd.DataFrame(grid.cv_results_)\n",
    "results_df.head(5)"
   ]
  },
  {
   "cell_type": "code",
   "execution_count": 39,
   "metadata": {},
   "outputs": [
    {
     "data": {
      "text/plain": [
       "0      0.590469\n",
       "1      0.590469\n",
       "2      0.590469\n",
       "3      0.590469\n",
       "4      0.590469\n",
       "         ...   \n",
       "495    0.749502\n",
       "496    0.749502\n",
       "497    0.749502\n",
       "498    0.749502\n",
       "499    0.749502\n",
       "Name: mean_test_score, Length: 500, dtype: float64"
      ]
     },
     "execution_count": 39,
     "metadata": {},
     "output_type": "execute_result"
    }
   ],
   "source": [
    "df_mean=results_df['mean_test_score']\n",
    "df_mean"
   ]
  },
  {
   "cell_type": "code",
   "execution_count": 40,
   "metadata": {},
   "outputs": [],
   "source": [
    "from mpl_toolkits.mplot3d import Axes3D\n",
    "import matplotlib.cm as cm\n",
    "\n",
    "import matplotlib.font_manager as fm\n",
    "from matplotlib import font_manager, rc"
   ]
  },
  {
   "cell_type": "code",
   "execution_count": 41,
   "metadata": {},
   "outputs": [],
   "source": [
    "# set Times New Roman as global font\n",
    "from matplotlib import font_manager, rc\n",
    "from matplotlib.font_manager import FontProperties\n",
    "\n",
    "font_path = \"C:/Windows/Fonts/times.ttf\"\n",
    "font = font_manager.FontProperties(fname=font_path).get_name()\n",
    "rc('font', family=font)\n",
    "\n"
   ]
  },
  {
   "cell_type": "code",
   "execution_count": 42,
   "metadata": {},
   "outputs": [
    {
     "data": {
      "image/png": "[encoded data removed]",
      "text/plain": [
       "<Figure size 432x288 with 1 Axes>"
      ]
     },
     "metadata": {
      "needs_background": "light"
     },
     "output_type": "display_data"
    }
   ],
   "source": [
    "fig = plt.figure(1)\n",
    "ax = plt.axes()\n",
    "\n",
    "font = FontProperties()\n",
    "font.set_name('Times New Roman')\n",
    "plt.rcParams['xtick.labelsize'] = 14\n",
    "plt.rcParams['ytick.labelsize'] = 14\n",
    "\n",
    "ax.set_xlabel('Penalty parameter (C)', fontsize=18, fontdict=dict(weight='bold'))\n",
    "plt.xscale(\"log\")\n",
    "ax.set_ylabel('Accuracy', fontsize=18, fontdict=dict(weight='bold'))\n",
    "\n",
    "graph = ax.plot(C_range,df_mean, \"m-\", linewidth=2) # m: magenta color\n",
    "# fig.colorbar(graph,ax=ax)\n",
    "# print(C_range)\n",
    "# print(df_mean)"
   ]
  }
 ],
 "metadata": {
  "kernelspec": {
   "display_name": "Python 3.8.8 ('tensorflow')",
   "language": "python",
   "name": "python3"
  },
  "language_info": {
   "codemirror_mode": {
    "name": "ipython",
    "version": 3
   },
   "file_extension": ".py",
   "mimetype": "text/x-python",
   "name": "python",
   "nbconvert_exporter": "python",
   "pygments_lexer": "ipython3",
   "version": "3.8.8"
  },
  "orig_nbformat": 4,
  "vscode": {
   "interpreter": {
    "hash": "a67d1e513a63fb5df12a1f88f9fb53c8b960337494b38d9e1ad0fe9c421b1da6"
   }
  }
 },
 "nbformat": 4,
 "nbformat_minor": 2
}
