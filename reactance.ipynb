{
 "cells": [
  {
   "cell_type": "code",
   "execution_count": 163,
   "metadata": {},
   "outputs": [],
   "source": [
    "import numpy as np\n",
    "import pylab as pl\n",
    "import pandas as pd\n",
    "import math\n",
    "import csv"
   ]
  },
  {
   "cell_type": "code",
   "execution_count": 164,
   "metadata": {},
   "outputs": [],
   "source": [
    "data = pd.read_csv(\"bladder_cancer.csv\")\n",
    "data.head(3)\n",
    "\n",
    "data = data.dropna()\n",
    "y = data['Label']\n",
    "x = pd.DataFrame(data, columns=['Amp_1MHz', 'Phase_1MHz', 'Amp_500kHz', 'Phase_500kHz', 'Amp_100kHz', 'Phase_100kHz', 'Amp_50kHz', 'Phase_50kHz', 'Amp_10kHz', 'Phase_10kHz'])"
   ]
  },
  {
   "cell_type": "code",
   "execution_count": 165,
   "metadata": {},
   "outputs": [],
   "source": [
    "df_dict = x.to_dict()\n",
    "dic_val = df_dict['Amp_1MHz'].values()\n",
    "dic_list = list(dic_val)\n",
    "dic_val1 = df_dict['Phase_1MHz'].values()\n",
    "dic_list1 = list(dic_val1)"
   ]
  },
  {
   "cell_type": "code",
   "execution_count": 143,
   "metadata": {},
   "outputs": [],
   "source": [
    "diclist2 = []\n",
    "diclist3 = []\n",
    "for i in range(236) :\n",
    "    diclist2.append(dic_list[i] * math.cos(dic_list1[i]))\n",
    "    diclist3.append(dic_list[i] * math.sin(dic_list1[i]))\n"
   ]
  },
  {
   "cell_type": "code",
   "execution_count": 144,
   "metadata": {},
   "outputs": [],
   "source": [
    "df = pd.DataFrame(diclist2, columns= ['R_1MHz'])\n",
    "df['X_1MHz'] = diclist3\n"
   ]
  },
  {
   "cell_type": "code",
   "execution_count": 145,
   "metadata": {},
   "outputs": [],
   "source": [
    "df_dict = x.to_dict()\n",
    "dic_val = df_dict['Amp_500kHz'].values()\n",
    "dic_list = list(dic_val)\n",
    "dic_val1 = df_dict['Phase_500kHz'].values()\n",
    "dic_list1 = list(dic_val1)\n",
    "diclist2 = []\n",
    "diclist3 = []\n",
    "for i in range(236) :\n",
    "    diclist2.append(dic_list[i] * math.cos(dic_list1[i]))\n",
    "    diclist3.append(dic_list[i] * math.sin(dic_list1[i]))\n",
    "df['R_500kHz'] = diclist2\n",
    "df['X_500MHz'] = diclist3\n"
   ]
  },
  {
   "cell_type": "code",
   "execution_count": 146,
   "metadata": {},
   "outputs": [],
   "source": [
    "df_dict = x.to_dict()\n",
    "dic_val = df_dict['Amp_100kHz'].values()\n",
    "dic_list = list(dic_val)\n",
    "dic_val1 = df_dict['Phase_100kHz'].values()\n",
    "dic_list1 = list(dic_val1)\n",
    "diclist2 = []\n",
    "diclist3 = []\n",
    "for i in range(236) :\n",
    "    diclist2.append(dic_list[i] * math.cos(dic_list1[i]))\n",
    "    diclist3.append(dic_list[i] * math.sin(dic_list1[i]))\n",
    "df['R_100kHz'] = diclist2\n",
    "df['X_100MHz'] = diclist3\n"
   ]
  },
  {
   "cell_type": "code",
   "execution_count": 147,
   "metadata": {},
   "outputs": [],
   "source": [
    "df_dict = x.to_dict()\n",
    "dic_val = df_dict['Amp_50kHz'].values()\n",
    "dic_list = list(dic_val)\n",
    "dic_val1 = df_dict['Phase_50kHz'].values()\n",
    "dic_list1 = list(dic_val1)\n",
    "diclist2 = []\n",
    "diclist3 = []\n",
    "for i in range(236) :\n",
    "    diclist2.append(dic_list[i] * math.cos(dic_list1[i]))\n",
    "    diclist3.append(dic_list[i] * math.sin(dic_list1[i]))\n",
    "df['R_50kHz'] = diclist2\n",
    "df['X_50MHz'] = diclist3\n"
   ]
  },
  {
   "cell_type": "code",
   "execution_count": 148,
   "metadata": {},
   "outputs": [],
   "source": [
    "df_dict = x.to_dict()\n",
    "dic_val = df_dict['Amp_10kHz'].values()\n",
    "dic_list = list(dic_val)\n",
    "dic_val1 = df_dict['Phase_10kHz'].values()\n",
    "dic_list1 = list(dic_val1)\n",
    "diclist2 = []\n",
    "diclist3 = []\n",
    "for i in range(236) :\n",
    "    diclist2.append(dic_list[i] * math.cos(dic_list1[i]))\n",
    "    diclist3.append(dic_list[i] * math.sin(dic_list1[i]))\n",
    "df['R_10kHz'] = diclist2\n",
    "df['X_10MHz'] = diclist3\n"
   ]
  },
  {
   "cell_type": "code",
   "execution_count": 149,
   "metadata": {},
   "outputs": [],
   "source": [
    "df['label'] = y\n",
    "df.to_csv(\"reactance.csv\", index = False)"
   ]
  },
  {
   "cell_type": "code",
   "execution_count": 166,
   "metadata": {},
   "outputs": [],
   "source": [
    "df_dict = x.to_dict()\n",
    "dic_val = df_dict['Amp_1MHz'].values()\n",
    "dic_list = list(dic_val)\n",
    "dic_val1 = df_dict['Phase_1MHz'].values()\n",
    "dic_list1 = list(dic_val1)\n",
    "diclist2 = []\n",
    "diclist3 = []\n",
    "for i in range(236) :\n",
    "    diclist2.append(1/dic_list[i])\n",
    "    diclist3.append(1/dic_list1[i])\n",
    "df['A/Z_1MHz'] = diclist2\n",
    "df['Θ/Z_1MHz'] = diclist3"
   ]
  },
  {
   "cell_type": "code",
   "execution_count": 167,
   "metadata": {},
   "outputs": [],
   "source": [
    "df_dict = x.to_dict()\n",
    "dic_val = df_dict['Amp_500kHz'].values()\n",
    "dic_list = list(dic_val)\n",
    "dic_val1 = df_dict['Phase_500kHz'].values()\n",
    "dic_list1 = list(dic_val1)\n",
    "diclist2 = []\n",
    "diclist3 = []\n",
    "for i in range(236) :\n",
    "    diclist2.append(1/dic_list[i])\n",
    "    diclist3.append(1/dic_list1[i])\n",
    "df['A/Z_500kHz'] = diclist2\n",
    "df['Θ/Z_500kHz'] = diclist3"
   ]
  },
  {
   "cell_type": "code",
   "execution_count": 168,
   "metadata": {},
   "outputs": [],
   "source": [
    "df_dict = x.to_dict()\n",
    "dic_val = df_dict['Amp_100kHz'].values()\n",
    "dic_list = list(dic_val)\n",
    "dic_val1 = df_dict['Phase_100kHz'].values()\n",
    "dic_list1 = list(dic_val1)\n",
    "diclist2 = []\n",
    "diclist3 = []\n",
    "for i in range(236) :\n",
    "    diclist2.append(1/dic_list[i])\n",
    "    diclist3.append(1/dic_list1[i])\n",
    "df['A/Z_100kHz'] = diclist2\n",
    "df['Θ/Z_100kHz'] = diclist3"
   ]
  },
  {
   "cell_type": "code",
   "execution_count": 169,
   "metadata": {},
   "outputs": [],
   "source": [
    "df_dict = x.to_dict()\n",
    "dic_val = df_dict['Amp_50kHz'].values()\n",
    "dic_list = list(dic_val)\n",
    "dic_val1 = df_dict['Phase_50kHz'].values()\n",
    "dic_list1 = list(dic_val1)\n",
    "diclist2 = []\n",
    "diclist3 = []\n",
    "for i in range(236) :\n",
    "    diclist2.append(1/dic_list[i])\n",
    "    diclist3.append(1/dic_list1[i])\n",
    "df['A/Z_50kHz'] = diclist2\n",
    "df['Θ/Z_50kHz'] = diclist3"
   ]
  },
  {
   "cell_type": "code",
   "execution_count": 170,
   "metadata": {},
   "outputs": [],
   "source": [
    "df_dict = x.to_dict()\n",
    "dic_val = df_dict['Amp_10kHz'].values()\n",
    "dic_list = list(dic_val)\n",
    "dic_val1 = df_dict['Phase_10kHz'].values()\n",
    "dic_list1 = list(dic_val1)\n",
    "diclist2 = []\n",
    "diclist3 = []\n",
    "for i in range(236) :\n",
    "    diclist2.append(1/dic_list[i])\n",
    "    diclist3.append(1/dic_list1[i])\n",
    "df['A/Z_10kHz'] = diclist2\n",
    "df['Θ/Z_10kHz'] = diclist3"
   ]
  },
  {
   "cell_type": "code",
   "execution_count": 171,
   "metadata": {},
   "outputs": [],
   "source": [
    "df['label'] = y\n",
    "df.to_csv(\"admittance.csv\", index = False)"
   ]
  },
  {
   "cell_type": "code",
   "execution_count": 156,
   "metadata": {},
   "outputs": [],
   "source": [
    "df_dict = x.to_dict()\n",
    "dic_val = df_dict['Amp_1MHz'].values()\n",
    "dic_list = list(dic_val)\n",
    "dic_val1 = df_dict['Phase_1MHz'].values()\n",
    "dic_list1 = list(dic_val1)\n",
    "diclist2 = []\n",
    "diclist3 = []\n",
    "for i in range(236) :\n",
    "    diclist2.append(1/dic_list[i] * math.cos(1/dic_list1[i]))\n",
    "    diclist3.append(1/dic_list[i] * math.sin(1/dic_list1[i]))\n",
    "df['G_1MHz'] = diclist2\n",
    "df['B_1MHz'] = diclist3\n"
   ]
  },
  {
   "cell_type": "code",
   "execution_count": 157,
   "metadata": {},
   "outputs": [],
   "source": [
    "df_dict = x.to_dict()\n",
    "dic_val = df_dict['Amp_500kHz'].values()\n",
    "dic_list = list(dic_val)\n",
    "dic_val1 = df_dict['Phase_500kHz'].values()\n",
    "dic_list1 = list(dic_val1)\n",
    "diclist2 = []\n",
    "diclist3 = []\n",
    "for i in range(236) :\n",
    "    diclist2.append(1/dic_list[i] * math.cos(1/dic_list1[i]))\n",
    "    diclist3.append(1/dic_list[i] * math.sin(1/dic_list1[i]))\n",
    "df['G_500kHz'] = diclist2\n",
    "df['B_500MHz'] = diclist3"
   ]
  },
  {
   "cell_type": "code",
   "execution_count": 158,
   "metadata": {},
   "outputs": [],
   "source": [
    "df_dict = x.to_dict()\n",
    "dic_val = df_dict['Amp_100kHz'].values()\n",
    "dic_list = list(dic_val)\n",
    "dic_val1 = df_dict['Phase_100kHz'].values()\n",
    "dic_list1 = list(dic_val1)\n",
    "diclist2 = []\n",
    "diclist3 = []\n",
    "for i in range(236) :\n",
    "    diclist2.append(1/dic_list[i] * math.cos(1/dic_list1[i]))\n",
    "    diclist3.append(1/dic_list[i] * math.sin(1/dic_list1[i]))\n",
    "df['G_100kHz'] = diclist2\n",
    "df['B_100MHz'] = diclist3"
   ]
  },
  {
   "cell_type": "code",
   "execution_count": 159,
   "metadata": {},
   "outputs": [],
   "source": [
    "df_dict = x.to_dict()\n",
    "dic_val = df_dict['Amp_50kHz'].values()\n",
    "dic_list = list(dic_val)\n",
    "dic_val1 = df_dict['Phase_50kHz'].values()\n",
    "dic_list1 = list(dic_val1)\n",
    "diclist2 = []\n",
    "diclist3 = []\n",
    "for i in range(236) :\n",
    "    diclist2.append(1/dic_list[i] * math.cos(1/dic_list1[i]))\n",
    "    diclist3.append(1/dic_list[i] * math.sin(1/dic_list1[i]))\n",
    "df['G_50kHz'] = diclist2\n",
    "df['B_50MHz'] = diclist3"
   ]
  },
  {
   "cell_type": "code",
   "execution_count": 160,
   "metadata": {},
   "outputs": [],
   "source": [
    "df_dict = x.to_dict()\n",
    "dic_val = df_dict['Amp_10kHz'].values()\n",
    "dic_list = list(dic_val)\n",
    "dic_val1 = df_dict['Phase_10kHz'].values()\n",
    "dic_list1 = list(dic_val1)\n",
    "diclist2 = []\n",
    "diclist3 = []\n",
    "for i in range(236) :\n",
    "    diclist2.append(1/dic_list[i] * math.cos(1/dic_list1[i]))\n",
    "    diclist3.append(1/dic_list[i] * math.sin(1/dic_list1[i]))\n",
    "df['G_10kHz'] = diclist2\n",
    "df['B_10MHz'] = diclist3"
   ]
  },
  {
   "cell_type": "code",
   "execution_count": null,
   "metadata": {},
   "outputs": [],
   "source": [
    "df['label'] = y\n",
    "df.to_csv(\"susceptance.csv\", index = False)"
   ]
  }
 ],
 "metadata": {
  "kernelspec": {
   "display_name": "Python 3.8.8 ('tensorflow')",
   "language": "python",
   "name": "python3"
  },
  "language_info": {
   "codemirror_mode": {
    "name": "ipython",
    "version": 3
   },
   "file_extension": ".py",
   "mimetype": "text/x-python",
   "name": "python",
   "nbconvert_exporter": "python",
   "pygments_lexer": "ipython3",
   "version": "3.8.8"
  },
  "orig_nbformat": 4,
  "vscode": {
   "interpreter": {
    "hash": "a67d1e513a63fb5df12a1f88f9fb53c8b960337494b38d9e1ad0fe9c421b1da6"
   }
  }
 },
 "nbformat": 4,
 "nbformat_minor": 2
}
