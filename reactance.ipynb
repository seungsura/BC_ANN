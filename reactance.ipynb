{
 "cells": [
  {
   "cell_type": "code",
   "execution_count": 1,
   "metadata": {},
   "outputs": [],
   "source": [
    "import numpy as np\n",
    "import pylab as pl\n",
    "import pandas as pd\n",
    "import math\n",
    "import csv"
   ]
  },
  {
   "cell_type": "code",
   "execution_count": 2,
   "metadata": {},
   "outputs": [],
   "source": [
    "data = pd.read_csv(\"bladder_cancer.csv\")\n",
    "data.head(3)\n",
    "\n",
    "data = data.dropna()\n",
    "y = data['Label']\n",
    "x = pd.DataFrame(data, columns=['Amp_1MHz', 'Phase_1MHz', 'Amp_500kHz', 'Phase_500kHz', 'Amp_100kHz', 'Phase_100kHz', 'Amp_50kHz', 'Phase_50kHz', 'Amp_10kHz', 'Phase_10kHz'])"
   ]
  },
  {
   "cell_type": "code",
   "execution_count": 3,
   "metadata": {},
   "outputs": [],
   "source": [
    "df = pd.DataFrame(data, columns= ['Amp_1MHz', 'Phase_1MHz', 'Amp_500kHz', 'Phase_500kHz', 'Amp_100kHz', 'Phase_100kHz', 'Amp_50kHz', 'Phase_50kHz', 'Amp_10kHz', 'Phase_10kHz'])"
   ]
  },
  {
   "cell_type": "code",
   "execution_count": 4,
   "metadata": {},
   "outputs": [],
   "source": [
    "df_dict = x.to_dict()\n",
    "dic_val = df_dict['Amp_1MHz'].values()\n",
    "dic_list = list(dic_val)\n",
    "dic_val1 = df_dict['Phase_1MHz'].values()\n",
    "dic_list1 = list(dic_val1)"
   ]
  },
  {
   "cell_type": "code",
   "execution_count": 5,
   "metadata": {},
   "outputs": [],
   "source": [
    "diclist2 = []\n",
    "diclist3 = []\n",
    "for i in range(236) :\n",
    "    diclist2.append(dic_list[i] * math.cos(math.radians(dic_list1[i])))\n",
    "    diclist3.append(dic_list[i] * math.sin(math.radians(dic_list1[i])))\n"
   ]
  },
  {
   "cell_type": "code",
   "execution_count": 6,
   "metadata": {},
   "outputs": [],
   "source": [
    "df['R_1MHz'] = diclist2\n",
    "df['X_1MHz'] = diclist3\n"
   ]
  },
  {
   "cell_type": "code",
   "execution_count": 7,
   "metadata": {},
   "outputs": [],
   "source": [
    "df_dict = x.to_dict()\n",
    "dic_val = df_dict['Amp_500kHz'].values()\n",
    "dic_list = list(dic_val)\n",
    "dic_val1 = df_dict['Phase_500kHz'].values()\n",
    "dic_list1 = list(dic_val1)\n",
    "diclist2 = []\n",
    "diclist3 = []\n",
    "for i in range(236) :\n",
    "    diclist2.append(dic_list[i] * math.cos(math.radians(dic_list1[i])))\n",
    "    diclist3.append(dic_list[i] * math.sin(math.radians(dic_list1[i])))\n",
    "df['R_500kHz'] = diclist2\n",
    "df['X_500MHz'] = diclist3\n"
   ]
  },
  {
   "cell_type": "code",
   "execution_count": 8,
   "metadata": {},
   "outputs": [],
   "source": [
    "df_dict = x.to_dict()\n",
    "dic_val = df_dict['Amp_100kHz'].values()\n",
    "dic_list = list(dic_val)\n",
    "dic_val1 = df_dict['Phase_100kHz'].values()\n",
    "dic_list1 = list(dic_val1)\n",
    "diclist2 = []\n",
    "diclist3 = []\n",
    "for i in range(236) :\n",
    "    diclist2.append(dic_list[i] * math.cos(math.radians(dic_list1[i])))\n",
    "    diclist3.append(dic_list[i] * math.sin(math.radians(dic_list1[i])))\n",
    "df['R_100kHz'] = diclist2\n",
    "df['X_100MHz'] = diclist3\n"
   ]
  },
  {
   "cell_type": "code",
   "execution_count": 9,
   "metadata": {},
   "outputs": [],
   "source": [
    "df_dict = x.to_dict()\n",
    "dic_val = df_dict['Amp_50kHz'].values()\n",
    "dic_list = list(dic_val)\n",
    "dic_val1 = df_dict['Phase_50kHz'].values()\n",
    "dic_list1 = list(dic_val1)\n",
    "diclist2 = []\n",
    "diclist3 = []\n",
    "for i in range(236) :\n",
    "    diclist2.append(dic_list[i] * math.cos(math.radians(dic_list1[i])))\n",
    "    diclist3.append(dic_list[i] * math.sin(math.radians(dic_list1[i])))\n",
    "df['R_50kHz'] = diclist2\n",
    "df['X_50MHz'] = diclist3\n"
   ]
  },
  {
   "cell_type": "code",
   "execution_count": 10,
   "metadata": {},
   "outputs": [],
   "source": [
    "df_dict = x.to_dict()\n",
    "dic_val = df_dict['Amp_10kHz'].values()\n",
    "dic_list = list(dic_val)\n",
    "dic_val1 = df_dict['Phase_10kHz'].values()\n",
    "dic_list1 = list(dic_val1)\n",
    "diclist2 = []\n",
    "diclist3 = []\n",
    "for i in range(236) :\n",
    "    diclist2.append(dic_list[i] * math.cos(math.radians(dic_list1[i])))\n",
    "    diclist3.append(dic_list[i] * math.sin(math.radians(dic_list1[i])))\n",
    "df['R_10kHz'] = diclist2\n",
    "df['X_10MHz'] = diclist3\n"
   ]
  },
  {
   "cell_type": "code",
   "execution_count": 11,
   "metadata": {},
   "outputs": [],
   "source": [
    "\n",
    "df.to_csv(\"reactance.csv\", index = False)"
   ]
  },
  {
   "cell_type": "code",
   "execution_count": 12,
   "metadata": {},
   "outputs": [],
   "source": [
    "df_dict = x.to_dict()\n",
    "dic_val = df_dict['Amp_1MHz'].values()\n",
    "dic_list = list(dic_val)\n",
    "dic_val1 = df_dict['Phase_1MHz'].values()\n",
    "dic_list1 = list(dic_val1)\n",
    "diclist2 = []\n",
    "diclist3 = []\n",
    "for i in range(236) :\n",
    "    diclist2.append(1/dic_list[i])\n",
    "    diclist3.append(-dic_list1[i])\n",
    "df['A/Z_1MHz'] = diclist2\n",
    "df['Θ/Z_1MHz'] = diclist3"
   ]
  },
  {
   "cell_type": "code",
   "execution_count": 13,
   "metadata": {},
   "outputs": [],
   "source": [
    "df_dict = x.to_dict()\n",
    "dic_val = df_dict['Amp_500kHz'].values()\n",
    "dic_list = list(dic_val)\n",
    "dic_val1 = df_dict['Phase_500kHz'].values()\n",
    "dic_list1 = list(dic_val1)\n",
    "diclist2 = []\n",
    "diclist3 = []\n",
    "for i in range(236) :\n",
    "    diclist2.append(1/dic_list[i])\n",
    "    diclist3.append(-dic_list1[i])\n",
    "df['A/Z_500kHz'] = diclist2\n",
    "df['Θ/Z_500kHz'] = diclist3"
   ]
  },
  {
   "cell_type": "code",
   "execution_count": 14,
   "metadata": {},
   "outputs": [],
   "source": [
    "df_dict = x.to_dict()\n",
    "dic_val = df_dict['Amp_100kHz'].values()\n",
    "dic_list = list(dic_val)\n",
    "dic_val1 = df_dict['Phase_100kHz'].values()\n",
    "dic_list1 = list(dic_val1)\n",
    "diclist2 = []\n",
    "diclist3 = []\n",
    "for i in range(236) :\n",
    "    diclist2.append(1/dic_list[i])\n",
    "    diclist3.append(-dic_list1[i])\n",
    "df['A/Z_100kHz'] = diclist2\n",
    "df['Θ/Z_100kHz'] = diclist3"
   ]
  },
  {
   "cell_type": "code",
   "execution_count": 15,
   "metadata": {},
   "outputs": [],
   "source": [
    "df_dict = x.to_dict()\n",
    "dic_val = df_dict['Amp_50kHz'].values()\n",
    "dic_list = list(dic_val)\n",
    "dic_val1 = df_dict['Phase_50kHz'].values()\n",
    "dic_list1 = list(dic_val1)\n",
    "diclist2 = []\n",
    "diclist3 = []\n",
    "for i in range(236) :\n",
    "    diclist2.append(1/dic_list[i])\n",
    "    diclist3.append(-dic_list1[i])\n",
    "df['A/Z_50kHz'] = diclist2\n",
    "df['Θ/Z_50kHz'] = diclist3"
   ]
  },
  {
   "cell_type": "code",
   "execution_count": 16,
   "metadata": {},
   "outputs": [],
   "source": [
    "df_dict = x.to_dict()\n",
    "dic_val = df_dict['Amp_10kHz'].values()\n",
    "dic_list = list(dic_val)\n",
    "dic_val1 = df_dict['Phase_10kHz'].values()\n",
    "dic_list1 = list(dic_val1)\n",
    "diclist2 = []\n",
    "diclist3 = []\n",
    "for i in range(236) :\n",
    "    diclist2.append(1/dic_list[i])\n",
    "    diclist3.append(-dic_list1[i])\n",
    "df['A/Z_10kHz'] = diclist2\n",
    "df['Θ/Z_10kHz'] = diclist3"
   ]
  },
  {
   "cell_type": "code",
   "execution_count": 17,
   "metadata": {},
   "outputs": [],
   "source": [
    "\n",
    "df.to_csv(\"admittance.csv\", index = False)"
   ]
  },
  {
   "cell_type": "code",
   "execution_count": 18,
   "metadata": {},
   "outputs": [],
   "source": [
    "df_dict = x.to_dict()\n",
    "dic_val = df_dict['Amp_1MHz'].values()\n",
    "dic_list = list(dic_val)\n",
    "dic_val1 = df_dict['Phase_1MHz'].values()\n",
    "dic_list1 = list(dic_val1)\n",
    "diclist2 = []\n",
    "diclist3 = []\n",
    "for i in range(236) :\n",
    "    diclist2.append(1/dic_list[i] * math.cos(math.radians(1/dic_list1[i])))\n",
    "    diclist3.append(1/dic_list[i] * math.sin(math.radians(-dic_list1[i])))\n",
    "df['G_1MHz'] = diclist2\n",
    "df['B_1MHz'] = diclist3\n"
   ]
  },
  {
   "cell_type": "code",
   "execution_count": 19,
   "metadata": {},
   "outputs": [],
   "source": [
    "df_dict = x.to_dict()\n",
    "dic_val = df_dict['Amp_500kHz'].values()\n",
    "dic_list = list(dic_val)\n",
    "dic_val1 = df_dict['Phase_500kHz'].values()\n",
    "dic_list1 = list(dic_val1)\n",
    "diclist2 = []\n",
    "diclist3 = []\n",
    "for i in range(236) :\n",
    "    diclist2.append(1/dic_list[i] * math.cos(math.radians(1/dic_list1[i])))\n",
    "    diclist3.append(1/dic_list[i] * math.sin(math.radians(-dic_list1[i])))\n",
    "df['G_500kHz'] = diclist2\n",
    "df['B_500MHz'] = diclist3"
   ]
  },
  {
   "cell_type": "code",
   "execution_count": 20,
   "metadata": {},
   "outputs": [],
   "source": [
    "df_dict = x.to_dict()\n",
    "dic_val = df_dict['Amp_100kHz'].values()\n",
    "dic_list = list(dic_val)\n",
    "dic_val1 = df_dict['Phase_100kHz'].values()\n",
    "dic_list1 = list(dic_val1)\n",
    "diclist2 = []\n",
    "diclist3 = []\n",
    "for i in range(236) :\n",
    "    diclist2.append(1/dic_list[i] * math.cos(math.radians(1/dic_list1[i])))\n",
    "    diclist3.append(1/dic_list[i] * math.sin(math.radians(-dic_list1[i])))\n",
    "df['G_100kHz'] = diclist2\n",
    "df['B_100MHz'] = diclist3"
   ]
  },
  {
   "cell_type": "code",
   "execution_count": 21,
   "metadata": {},
   "outputs": [],
   "source": [
    "df_dict = x.to_dict()\n",
    "dic_val = df_dict['Amp_50kHz'].values()\n",
    "dic_list = list(dic_val)\n",
    "dic_val1 = df_dict['Phase_50kHz'].values()\n",
    "dic_list1 = list(dic_val1)\n",
    "diclist2 = []\n",
    "diclist3 = []\n",
    "for i in range(236) :\n",
    "    diclist2.append(1/dic_list[i] * math.cos(math.radians(1/dic_list1[i])))\n",
    "    diclist3.append(1/dic_list[i] * math.sin(math.radians(-dic_list1[i])))\n",
    "df['G_50kHz'] = diclist2\n",
    "df['B_50MHz'] = diclist3"
   ]
  },
  {
   "cell_type": "code",
   "execution_count": 22,
   "metadata": {},
   "outputs": [],
   "source": [
    "df_dict = x.to_dict()\n",
    "dic_val = df_dict['Amp_10kHz'].values()\n",
    "dic_list = list(dic_val)\n",
    "dic_val1 = df_dict['Phase_10kHz'].values()\n",
    "dic_list1 = list(dic_val1)\n",
    "diclist2 = []\n",
    "diclist3 = []\n",
    "for i in range(236) :\n",
    "    diclist2.append(1/dic_list[i] * math.cos(math.radians(1/dic_list1[i])))\n",
    "    diclist3.append(1/dic_list[i] * math.sin(math.radians(-dic_list1[i])))\n",
    "df['G_10kHz'] = diclist2\n",
    "df['B_10MHz'] = diclist3"
   ]
  },
  {
   "cell_type": "code",
   "execution_count": 23,
   "metadata": {},
   "outputs": [],
   "source": [
    "df['label'] = y\n",
    "df.to_csv(\"total.csv\", index = False)"
   ]
  }
 ],
 "metadata": {
  "kernelspec": {
   "display_name": "Python 3.8.8 ('tensorflow')",
   "language": "python",
   "name": "python3"
  },
  "language_info": {
   "codemirror_mode": {
    "name": "ipython",
    "version": 3
   },
   "file_extension": ".py",
   "mimetype": "text/x-python",
   "name": "python",
   "nbconvert_exporter": "python",
   "pygments_lexer": "ipython3",
   "version": "3.8.8"
  },
  "orig_nbformat": 4,
  "vscode": {
   "interpreter": {
    "hash": "a67d1e513a63fb5df12a1f88f9fb53c8b960337494b38d9e1ad0fe9c421b1da6"
   }
  }
 },
 "nbformat": 4,
 "nbformat_minor": 2
}
